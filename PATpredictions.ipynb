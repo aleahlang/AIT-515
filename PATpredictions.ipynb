{
 "cells": [
  {
   "cell_type": "code",
   "execution_count": 86,
   "id": "4bd63819-8305-4897-9ae7-fffec9a1eed8",
   "metadata": {},
   "outputs": [],
   "source": [
    "import numpy as np\n",
    "import pandas as pd\n",
    "import matplotlib.pyplot as plt\n",
    "import warnings\n",
    "warnings.filterwarnings(\"ignore\")\n",
    "from pylab import rcParams\n",
    "rcParams['figure.figsize'] = 12,8\n",
    "\n",
    "from scipy import stats\n",
    "\n",
    "from statsmodels.tsa.stattools import adfuller\n",
    "\n",
    "from statsmodels.graphics.tsaplots import plot_acf, plot_pacf\n",
    "\n",
    "from statsmodels.tsa.seasonal import seasonal_decompose\n",
    "\n",
    "from statsmodels.tsa.arima_model import ARIMA,ARIMAResults\n",
    "\n",
    "from statsmodels.tsa.statespace.sarimax import SARIMAX\n",
    "\n",
    "from statsmodels.tools.eval_measures import rmse\n",
    "\n",
    "from sklearn.metrics import accuracy_score\n",
    "\n",
    "from sklearn.neural_network import MLPClassifier\n",
    "\n",
    "import sklearn.tree as tree\n",
    "\n",
    "from sklearn.metrics import confusion_matrix\n",
    "\n",
    "from sklearn.ensemble import RandomForestClassifier"
   ]
  },
  {
   "cell_type": "markdown",
   "id": "16dd69ad-1f2d-4cba-a7c4-c6dcfe47aebd",
   "metadata": {},
   "source": [
    "PAT predicitions from 2021"
   ]
  },
  {
   "cell_type": "code",
   "execution_count": 87,
   "id": "a44728d4-e7cc-4348-ba34-a8f9430d3d3a",
   "metadata": {},
   "outputs": [],
   "source": [
    "df = pd.read_csv(\"INV.csv\")"
   ]
  },
  {
   "cell_type": "code",
   "execution_count": 88,
   "id": "06203243-9576-496d-b424-a65fe5688ca3",
   "metadata": {},
   "outputs": [
    {
     "data": {
      "text/html": [
       "<div>\n",
       "<style scoped>\n",
       "    .dataframe tbody tr th:only-of-type {\n",
       "        vertical-align: middle;\n",
       "    }\n",
       "\n",
       "    .dataframe tbody tr th {\n",
       "        vertical-align: top;\n",
       "    }\n",
       "\n",
       "    .dataframe thead th {\n",
       "        text-align: right;\n",
       "    }\n",
       "</style>\n",
       "<table border=\"1\" class=\"dataframe\">\n",
       "  <thead>\n",
       "    <tr style=\"text-align: right;\">\n",
       "      <th></th>\n",
       "      <th>InvoiceNumber</th>\n",
       "      <th>InvoiceDate</th>\n",
       "      <th>PONumber</th>\n",
       "      <th>ManufacturerName</th>\n",
       "      <th>CustomerName</th>\n",
       "      <th>Value</th>\n",
       "      <th>Receivable</th>\n",
       "      <th>Received</th>\n",
       "      <th>DueDate</th>\n",
       "      <th>PaymentDate</th>\n",
       "      <th>...</th>\n",
       "      <th>PATdays</th>\n",
       "      <th>DaysClass</th>\n",
       "      <th>PATdiff</th>\n",
       "      <th>PATclass</th>\n",
       "      <th>PATweek</th>\n",
       "      <th>ActualWeek</th>\n",
       "      <th>DaysClassNum</th>\n",
       "      <th>PATclassNum</th>\n",
       "      <th>PATweekNum</th>\n",
       "      <th>ActualWeekNum</th>\n",
       "    </tr>\n",
       "  </thead>\n",
       "  <tbody>\n",
       "    <tr>\n",
       "      <th>0</th>\n",
       "      <td>3134609 3137016 3138761</td>\n",
       "      <td>1/1/2021</td>\n",
       "      <td>S5506340</td>\n",
       "      <td>Holm Lighting</td>\n",
       "      <td>QED Loveland</td>\n",
       "      <td>6655.50</td>\n",
       "      <td>0.00</td>\n",
       "      <td>6655.50</td>\n",
       "      <td>3/2/2021</td>\n",
       "      <td>2/15/2021</td>\n",
       "      <td>...</td>\n",
       "      <td>7</td>\n",
       "      <td>NextMonth</td>\n",
       "      <td>38</td>\n",
       "      <td>ThisMonth</td>\n",
       "      <td>ThisWeek</td>\n",
       "      <td>7Week</td>\n",
       "      <td>2</td>\n",
       "      <td>1</td>\n",
       "      <td>1</td>\n",
       "      <td>7</td>\n",
       "    </tr>\n",
       "    <tr>\n",
       "      <th>1</th>\n",
       "      <td>432151543</td>\n",
       "      <td>1/2/2021</td>\n",
       "      <td>378072603</td>\n",
       "      <td>Hubbell Lighting</td>\n",
       "      <td>Winsupply Rock Springs Wy.</td>\n",
       "      <td>25.54</td>\n",
       "      <td>-0.01</td>\n",
       "      <td>25.55</td>\n",
       "      <td>2/1/2021</td>\n",
       "      <td>2/5/2021</td>\n",
       "      <td>...</td>\n",
       "      <td>14</td>\n",
       "      <td>NextMonth</td>\n",
       "      <td>20</td>\n",
       "      <td>ThisMonth</td>\n",
       "      <td>NextWeek</td>\n",
       "      <td>5Week</td>\n",
       "      <td>2</td>\n",
       "      <td>1</td>\n",
       "      <td>2</td>\n",
       "      <td>5</td>\n",
       "    </tr>\n",
       "    <tr>\n",
       "      <th>2</th>\n",
       "      <td>18404</td>\n",
       "      <td>1/4/2021</td>\n",
       "      <td>20090256448</td>\n",
       "      <td>3G Lighting</td>\n",
       "      <td>Specification Credit</td>\n",
       "      <td>35.84</td>\n",
       "      <td>-0.16</td>\n",
       "      <td>36.00</td>\n",
       "      <td>5/4/2021</td>\n",
       "      <td>1/18/2021</td>\n",
       "      <td>...</td>\n",
       "      <td>7</td>\n",
       "      <td>ThisMonth</td>\n",
       "      <td>7</td>\n",
       "      <td>ThisMonth</td>\n",
       "      <td>ThisWeek</td>\n",
       "      <td>NextWeek</td>\n",
       "      <td>1</td>\n",
       "      <td>1</td>\n",
       "      <td>1</td>\n",
       "      <td>2</td>\n",
       "    </tr>\n",
       "    <tr>\n",
       "      <th>3</th>\n",
       "      <td>577735</td>\n",
       "      <td>1/4/2021</td>\n",
       "      <td>1872KB997781D</td>\n",
       "      <td>Barron Lighting Group</td>\n",
       "      <td>CED Denver</td>\n",
       "      <td>172.63</td>\n",
       "      <td>0.00</td>\n",
       "      <td>172.63</td>\n",
       "      <td>2/3/2021</td>\n",
       "      <td>2/11/2021</td>\n",
       "      <td>...</td>\n",
       "      <td>35</td>\n",
       "      <td>NextMonth</td>\n",
       "      <td>3</td>\n",
       "      <td>NextMonth</td>\n",
       "      <td>5Week</td>\n",
       "      <td>6Week</td>\n",
       "      <td>2</td>\n",
       "      <td>2</td>\n",
       "      <td>5</td>\n",
       "      <td>6</td>\n",
       "    </tr>\n",
       "    <tr>\n",
       "      <th>4</th>\n",
       "      <td>432154892</td>\n",
       "      <td>1/4/2021</td>\n",
       "      <td>1126GR949627S</td>\n",
       "      <td>Columbia</td>\n",
       "      <td>All Phase Electric Supply CS</td>\n",
       "      <td>46.01</td>\n",
       "      <td>-0.01</td>\n",
       "      <td>46.02</td>\n",
       "      <td>2/3/2021</td>\n",
       "      <td>2/5/2021</td>\n",
       "      <td>...</td>\n",
       "      <td>28</td>\n",
       "      <td>NextMonth</td>\n",
       "      <td>4</td>\n",
       "      <td>ThisMonth</td>\n",
       "      <td>4Week</td>\n",
       "      <td>5Week</td>\n",
       "      <td>2</td>\n",
       "      <td>1</td>\n",
       "      <td>4</td>\n",
       "      <td>5</td>\n",
       "    </tr>\n",
       "  </tbody>\n",
       "</table>\n",
       "<p>5 rows × 22 columns</p>\n",
       "</div>"
      ],
      "text/plain": [
       "             InvoiceNumber InvoiceDate       PONumber       ManufacturerName  \\\n",
       "0  3134609 3137016 3138761    1/1/2021       S5506340          Holm Lighting   \n",
       "1                432151543    1/2/2021      378072603       Hubbell Lighting   \n",
       "2                    18404    1/4/2021    20090256448            3G Lighting   \n",
       "3                   577735    1/4/2021  1872KB997781D  Barron Lighting Group   \n",
       "4                432154892    1/4/2021  1126GR949627S               Columbia   \n",
       "\n",
       "                   CustomerName    Value  Receivable  Received   DueDate  \\\n",
       "0                  QED Loveland  6655.50        0.00   6655.50  3/2/2021   \n",
       "1    Winsupply Rock Springs Wy.    25.54       -0.01     25.55  2/1/2021   \n",
       "2          Specification Credit    35.84       -0.16     36.00  5/4/2021   \n",
       "3                    CED Denver   172.63        0.00    172.63  2/3/2021   \n",
       "4  All Phase Electric Supply CS    46.01       -0.01     46.02  2/3/2021   \n",
       "\n",
       "  PaymentDate  ... PATdays  DaysClass  PATdiff   PATclass   PATweek  \\\n",
       "0   2/15/2021  ...       7  NextMonth       38  ThisMonth  ThisWeek   \n",
       "1    2/5/2021  ...      14  NextMonth       20  ThisMonth  NextWeek   \n",
       "2   1/18/2021  ...       7  ThisMonth        7  ThisMonth  ThisWeek   \n",
       "3   2/11/2021  ...      35  NextMonth        3  NextMonth     5Week   \n",
       "4    2/5/2021  ...      28  NextMonth        4  ThisMonth     4Week   \n",
       "\n",
       "  ActualWeek DaysClassNum PATclassNum  PATweekNum  ActualWeekNum  \n",
       "0      7Week            2           1           1              7  \n",
       "1      5Week            2           1           2              5  \n",
       "2   NextWeek            1           1           1              2  \n",
       "3      6Week            2           2           5              6  \n",
       "4      5Week            2           1           4              5  \n",
       "\n",
       "[5 rows x 22 columns]"
      ]
     },
     "execution_count": 88,
     "metadata": {},
     "output_type": "execute_result"
    }
   ],
   "source": [
    "df.head()"
   ]
  },
  {
   "cell_type": "code",
   "execution_count": 89,
   "id": "1cde14b8-3ebb-45b4-97dc-ee502b163efb",
   "metadata": {},
   "outputs": [],
   "source": [
    "PAT = df['PATdays']"
   ]
  },
  {
   "cell_type": "code",
   "execution_count": 90,
   "id": "b8397865-adf5-46b7-9b0b-00391bd9b404",
   "metadata": {},
   "outputs": [],
   "source": [
    "Actual = df['ActualDays']"
   ]
  },
  {
   "cell_type": "code",
   "execution_count": 91,
   "id": "be9b2c8d-815f-4ac3-b166-7e6c8b7f093e",
   "metadata": {},
   "outputs": [],
   "source": [
    "Diff = Actual - PAT"
   ]
  },
  {
   "cell_type": "code",
   "execution_count": 92,
   "id": "47be074a-d29b-4222-bcb7-6defce08d02c",
   "metadata": {},
   "outputs": [
    {
     "data": {
      "text/plain": [
       "0       38\n",
       "1       20\n",
       "2        7\n",
       "3        3\n",
       "4        4\n",
       "        ..\n",
       "2008     1\n",
       "2009   -42\n",
       "2010    -7\n",
       "2011    -7\n",
       "2012    -7\n",
       "Length: 2013, dtype: int64"
      ]
     },
     "execution_count": 92,
     "metadata": {},
     "output_type": "execute_result"
    }
   ],
   "source": [
    "Diff"
   ]
  },
  {
   "cell_type": "code",
   "execution_count": 35,
   "id": "538d8acf-8667-4b09-9aa3-625c605fc3de",
   "metadata": {},
   "outputs": [
    {
     "data": {
      "text/plain": [
       "<AxesSubplot:>"
      ]
     },
     "execution_count": 35,
     "metadata": {},
     "output_type": "execute_result"
    },
    {
     "data": {
      "image/png": "[encoded data removed]",
      "text/plain": [
       "<Figure size 864x576 with 1 Axes>"
      ]
     },
     "metadata": {
      "needs_background": "light"
     },
     "output_type": "display_data"
    }
   ],
   "source": [
    "Diff.plot()"
   ]
  },
  {
   "cell_type": "code",
   "execution_count": 8,
   "id": "ee4733f4-a928-4244-a202-ec2d1a676e66",
   "metadata": {},
   "outputs": [
    {
     "data": {
      "text/plain": [
       "2.4302036761053154"
      ]
     },
     "execution_count": 8,
     "metadata": {},
     "output_type": "execute_result"
    }
   ],
   "source": [
    "Diff.mean()"
   ]
  },
  {
   "cell_type": "code",
   "execution_count": 10,
   "id": "962e5538-37ba-4984-b734-d452f84380da",
   "metadata": {},
   "outputs": [
    {
     "data": {
      "text/plain": [
       "ManufacturerName\n",
       "Delray Lighting                             70.000000\n",
       "Finelite                                    56.777778\n",
       "Pinnacle Lighting                           47.250000\n",
       "TMS Lighting                                45.500000\n",
       "Delta Light USA                             35.000000\n",
       "ConTech Lighting                            30.362500\n",
       "MixMatch Lighting                           28.000000\n",
       "ARON Lighting, LLC                          28.000000\n",
       "Lightnet USA                                28.000000\n",
       "None                                        25.869565\n",
       "Leotek Electronics USA LLC                  25.200000\n",
       "Trace-Lite                                  24.500000\n",
       "Kenall Lighting                             24.370370\n",
       "Exitronix                                   24.000000\n",
       "Assurance Emergency Lighting                22.166667\n",
       "Lexington Standards                         22.076923\n",
       "Bega Lighting                               21.155556\n",
       "Oxygen Lighting                             21.000000\n",
       "Valmont                                     20.571429\n",
       "Progress Lighting                           20.481481\n",
       "LuxDynamics                                 19.250000\n",
       "RP Lighting                                 18.941176\n",
       "Tempo Industries                            18.666667\n",
       "Barron Lighting Group                       18.407407\n",
       "Lumos Custom                                17.500000\n",
       "W. J. Whatley                               17.500000\n",
       "Beacon Products                             17.266667\n",
       "Compass Life Safety                         17.230769\n",
       "Hubbell Control Solutions                   17.169811\n",
       "Hubbell Lighting                            16.763158\n",
       "Hubbell Industrial Lighting                 16.692308\n",
       "LiteControl                                 15.960000\n",
       "Dual-Lite                                   15.627907\n",
       "Columbia                                    15.528384\n",
       "Hubbell Outdoor Lighting                    14.198113\n",
       "Inter-Lux                                   14.000000\n",
       "Prescolite                                  13.639175\n",
       "Architectural Area Lighting                 12.981818\n",
       "Kim Lighting                                12.645161\n",
       "Beulux                                      12.250000\n",
       "Lumetta                                     10.500000\n",
       "Primus Lighting                             10.500000\n",
       "Watt Stopper                                 7.000000\n",
       "3G Lighting                                  7.000000\n",
       "KLIK USA                                     7.000000\n",
       "Lighting Services, Inc.                      7.000000\n",
       "Insight Lighting                             7.000000\n",
       "Holm Lighting                                7.000000\n",
       "Fluxwerx Illumination Inc.                   7.000000\n",
       "Alphabet Lighting, A Ledrabrands Company     7.000000\n",
       "Wattstopper-EWS                              7.000000\n",
       "Name: PATdays, dtype: float64"
      ]
     },
     "execution_count": 10,
     "metadata": {},
     "output_type": "execute_result"
    }
   ],
   "source": [
    "df.groupby(\"ManufacturerName\")[\"PATdays\"].mean().sort_values(ascending = False)"
   ]
  },
  {
   "cell_type": "code",
   "execution_count": 11,
   "id": "645413b4-d01c-4851-9064-29d00dcd1650",
   "metadata": {},
   "outputs": [
    {
     "data": {
      "text/plain": [
       "ManufacturerName\n",
       "Finelite                                    64.222222\n",
       "Lumos Custom                                49.500000\n",
       "MixMatch Lighting                           46.000000\n",
       "Holm Lighting                               45.000000\n",
       "W. J. Whatley                               45.000000\n",
       "ARON Lighting, LLC                          44.500000\n",
       "Tempo Industries                            43.000000\n",
       "Delray Lighting                             39.000000\n",
       "Leotek Electronics USA LLC                  35.100000\n",
       "Assurance Emergency Lighting                35.000000\n",
       "Lexington Standards                         33.076923\n",
       "Primus Lighting                             33.000000\n",
       "Trace-Lite                                  30.750000\n",
       "Lumetta                                     28.500000\n",
       "None                                        28.260870\n",
       "RP Lighting                                 27.823529\n",
       "Valmont                                     27.204082\n",
       "Kenall Lighting                             26.981481\n",
       "ConTech Lighting                            26.675000\n",
       "Exitronix                                   25.857143\n",
       "LuxDynamics                                 25.500000\n",
       "LiteControl                                 24.360000\n",
       "Progress Lighting                           23.666667\n",
       "Inter-Lux                                   23.000000\n",
       "Fluxwerx Illumination Inc.                  23.000000\n",
       "Beulux                                      22.750000\n",
       "Bega Lighting                               22.422222\n",
       "Barron Lighting Group                       21.888889\n",
       "Pinnacle Lighting                           21.375000\n",
       "Columbia                                    20.615721\n",
       "Hubbell Control Solutions                   20.433962\n",
       "Prescolite                                  19.628866\n",
       "Hubbell Industrial Lighting                 19.384615\n",
       "Compass Life Safety                         19.102564\n",
       "Dual-Lite                                   18.174419\n",
       "Watt Stopper                                18.000000\n",
       "Hubbell Lighting                            17.794486\n",
       "Hubbell Outdoor Lighting                    17.500000\n",
       "Oxygen Lighting                             17.166667\n",
       "Wattstopper-EWS                             17.000000\n",
       "Kim Lighting                                15.048387\n",
       "Architectural Area Lighting                 14.145455\n",
       "Beacon Products                             12.733333\n",
       "3G Lighting                                  7.000000\n",
       "Delta Light USA                              6.000000\n",
       "TMS Lighting                                 0.000000\n",
       "Lightnet USA                                 0.000000\n",
       "Lighting Services, Inc.                      0.000000\n",
       "Insight Lighting                             0.000000\n",
       "Alphabet Lighting, A Ledrabrands Company     0.000000\n",
       "KLIK USA                                     0.000000\n",
       "Name: ActualDays, dtype: float64"
      ]
     },
     "execution_count": 11,
     "metadata": {},
     "output_type": "execute_result"
    }
   ],
   "source": [
    "df.groupby(\"ManufacturerName\")[\"ActualDays\"].mean().sort_values(ascending = False)"
   ]
  },
  {
   "cell_type": "code",
   "execution_count": 12,
   "id": "acd4ac05-07f0-443c-ab24-8bb0ecaacba8",
   "metadata": {},
   "outputs": [],
   "source": [
    "mfg_avg_pat = df.groupby(\"ManufacturerName\")[\"PATdays\"].mean().sort_values(ascending = False)"
   ]
  },
  {
   "cell_type": "code",
   "execution_count": 13,
   "id": "1af2979b-d605-4777-a076-1520067e1adc",
   "metadata": {},
   "outputs": [],
   "source": [
    "mfg_avg_actual = df.groupby(\"ManufacturerName\")[\"ActualDays\"].mean().sort_values(ascending = False)"
   ]
  },
  {
   "cell_type": "code",
   "execution_count": 14,
   "id": "44eabf21-4689-47e8-b489-c563c340c193",
   "metadata": {},
   "outputs": [
    {
     "data": {
      "text/plain": [
       "CustomerName\n",
       "CED Boise                                 70.0\n",
       "Colorado Electric Supply-DNC              63.0\n",
       "Rexel - Ft Collins #7619                  35.0\n",
       "CED Gunnison                              35.0\n",
       "Interstate Meridian                       28.0\n",
       "                                          ... \n",
       "CED Hamilton                               7.0\n",
       "Electrical Wholesale Supply Driggs         7.0\n",
       "Electrical Wholesale Supply - Bozeman      7.0\n",
       "Dealers Electric Supply                    7.0\n",
       "Electrical Wholesale Supply - Missoula     7.0\n",
       "Name: PATdays, Length: 142, dtype: float64"
      ]
     },
     "execution_count": 14,
     "metadata": {},
     "output_type": "execute_result"
    }
   ],
   "source": [
    "df.groupby(\"CustomerName\")[\"PATdays\"].mean().sort_values(ascending = False)"
   ]
  },
  {
   "cell_type": "code",
   "execution_count": 17,
   "id": "724f7177-441b-4d71-8631-427c75203540",
   "metadata": {},
   "outputs": [
    {
     "data": {
      "text/plain": [
       "CustomerName\n",
       "Crum Electric - Denver                  42.0\n",
       "Polestar Distributors                   39.0\n",
       "Crescent Electric Supply- Kalispell     37.5\n",
       "City of Greenwood Village - D           37.0\n",
       "CED Helena                              36.0\n",
       "                                        ... \n",
       "CED Billings                             8.0\n",
       "CED Gunnison                             6.0\n",
       "CED Hamilton                             0.0\n",
       "Regional Transportation District - D     0.0\n",
       "Rexel - Pueblo #3223                     0.0\n",
       "Name: ActualDays, Length: 142, dtype: float64"
      ]
     },
     "execution_count": 17,
     "metadata": {},
     "output_type": "execute_result"
    }
   ],
   "source": [
    "df.groupby(\"CustomerName\")[\"ActualDays\"].mean().sort_values(ascending = False)"
   ]
  },
  {
   "cell_type": "code",
   "execution_count": 15,
   "id": "3771a006-3e4a-4fbd-9f64-2220f76ecec2",
   "metadata": {},
   "outputs": [],
   "source": [
    "customer_avg_pat = df.groupby(\"CustomerName\")[\"PATdays\"].mean().sort_values(ascending = False)"
   ]
  },
  {
   "cell_type": "code",
   "execution_count": 16,
   "id": "2b07352b-9c1d-48fc-af14-6a26c0f012ab",
   "metadata": {},
   "outputs": [],
   "source": [
    "customer_avg_actual = df.groupby(\"CustomerName\")[\"ActualDays\"].mean().sort_values(ascending = False)"
   ]
  },
  {
   "cell_type": "code",
   "execution_count": 18,
   "id": "fbb23bba-f4c1-43d9-ab81-233ec5237787",
   "metadata": {},
   "outputs": [
    {
     "name": "stdout",
     "output_type": "stream",
     "text": [
      "CustomerName\n",
      "All Phase Electric Supply CS    0.485714\n",
      "All Phase Electric Supply GJ    3.666667\n",
      "All Phase Electric Supply GS    3.470588\n",
      "American Electric - Alamosa     4.000000\n",
      "American Electric - Pueblo      0.923077\n",
      "                                  ...   \n",
      "Winlectric - Cheyenne           0.687500\n",
      "Winlectric - Ft. Collins        1.333333\n",
      "Winlectric - Northglenn         9.695652\n",
      "Winsupply Rock Springs Wy.      2.866667\n",
      "XCEL Energy - D                 8.000000\n",
      "Length: 142, dtype: float64\n"
     ]
    }
   ],
   "source": [
    "print(customer_avg_actual - customer_avg_pat)"
   ]
  },
  {
   "cell_type": "code",
   "execution_count": 19,
   "id": "922a130d-b40f-482a-994c-2a18e02c7743",
   "metadata": {},
   "outputs": [
    {
     "data": {
      "text/plain": [
       "ManufacturerName\n",
       "3G Lighting                                  0.000000\n",
       "ARON Lighting, LLC                          16.500000\n",
       "Alphabet Lighting, A Ledrabrands Company    -7.000000\n",
       "Architectural Area Lighting                  1.163636\n",
       "Assurance Emergency Lighting                12.833333\n",
       "Barron Lighting Group                        3.481481\n",
       "Beacon Products                             -4.533333\n",
       "Bega Lighting                                1.266667\n",
       "Beulux                                      10.500000\n",
       "Columbia                                     5.087336\n",
       "Compass Life Safety                          1.871795\n",
       "ConTech Lighting                            -3.687500\n",
       "Delray Lighting                            -31.000000\n",
       "Delta Light USA                            -29.000000\n",
       "Dual-Lite                                    2.546512\n",
       "Exitronix                                    1.857143\n",
       "Finelite                                     7.444444\n",
       "Fluxwerx Illumination Inc.                  16.000000\n",
       "Holm Lighting                               38.000000\n",
       "Hubbell Control Solutions                    3.264151\n",
       "Hubbell Industrial Lighting                  2.692308\n",
       "Hubbell Lighting                             1.031328\n",
       "Hubbell Outdoor Lighting                     3.301887\n",
       "Insight Lighting                            -7.000000\n",
       "Inter-Lux                                    9.000000\n",
       "KLIK USA                                    -7.000000\n",
       "Kenall Lighting                              2.611111\n",
       "Kim Lighting                                 2.403226\n",
       "Leotek Electronics USA LLC                   9.900000\n",
       "Lexington Standards                         11.000000\n",
       "Lighting Services, Inc.                     -7.000000\n",
       "Lightnet USA                               -28.000000\n",
       "LiteControl                                  8.400000\n",
       "Lumetta                                     18.000000\n",
       "Lumos Custom                                32.000000\n",
       "LuxDynamics                                  6.250000\n",
       "MixMatch Lighting                           18.000000\n",
       "None                                         2.391304\n",
       "Oxygen Lighting                             -3.833333\n",
       "Pinnacle Lighting                          -25.875000\n",
       "Prescolite                                   5.989691\n",
       "Primus Lighting                             22.500000\n",
       "Progress Lighting                            3.185185\n",
       "RP Lighting                                  8.882353\n",
       "TMS Lighting                               -45.500000\n",
       "Tempo Industries                            24.333333\n",
       "Trace-Lite                                   6.250000\n",
       "Valmont                                      6.632653\n",
       "W. J. Whatley                               27.500000\n",
       "Watt Stopper                                11.000000\n",
       "Wattstopper-EWS                             10.000000\n",
       "dtype: float64"
      ]
     },
     "execution_count": 19,
     "metadata": {},
     "output_type": "execute_result"
    }
   ],
   "source": [
    "mfg_avg_actual - mfg_avg_pat"
   ]
  },
  {
   "cell_type": "code",
   "execution_count": 24,
   "id": "c4bd127c-543f-4941-9508-1ccd8ea7330c",
   "metadata": {},
   "outputs": [
    {
     "data": {
      "text/plain": [
       "142"
      ]
     },
     "execution_count": 24,
     "metadata": {},
     "output_type": "execute_result"
    }
   ],
   "source": [
    "len(df['CustomerName'].unique())"
   ]
  },
  {
   "cell_type": "code",
   "execution_count": 25,
   "id": "07596130-8324-4a8b-ad17-a6ac3456db11",
   "metadata": {},
   "outputs": [
    {
     "data": {
      "text/plain": [
       "51"
      ]
     },
     "execution_count": 25,
     "metadata": {},
     "output_type": "execute_result"
    }
   ],
   "source": [
    "len(df['ManufacturerName'].unique())"
   ]
  },
  {
   "cell_type": "code",
   "execution_count": 29,
   "id": "adb2d845-982a-40d6-9af7-35afab4b5d4a",
   "metadata": {},
   "outputs": [],
   "source": [
    "mfg_df = df.groupby(by=\"ManufacturerName\")[\"Value\"].sum()"
   ]
  },
  {
   "cell_type": "code",
   "execution_count": 27,
   "id": "2df85021-a578-4724-8f47-6f9e688307aa",
   "metadata": {},
   "outputs": [
    {
     "data": {
      "text/plain": [
       "<AxesSubplot:xlabel='ManufacturerName'>"
      ]
     },
     "execution_count": 27,
     "metadata": {},
     "output_type": "execute_result"
    },
    {
     "data": {
      "image/png": "[encoded data removed]",
      "text/plain": [
       "<Figure size 864x576 with 1 Axes>"
      ]
     },
     "metadata": {
      "needs_background": "light"
     },
     "output_type": "display_data"
    }
   ],
   "source": [
    "mfg_df.plot()"
   ]
  },
  {
   "cell_type": "code",
   "execution_count": 32,
   "id": "ae86f2c8-a80a-46a7-9453-548ef5390e2c",
   "metadata": {},
   "outputs": [],
   "source": [
    "df = df.groupby(\"PaymentDate\")\n"
   ]
  },
  {
   "cell_type": "code",
   "execution_count": 34,
   "id": "949e12f2-e233-4c60-9535-554b5638a078",
   "metadata": {},
   "outputs": [
    {
     "data": {
      "text/html": [
       "<div>\n",
       "<style scoped>\n",
       "    .dataframe tbody tr th:only-of-type {\n",
       "        vertical-align: middle;\n",
       "    }\n",
       "\n",
       "    .dataframe tbody tr th {\n",
       "        vertical-align: top;\n",
       "    }\n",
       "\n",
       "    .dataframe thead th {\n",
       "        text-align: right;\n",
       "    }\n",
       "</style>\n",
       "<table border=\"1\" class=\"dataframe\">\n",
       "  <thead>\n",
       "    <tr style=\"text-align: right;\">\n",
       "      <th></th>\n",
       "      <th>InvoiceNumber</th>\n",
       "      <th>InvoiceDate</th>\n",
       "      <th>PONumber</th>\n",
       "      <th>ManufacturerName</th>\n",
       "      <th>CustomerName</th>\n",
       "      <th>Value</th>\n",
       "      <th>Receivable</th>\n",
       "      <th>Received</th>\n",
       "      <th>DueDate</th>\n",
       "      <th>PaymentDate</th>\n",
       "      <th>PATPayDate</th>\n",
       "      <th>ActualDays</th>\n",
       "      <th>PATdays</th>\n",
       "      <th>DaysClass</th>\n",
       "    </tr>\n",
       "  </thead>\n",
       "  <tbody>\n",
       "    <tr>\n",
       "      <th>0</th>\n",
       "      <td>18404</td>\n",
       "      <td>2021-01-04</td>\n",
       "      <td>20090256448</td>\n",
       "      <td>3G Lighting</td>\n",
       "      <td>Specification Credit</td>\n",
       "      <td>35.84</td>\n",
       "      <td>-0.16</td>\n",
       "      <td>36.00</td>\n",
       "      <td>2021-05-04</td>\n",
       "      <td>2021-01-18</td>\n",
       "      <td>2021-01-11</td>\n",
       "      <td>14</td>\n",
       "      <td>7</td>\n",
       "      <td>ThisMonth</td>\n",
       "    </tr>\n",
       "    <tr>\n",
       "      <th>1</th>\n",
       "      <td>18399</td>\n",
       "      <td>2021-01-18</td>\n",
       "      <td>8068SJ9963063D</td>\n",
       "      <td>3G Lighting</td>\n",
       "      <td>Specification Credit</td>\n",
       "      <td>37.13</td>\n",
       "      <td>-0.62</td>\n",
       "      <td>37.75</td>\n",
       "      <td>2021-05-18</td>\n",
       "      <td>2021-01-18</td>\n",
       "      <td>2021-01-25</td>\n",
       "      <td>0</td>\n",
       "      <td>7</td>\n",
       "      <td>ThisMonth</td>\n",
       "    </tr>\n",
       "    <tr>\n",
       "      <th>2</th>\n",
       "      <td>101234</td>\n",
       "      <td>2021-01-21</td>\n",
       "      <td>4519985190</td>\n",
       "      <td>Alphabet Lighting, A Ledrabrands Company</td>\n",
       "      <td>Specification Credit</td>\n",
       "      <td>324.06</td>\n",
       "      <td>-1.39</td>\n",
       "      <td>325.45</td>\n",
       "      <td>2021-04-06</td>\n",
       "      <td>2021-01-21</td>\n",
       "      <td>2021-01-28</td>\n",
       "      <td>0</td>\n",
       "      <td>7</td>\n",
       "      <td>ThisMonth</td>\n",
       "    </tr>\n",
       "    <tr>\n",
       "      <th>3</th>\n",
       "      <td>101233</td>\n",
       "      <td>2021-01-21</td>\n",
       "      <td>4519985191</td>\n",
       "      <td>Alphabet Lighting, A Ledrabrands Company</td>\n",
       "      <td>Specification Credit</td>\n",
       "      <td>196.12</td>\n",
       "      <td>0.02</td>\n",
       "      <td>196.10</td>\n",
       "      <td>2021-04-06</td>\n",
       "      <td>2021-01-21</td>\n",
       "      <td>2021-01-28</td>\n",
       "      <td>0</td>\n",
       "      <td>7</td>\n",
       "      <td>ThisMonth</td>\n",
       "    </tr>\n",
       "    <tr>\n",
       "      <th>4</th>\n",
       "      <td>432165774</td>\n",
       "      <td>2021-01-05</td>\n",
       "      <td>S129174136</td>\n",
       "      <td>Architectural Area Lighting</td>\n",
       "      <td>Rexel - Ft Collins #7619</td>\n",
       "      <td>3737.25</td>\n",
       "      <td>-0.01</td>\n",
       "      <td>3737.26</td>\n",
       "      <td>2021-02-04</td>\n",
       "      <td>2021-02-05</td>\n",
       "      <td>2021-02-09</td>\n",
       "      <td>31</td>\n",
       "      <td>35</td>\n",
       "      <td>NextMonth</td>\n",
       "    </tr>\n",
       "    <tr>\n",
       "      <th>...</th>\n",
       "      <td>...</td>\n",
       "      <td>...</td>\n",
       "      <td>...</td>\n",
       "      <td>...</td>\n",
       "      <td>...</td>\n",
       "      <td>...</td>\n",
       "      <td>...</td>\n",
       "      <td>...</td>\n",
       "      <td>...</td>\n",
       "      <td>...</td>\n",
       "      <td>...</td>\n",
       "      <td>...</td>\n",
       "      <td>...</td>\n",
       "      <td>...</td>\n",
       "    </tr>\n",
       "    <tr>\n",
       "      <th>1950</th>\n",
       "      <td>139536</td>\n",
       "      <td>2021-01-19</td>\n",
       "      <td>BOTTLEWORKS</td>\n",
       "      <td>TMS Lighting</td>\n",
       "      <td>Specification Credit</td>\n",
       "      <td>173.50</td>\n",
       "      <td>-0.20</td>\n",
       "      <td>173.70</td>\n",
       "      <td>2021-05-19</td>\n",
       "      <td>2021-01-19</td>\n",
       "      <td>2021-01-26</td>\n",
       "      <td>0</td>\n",
       "      <td>7</td>\n",
       "      <td>ThisMonth</td>\n",
       "    </tr>\n",
       "    <tr>\n",
       "      <th>2006</th>\n",
       "      <td>1499426</td>\n",
       "      <td>2021-02-03</td>\n",
       "      <td>S010597882</td>\n",
       "      <td>Watt Stopper</td>\n",
       "      <td>Specification Credit</td>\n",
       "      <td>2.13</td>\n",
       "      <td>0.00</td>\n",
       "      <td>2.13</td>\n",
       "      <td>2021-04-04</td>\n",
       "      <td>2021-02-17</td>\n",
       "      <td>2021-02-10</td>\n",
       "      <td>14</td>\n",
       "      <td>7</td>\n",
       "      <td>ThisMonth</td>\n",
       "    </tr>\n",
       "    <tr>\n",
       "      <th>2007</th>\n",
       "      <td>1499846</td>\n",
       "      <td>2021-02-03</td>\n",
       "      <td>4703249148</td>\n",
       "      <td>Watt Stopper</td>\n",
       "      <td>Specification Credit</td>\n",
       "      <td>61.77</td>\n",
       "      <td>-2.40</td>\n",
       "      <td>64.17</td>\n",
       "      <td>2021-04-04</td>\n",
       "      <td>2021-02-17</td>\n",
       "      <td>2021-02-10</td>\n",
       "      <td>14</td>\n",
       "      <td>7</td>\n",
       "      <td>ThisMonth</td>\n",
       "    </tr>\n",
       "    <tr>\n",
       "      <th>2009</th>\n",
       "      <td>EWS01012021CO</td>\n",
       "      <td>2021-01-06</td>\n",
       "      <td>EWS11012020CO</td>\n",
       "      <td>Wattstopper-EWS</td>\n",
       "      <td>Specification Credit</td>\n",
       "      <td>1437.86</td>\n",
       "      <td>0.00</td>\n",
       "      <td>1437.86</td>\n",
       "      <td>2021-01-06</td>\n",
       "      <td>2021-01-20</td>\n",
       "      <td>2021-01-13</td>\n",
       "      <td>14</td>\n",
       "      <td>7</td>\n",
       "      <td>ThisMonth</td>\n",
       "    </tr>\n",
       "    <tr>\n",
       "      <th>2010</th>\n",
       "      <td>EWS01012021ID</td>\n",
       "      <td>2021-01-06</td>\n",
       "      <td>EWS11012020ID</td>\n",
       "      <td>Wattstopper-EWS</td>\n",
       "      <td>Specification Credit</td>\n",
       "      <td>148.98</td>\n",
       "      <td>0.00</td>\n",
       "      <td>148.98</td>\n",
       "      <td>2021-01-06</td>\n",
       "      <td>2021-01-20</td>\n",
       "      <td>2021-01-13</td>\n",
       "      <td>14</td>\n",
       "      <td>7</td>\n",
       "      <td>ThisMonth</td>\n",
       "    </tr>\n",
       "  </tbody>\n",
       "</table>\n",
       "<p>131 rows × 14 columns</p>\n",
       "</div>"
      ],
      "text/plain": [
       "      InvoiceNumber InvoiceDate        PONumber  \\\n",
       "0             18404  2021-01-04     20090256448   \n",
       "1             18399  2021-01-18  8068SJ9963063D   \n",
       "2            101234  2021-01-21      4519985190   \n",
       "3            101233  2021-01-21      4519985191   \n",
       "4         432165774  2021-01-05      S129174136   \n",
       "...             ...         ...             ...   \n",
       "1950         139536  2021-01-19     BOTTLEWORKS   \n",
       "2006        1499426  2021-02-03      S010597882   \n",
       "2007        1499846  2021-02-03      4703249148   \n",
       "2009  EWS01012021CO  2021-01-06   EWS11012020CO   \n",
       "2010  EWS01012021ID  2021-01-06   EWS11012020ID   \n",
       "\n",
       "                              ManufacturerName              CustomerName  \\\n",
       "0                                  3G Lighting      Specification Credit   \n",
       "1                                  3G Lighting      Specification Credit   \n",
       "2     Alphabet Lighting, A Ledrabrands Company      Specification Credit   \n",
       "3     Alphabet Lighting, A Ledrabrands Company      Specification Credit   \n",
       "4                  Architectural Area Lighting  Rexel - Ft Collins #7619   \n",
       "...                                        ...                       ...   \n",
       "1950                              TMS Lighting      Specification Credit   \n",
       "2006                              Watt Stopper      Specification Credit   \n",
       "2007                              Watt Stopper      Specification Credit   \n",
       "2009                           Wattstopper-EWS      Specification Credit   \n",
       "2010                           Wattstopper-EWS      Specification Credit   \n",
       "\n",
       "        Value  Receivable  Received     DueDate PaymentDate  PATPayDate  \\\n",
       "0       35.84       -0.16     36.00  2021-05-04  2021-01-18  2021-01-11   \n",
       "1       37.13       -0.62     37.75  2021-05-18  2021-01-18  2021-01-25   \n",
       "2      324.06       -1.39    325.45  2021-04-06  2021-01-21  2021-01-28   \n",
       "3      196.12        0.02    196.10  2021-04-06  2021-01-21  2021-01-28   \n",
       "4     3737.25       -0.01   3737.26  2021-02-04  2021-02-05  2021-02-09   \n",
       "...       ...         ...       ...         ...         ...         ...   \n",
       "1950   173.50       -0.20    173.70  2021-05-19  2021-01-19  2021-01-26   \n",
       "2006     2.13        0.00      2.13  2021-04-04  2021-02-17  2021-02-10   \n",
       "2007    61.77       -2.40     64.17  2021-04-04  2021-02-17  2021-02-10   \n",
       "2009  1437.86        0.00   1437.86  2021-01-06  2021-01-20  2021-01-13   \n",
       "2010   148.98        0.00    148.98  2021-01-06  2021-01-20  2021-01-13   \n",
       "\n",
       "      ActualDays  PATdays  DaysClass  \n",
       "0             14        7  ThisMonth  \n",
       "1              0        7  ThisMonth  \n",
       "2              0        7  ThisMonth  \n",
       "3              0        7  ThisMonth  \n",
       "4             31       35  NextMonth  \n",
       "...          ...      ...        ...  \n",
       "1950           0        7  ThisMonth  \n",
       "2006          14        7  ThisMonth  \n",
       "2007          14        7  ThisMonth  \n",
       "2009          14        7  ThisMonth  \n",
       "2010          14        7  ThisMonth  \n",
       "\n",
       "[131 rows x 14 columns]"
      ]
     },
     "execution_count": 34,
     "metadata": {},
     "output_type": "execute_result"
    }
   ],
   "source": [
    "df.head()"
   ]
  },
  {
   "cell_type": "code",
   "execution_count": 38,
   "id": "a8b75c4c-350d-4000-b999-edbd38fdf471",
   "metadata": {},
   "outputs": [
    {
     "ename": "TypeError",
     "evalue": "'SeriesGroupBy' object is not callable",
     "output_type": "error",
     "traceback": [
      "\u001b[1;31m---------------------------------------------------------------------------\u001b[0m",
      "\u001b[1;31mTypeError\u001b[0m                                 Traceback (most recent call last)",
      "\u001b[1;32m<ipython-input-38-2bcb5e88c5d6>\u001b[0m in \u001b[0;36m<module>\u001b[1;34m\u001b[0m\n\u001b[1;32m----> 1\u001b[1;33m \u001b[0mDiff\u001b[0m\u001b[1;33m.\u001b[0m\u001b[0mgroupby\u001b[0m\u001b[1;33m(\u001b[0m\u001b[0mdf\u001b[0m\u001b[1;33m[\u001b[0m\u001b[1;34m\"ManufacturerName\"\u001b[0m\u001b[1;33m]\u001b[0m\u001b[1;33m)\u001b[0m\u001b[1;33m.\u001b[0m\u001b[0mmean\u001b[0m\u001b[1;33m(\u001b[0m\u001b[1;33m)\u001b[0m\u001b[1;33m\u001b[0m\u001b[1;33m\u001b[0m\u001b[0m\n\u001b[0m",
      "\u001b[1;32m~\\Anaconda3\\lib\\site-packages\\pandas\\core\\series.py\u001b[0m in \u001b[0;36mgroupby\u001b[1;34m(self, by, axis, level, as_index, sort, group_keys, squeeze, observed, dropna)\u001b[0m\n\u001b[0;32m   1718\u001b[0m         \u001b[0maxis\u001b[0m \u001b[1;33m=\u001b[0m \u001b[0mself\u001b[0m\u001b[1;33m.\u001b[0m\u001b[0m_get_axis_number\u001b[0m\u001b[1;33m(\u001b[0m\u001b[0maxis\u001b[0m\u001b[1;33m)\u001b[0m\u001b[1;33m\u001b[0m\u001b[1;33m\u001b[0m\u001b[0m\n\u001b[0;32m   1719\u001b[0m \u001b[1;33m\u001b[0m\u001b[0m\n\u001b[1;32m-> 1720\u001b[1;33m         return SeriesGroupBy(\n\u001b[0m\u001b[0;32m   1721\u001b[0m             \u001b[0mobj\u001b[0m\u001b[1;33m=\u001b[0m\u001b[0mself\u001b[0m\u001b[1;33m,\u001b[0m\u001b[1;33m\u001b[0m\u001b[1;33m\u001b[0m\u001b[0m\n\u001b[0;32m   1722\u001b[0m             \u001b[0mkeys\u001b[0m\u001b[1;33m=\u001b[0m\u001b[0mby\u001b[0m\u001b[1;33m,\u001b[0m\u001b[1;33m\u001b[0m\u001b[1;33m\u001b[0m\u001b[0m\n",
      "\u001b[1;32m~\\Anaconda3\\lib\\site-packages\\pandas\\core\\groupby\\groupby.py\u001b[0m in \u001b[0;36m__init__\u001b[1;34m(self, obj, keys, axis, level, grouper, exclusions, selection, as_index, sort, group_keys, squeeze, observed, mutated, dropna)\u001b[0m\n\u001b[0;32m    558\u001b[0m             \u001b[1;32mfrom\u001b[0m \u001b[0mpandas\u001b[0m\u001b[1;33m.\u001b[0m\u001b[0mcore\u001b[0m\u001b[1;33m.\u001b[0m\u001b[0mgroupby\u001b[0m\u001b[1;33m.\u001b[0m\u001b[0mgrouper\u001b[0m \u001b[1;32mimport\u001b[0m \u001b[0mget_grouper\u001b[0m\u001b[1;33m\u001b[0m\u001b[1;33m\u001b[0m\u001b[0m\n\u001b[0;32m    559\u001b[0m \u001b[1;33m\u001b[0m\u001b[0m\n\u001b[1;32m--> 560\u001b[1;33m             grouper, exclusions, obj = get_grouper(\n\u001b[0m\u001b[0;32m    561\u001b[0m                 \u001b[0mobj\u001b[0m\u001b[1;33m,\u001b[0m\u001b[1;33m\u001b[0m\u001b[1;33m\u001b[0m\u001b[0m\n\u001b[0;32m    562\u001b[0m                 \u001b[0mkeys\u001b[0m\u001b[1;33m,\u001b[0m\u001b[1;33m\u001b[0m\u001b[1;33m\u001b[0m\u001b[0m\n",
      "\u001b[1;32m~\\Anaconda3\\lib\\site-packages\\pandas\\core\\groupby\\grouper.py\u001b[0m in \u001b[0;36mget_grouper\u001b[1;34m(obj, key, axis, level, sort, observed, mutated, validate, dropna)\u001b[0m\n\u001b[0;32m    826\u001b[0m         \u001b[1;31m# allow us to passing the actual Grouping as the gpr\u001b[0m\u001b[1;33m\u001b[0m\u001b[1;33m\u001b[0m\u001b[1;33m\u001b[0m\u001b[0m\n\u001b[0;32m    827\u001b[0m         ping = (\n\u001b[1;32m--> 828\u001b[1;33m             Grouping(\n\u001b[0m\u001b[0;32m    829\u001b[0m                 \u001b[0mgroup_axis\u001b[0m\u001b[1;33m,\u001b[0m\u001b[1;33m\u001b[0m\u001b[1;33m\u001b[0m\u001b[0m\n\u001b[0;32m    830\u001b[0m                 \u001b[0mgpr\u001b[0m\u001b[1;33m,\u001b[0m\u001b[1;33m\u001b[0m\u001b[1;33m\u001b[0m\u001b[0m\n",
      "\u001b[1;32m~\\Anaconda3\\lib\\site-packages\\pandas\\core\\groupby\\grouper.py\u001b[0m in \u001b[0;36m__init__\u001b[1;34m(self, index, grouper, obj, name, level, sort, observed, in_axis, dropna)\u001b[0m\n\u001b[0;32m    542\u001b[0m                     \u001b[0mt\u001b[0m \u001b[1;33m=\u001b[0m \u001b[0mself\u001b[0m\u001b[1;33m.\u001b[0m\u001b[0mname\u001b[0m \u001b[1;32mor\u001b[0m \u001b[0mstr\u001b[0m\u001b[1;33m(\u001b[0m\u001b[0mtype\u001b[0m\u001b[1;33m(\u001b[0m\u001b[0mself\u001b[0m\u001b[1;33m.\u001b[0m\u001b[0mgrouper\u001b[0m\u001b[1;33m)\u001b[0m\u001b[1;33m)\u001b[0m\u001b[1;33m\u001b[0m\u001b[1;33m\u001b[0m\u001b[0m\n\u001b[0;32m    543\u001b[0m                     \u001b[1;32mraise\u001b[0m \u001b[0mValueError\u001b[0m\u001b[1;33m(\u001b[0m\u001b[1;34mf\"Grouper for '{t}' not 1-dimensional\"\u001b[0m\u001b[1;33m)\u001b[0m\u001b[1;33m\u001b[0m\u001b[1;33m\u001b[0m\u001b[0m\n\u001b[1;32m--> 544\u001b[1;33m                 \u001b[0mself\u001b[0m\u001b[1;33m.\u001b[0m\u001b[0mgrouper\u001b[0m \u001b[1;33m=\u001b[0m \u001b[0mself\u001b[0m\u001b[1;33m.\u001b[0m\u001b[0mindex\u001b[0m\u001b[1;33m.\u001b[0m\u001b[0mmap\u001b[0m\u001b[1;33m(\u001b[0m\u001b[0mself\u001b[0m\u001b[1;33m.\u001b[0m\u001b[0mgrouper\u001b[0m\u001b[1;33m)\u001b[0m\u001b[1;33m\u001b[0m\u001b[1;33m\u001b[0m\u001b[0m\n\u001b[0m\u001b[0;32m    545\u001b[0m                 if not (\n\u001b[0;32m    546\u001b[0m                     \u001b[0mhasattr\u001b[0m\u001b[1;33m(\u001b[0m\u001b[0mself\u001b[0m\u001b[1;33m.\u001b[0m\u001b[0mgrouper\u001b[0m\u001b[1;33m,\u001b[0m \u001b[1;34m\"__len__\"\u001b[0m\u001b[1;33m)\u001b[0m\u001b[1;33m\u001b[0m\u001b[1;33m\u001b[0m\u001b[0m\n",
      "\u001b[1;32m~\\Anaconda3\\lib\\site-packages\\pandas\\core\\indexes\\base.py\u001b[0m in \u001b[0;36mmap\u001b[1;34m(self, mapper, na_action)\u001b[0m\n\u001b[0;32m   5096\u001b[0m         \u001b[1;32mfrom\u001b[0m \u001b[0mpandas\u001b[0m\u001b[1;33m.\u001b[0m\u001b[0mcore\u001b[0m\u001b[1;33m.\u001b[0m\u001b[0mindexes\u001b[0m\u001b[1;33m.\u001b[0m\u001b[0mmulti\u001b[0m \u001b[1;32mimport\u001b[0m \u001b[0mMultiIndex\u001b[0m\u001b[1;33m\u001b[0m\u001b[1;33m\u001b[0m\u001b[0m\n\u001b[0;32m   5097\u001b[0m \u001b[1;33m\u001b[0m\u001b[0m\n\u001b[1;32m-> 5098\u001b[1;33m         \u001b[0mnew_values\u001b[0m \u001b[1;33m=\u001b[0m \u001b[0msuper\u001b[0m\u001b[1;33m(\u001b[0m\u001b[1;33m)\u001b[0m\u001b[1;33m.\u001b[0m\u001b[0m_map_values\u001b[0m\u001b[1;33m(\u001b[0m\u001b[0mmapper\u001b[0m\u001b[1;33m,\u001b[0m \u001b[0mna_action\u001b[0m\u001b[1;33m=\u001b[0m\u001b[0mna_action\u001b[0m\u001b[1;33m)\u001b[0m\u001b[1;33m\u001b[0m\u001b[1;33m\u001b[0m\u001b[0m\n\u001b[0m\u001b[0;32m   5099\u001b[0m \u001b[1;33m\u001b[0m\u001b[0m\n\u001b[0;32m   5100\u001b[0m         \u001b[0mattributes\u001b[0m \u001b[1;33m=\u001b[0m \u001b[0mself\u001b[0m\u001b[1;33m.\u001b[0m\u001b[0m_get_attributes_dict\u001b[0m\u001b[1;33m(\u001b[0m\u001b[1;33m)\u001b[0m\u001b[1;33m\u001b[0m\u001b[1;33m\u001b[0m\u001b[0m\n",
      "\u001b[1;32m~\\Anaconda3\\lib\\site-packages\\pandas\\core\\base.py\u001b[0m in \u001b[0;36m_map_values\u001b[1;34m(self, mapper, na_action)\u001b[0m\n\u001b[0;32m    935\u001b[0m \u001b[1;33m\u001b[0m\u001b[0m\n\u001b[0;32m    936\u001b[0m         \u001b[1;31m# mapper is a function\u001b[0m\u001b[1;33m\u001b[0m\u001b[1;33m\u001b[0m\u001b[1;33m\u001b[0m\u001b[0m\n\u001b[1;32m--> 937\u001b[1;33m         \u001b[0mnew_values\u001b[0m \u001b[1;33m=\u001b[0m \u001b[0mmap_f\u001b[0m\u001b[1;33m(\u001b[0m\u001b[0mvalues\u001b[0m\u001b[1;33m,\u001b[0m \u001b[0mmapper\u001b[0m\u001b[1;33m)\u001b[0m\u001b[1;33m\u001b[0m\u001b[1;33m\u001b[0m\u001b[0m\n\u001b[0m\u001b[0;32m    938\u001b[0m \u001b[1;33m\u001b[0m\u001b[0m\n\u001b[0;32m    939\u001b[0m         \u001b[1;32mreturn\u001b[0m \u001b[0mnew_values\u001b[0m\u001b[1;33m\u001b[0m\u001b[1;33m\u001b[0m\u001b[0m\n",
      "\u001b[1;32mpandas\\_libs\\lib.pyx\u001b[0m in \u001b[0;36mpandas._libs.lib.map_infer\u001b[1;34m()\u001b[0m\n",
      "\u001b[1;31mTypeError\u001b[0m: 'SeriesGroupBy' object is not callable"
     ]
    }
   ],
   "source": [
    "Diff.groupby(df[\"ManufacturerName\"]).mean()"
   ]
  },
  {
   "cell_type": "code",
   "execution_count": 39,
   "id": "bbcd600d-e868-4556-a87b-46a96b38eb01",
   "metadata": {},
   "outputs": [
    {
     "data": {
      "text/plain": [
       "2.4302036761053154"
      ]
     },
     "execution_count": 39,
     "metadata": {},
     "output_type": "execute_result"
    }
   ],
   "source": [
    "#the mean Actual Days \n",
    "Diff.mean()"
   ]
  },
  {
   "cell_type": "code",
   "execution_count": 40,
   "id": "65002b3b-6b0e-4d1a-8621-19b56a066c25",
   "metadata": {},
   "outputs": [],
   "source": [
    "#df0 = df[[\"ManufacturerName\", \"CustomerName\", \"ActualDays\", \"PATdays\", \"PaymentDate\"]]"
   ]
  },
  {
   "cell_type": "code",
   "execution_count": 42,
   "id": "c5dcfa25-bd4f-433e-841c-67c9158d8c55",
   "metadata": {},
   "outputs": [
    {
     "data": {
      "text/html": [
       "<div>\n",
       "<style scoped>\n",
       "    .dataframe tbody tr th:only-of-type {\n",
       "        vertical-align: middle;\n",
       "    }\n",
       "\n",
       "    .dataframe tbody tr th {\n",
       "        vertical-align: top;\n",
       "    }\n",
       "\n",
       "    .dataframe thead th {\n",
       "        text-align: right;\n",
       "    }\n",
       "</style>\n",
       "<table border=\"1\" class=\"dataframe\">\n",
       "  <thead>\n",
       "    <tr style=\"text-align: right;\">\n",
       "      <th></th>\n",
       "      <th>ManufacturerName</th>\n",
       "      <th>CustomerName</th>\n",
       "      <th>ActualDays</th>\n",
       "      <th>PATdays</th>\n",
       "      <th>PaymentDate</th>\n",
       "    </tr>\n",
       "  </thead>\n",
       "  <tbody>\n",
       "    <tr>\n",
       "      <th>0</th>\n",
       "      <td>3G Lighting</td>\n",
       "      <td>Specification Credit</td>\n",
       "      <td>14</td>\n",
       "      <td>7</td>\n",
       "      <td>2021-01-18</td>\n",
       "    </tr>\n",
       "    <tr>\n",
       "      <th>1</th>\n",
       "      <td>3G Lighting</td>\n",
       "      <td>Specification Credit</td>\n",
       "      <td>0</td>\n",
       "      <td>7</td>\n",
       "      <td>2021-01-18</td>\n",
       "    </tr>\n",
       "    <tr>\n",
       "      <th>2</th>\n",
       "      <td>Alphabet Lighting, A Ledrabrands Company</td>\n",
       "      <td>Specification Credit</td>\n",
       "      <td>0</td>\n",
       "      <td>7</td>\n",
       "      <td>2021-01-21</td>\n",
       "    </tr>\n",
       "    <tr>\n",
       "      <th>3</th>\n",
       "      <td>Alphabet Lighting, A Ledrabrands Company</td>\n",
       "      <td>Specification Credit</td>\n",
       "      <td>0</td>\n",
       "      <td>7</td>\n",
       "      <td>2021-01-21</td>\n",
       "    </tr>\n",
       "    <tr>\n",
       "      <th>4</th>\n",
       "      <td>Architectural Area Lighting</td>\n",
       "      <td>Rexel - Ft Collins #7619</td>\n",
       "      <td>31</td>\n",
       "      <td>35</td>\n",
       "      <td>2021-02-05</td>\n",
       "    </tr>\n",
       "    <tr>\n",
       "      <th>...</th>\n",
       "      <td>...</td>\n",
       "      <td>...</td>\n",
       "      <td>...</td>\n",
       "      <td>...</td>\n",
       "      <td>...</td>\n",
       "    </tr>\n",
       "    <tr>\n",
       "      <th>1950</th>\n",
       "      <td>TMS Lighting</td>\n",
       "      <td>Specification Credit</td>\n",
       "      <td>0</td>\n",
       "      <td>7</td>\n",
       "      <td>2021-01-19</td>\n",
       "    </tr>\n",
       "    <tr>\n",
       "      <th>2006</th>\n",
       "      <td>Watt Stopper</td>\n",
       "      <td>Specification Credit</td>\n",
       "      <td>14</td>\n",
       "      <td>7</td>\n",
       "      <td>2021-02-17</td>\n",
       "    </tr>\n",
       "    <tr>\n",
       "      <th>2007</th>\n",
       "      <td>Watt Stopper</td>\n",
       "      <td>Specification Credit</td>\n",
       "      <td>14</td>\n",
       "      <td>7</td>\n",
       "      <td>2021-02-17</td>\n",
       "    </tr>\n",
       "    <tr>\n",
       "      <th>2009</th>\n",
       "      <td>Wattstopper-EWS</td>\n",
       "      <td>Specification Credit</td>\n",
       "      <td>14</td>\n",
       "      <td>7</td>\n",
       "      <td>2021-01-20</td>\n",
       "    </tr>\n",
       "    <tr>\n",
       "      <th>2010</th>\n",
       "      <td>Wattstopper-EWS</td>\n",
       "      <td>Specification Credit</td>\n",
       "      <td>14</td>\n",
       "      <td>7</td>\n",
       "      <td>2021-01-20</td>\n",
       "    </tr>\n",
       "  </tbody>\n",
       "</table>\n",
       "<p>131 rows × 5 columns</p>\n",
       "</div>"
      ],
      "text/plain": [
       "                              ManufacturerName              CustomerName  \\\n",
       "0                                  3G Lighting      Specification Credit   \n",
       "1                                  3G Lighting      Specification Credit   \n",
       "2     Alphabet Lighting, A Ledrabrands Company      Specification Credit   \n",
       "3     Alphabet Lighting, A Ledrabrands Company      Specification Credit   \n",
       "4                  Architectural Area Lighting  Rexel - Ft Collins #7619   \n",
       "...                                        ...                       ...   \n",
       "1950                              TMS Lighting      Specification Credit   \n",
       "2006                              Watt Stopper      Specification Credit   \n",
       "2007                              Watt Stopper      Specification Credit   \n",
       "2009                           Wattstopper-EWS      Specification Credit   \n",
       "2010                           Wattstopper-EWS      Specification Credit   \n",
       "\n",
       "      ActualDays  PATdays PaymentDate  \n",
       "0             14        7  2021-01-18  \n",
       "1              0        7  2021-01-18  \n",
       "2              0        7  2021-01-21  \n",
       "3              0        7  2021-01-21  \n",
       "4             31       35  2021-02-05  \n",
       "...          ...      ...         ...  \n",
       "1950           0        7  2021-01-19  \n",
       "2006          14        7  2021-02-17  \n",
       "2007          14        7  2021-02-17  \n",
       "2009          14        7  2021-01-20  \n",
       "2010          14        7  2021-01-20  \n",
       "\n",
       "[131 rows x 5 columns]"
      ]
     },
     "execution_count": 42,
     "metadata": {},
     "output_type": "execute_result"
    }
   ],
   "source": [
    "df0.head()"
   ]
  },
  {
   "cell_type": "code",
   "execution_count": 50,
   "id": "03f95e9b-1297-458d-a956-fbbd7c6c3a24",
   "metadata": {},
   "outputs": [],
   "source": [
    "df0 = df"
   ]
  },
  {
   "cell_type": "code",
   "execution_count": 51,
   "id": "dc1d53a3-ed13-4b2c-a7c8-72e5f927d312",
   "metadata": {},
   "outputs": [
    {
     "data": {
      "text/html": [
       "<div>\n",
       "<style scoped>\n",
       "    .dataframe tbody tr th:only-of-type {\n",
       "        vertical-align: middle;\n",
       "    }\n",
       "\n",
       "    .dataframe tbody tr th {\n",
       "        vertical-align: top;\n",
       "    }\n",
       "\n",
       "    .dataframe thead th {\n",
       "        text-align: right;\n",
       "    }\n",
       "</style>\n",
       "<table border=\"1\" class=\"dataframe\">\n",
       "  <thead>\n",
       "    <tr style=\"text-align: right;\">\n",
       "      <th></th>\n",
       "      <th>InvoiceNumber</th>\n",
       "      <th>InvoiceDate</th>\n",
       "      <th>PONumber</th>\n",
       "      <th>ManufacturerName</th>\n",
       "      <th>CustomerName</th>\n",
       "      <th>Value</th>\n",
       "      <th>Receivable</th>\n",
       "      <th>Received</th>\n",
       "      <th>DueDate</th>\n",
       "      <th>PaymentDate</th>\n",
       "      <th>PATPayDate</th>\n",
       "      <th>ActualDays</th>\n",
       "      <th>PATdays</th>\n",
       "      <th>DaysClass</th>\n",
       "      <th>PATdiff</th>\n",
       "    </tr>\n",
       "  </thead>\n",
       "  <tbody>\n",
       "    <tr>\n",
       "      <th>0</th>\n",
       "      <td>3134609 3137016 3138761</td>\n",
       "      <td>1/1/2021</td>\n",
       "      <td>S5506340</td>\n",
       "      <td>Holm Lighting</td>\n",
       "      <td>QED Loveland</td>\n",
       "      <td>6655.50</td>\n",
       "      <td>0.00</td>\n",
       "      <td>6655.50</td>\n",
       "      <td>3/2/2021</td>\n",
       "      <td>2/15/2021</td>\n",
       "      <td>1/8/2021</td>\n",
       "      <td>45</td>\n",
       "      <td>7</td>\n",
       "      <td>NextMonth</td>\n",
       "      <td>38.0</td>\n",
       "    </tr>\n",
       "    <tr>\n",
       "      <th>1</th>\n",
       "      <td>432151543</td>\n",
       "      <td>1/2/2021</td>\n",
       "      <td>378072603</td>\n",
       "      <td>Hubbell Lighting</td>\n",
       "      <td>Winsupply Rock Springs Wy.</td>\n",
       "      <td>25.54</td>\n",
       "      <td>-0.01</td>\n",
       "      <td>25.55</td>\n",
       "      <td>2/1/2021</td>\n",
       "      <td>2/5/2021</td>\n",
       "      <td>1/16/2021</td>\n",
       "      <td>34</td>\n",
       "      <td>14</td>\n",
       "      <td>NextMonth</td>\n",
       "      <td>20.0</td>\n",
       "    </tr>\n",
       "    <tr>\n",
       "      <th>2</th>\n",
       "      <td>18404</td>\n",
       "      <td>1/4/2021</td>\n",
       "      <td>20090256448</td>\n",
       "      <td>3G Lighting</td>\n",
       "      <td>Specification Credit</td>\n",
       "      <td>35.84</td>\n",
       "      <td>-0.16</td>\n",
       "      <td>36.00</td>\n",
       "      <td>5/4/2021</td>\n",
       "      <td>1/18/2021</td>\n",
       "      <td>1/11/2021</td>\n",
       "      <td>14</td>\n",
       "      <td>7</td>\n",
       "      <td>ThisMonth</td>\n",
       "      <td>7.0</td>\n",
       "    </tr>\n",
       "    <tr>\n",
       "      <th>3</th>\n",
       "      <td>577735</td>\n",
       "      <td>1/4/2021</td>\n",
       "      <td>1872KB997781D</td>\n",
       "      <td>Barron Lighting Group</td>\n",
       "      <td>CED Denver</td>\n",
       "      <td>172.63</td>\n",
       "      <td>0.00</td>\n",
       "      <td>172.63</td>\n",
       "      <td>2/3/2021</td>\n",
       "      <td>2/11/2021</td>\n",
       "      <td>2/8/2021</td>\n",
       "      <td>38</td>\n",
       "      <td>35</td>\n",
       "      <td>NextMonth</td>\n",
       "      <td>3.0</td>\n",
       "    </tr>\n",
       "    <tr>\n",
       "      <th>4</th>\n",
       "      <td>432154892</td>\n",
       "      <td>1/4/2021</td>\n",
       "      <td>1126GR949627S</td>\n",
       "      <td>Columbia</td>\n",
       "      <td>All Phase Electric Supply CS</td>\n",
       "      <td>46.01</td>\n",
       "      <td>-0.01</td>\n",
       "      <td>46.02</td>\n",
       "      <td>2/3/2021</td>\n",
       "      <td>2/5/2021</td>\n",
       "      <td>2/1/2021</td>\n",
       "      <td>32</td>\n",
       "      <td>28</td>\n",
       "      <td>NextMonth</td>\n",
       "      <td>4.0</td>\n",
       "    </tr>\n",
       "    <tr>\n",
       "      <th>...</th>\n",
       "      <td>...</td>\n",
       "      <td>...</td>\n",
       "      <td>...</td>\n",
       "      <td>...</td>\n",
       "      <td>...</td>\n",
       "      <td>...</td>\n",
       "      <td>...</td>\n",
       "      <td>...</td>\n",
       "      <td>...</td>\n",
       "      <td>...</td>\n",
       "      <td>...</td>\n",
       "      <td>...</td>\n",
       "      <td>...</td>\n",
       "      <td>...</td>\n",
       "      <td>...</td>\n",
       "    </tr>\n",
       "    <tr>\n",
       "      <th>2008</th>\n",
       "      <td>CINV13575</td>\n",
       "      <td>3/9/2021</td>\n",
       "      <td>SC0305212JVG</td>\n",
       "      <td>None</td>\n",
       "      <td>Service Customer N</td>\n",
       "      <td>474.19</td>\n",
       "      <td>0.00</td>\n",
       "      <td>474.19</td>\n",
       "      <td>4/9/2021</td>\n",
       "      <td>3/17/2021</td>\n",
       "      <td>3/16/2021</td>\n",
       "      <td>8</td>\n",
       "      <td>7</td>\n",
       "      <td>ThisMonth</td>\n",
       "      <td>1.0</td>\n",
       "    </tr>\n",
       "    <tr>\n",
       "      <th>2009</th>\n",
       "      <td>99642</td>\n",
       "      <td>3/12/2021</td>\n",
       "      <td>S5587856</td>\n",
       "      <td>Pinnacle Lighting</td>\n",
       "      <td>QED Denver</td>\n",
       "      <td>125.00</td>\n",
       "      <td>0.00</td>\n",
       "      <td>125.00</td>\n",
       "      <td>5/11/2021</td>\n",
       "      <td>3/12/2021</td>\n",
       "      <td>4/23/2021</td>\n",
       "      <td>0</td>\n",
       "      <td>42</td>\n",
       "      <td>ThisMonth</td>\n",
       "      <td>-42.0</td>\n",
       "    </tr>\n",
       "    <tr>\n",
       "      <th>2010</th>\n",
       "      <td>POS03012021</td>\n",
       "      <td>3/15/2021</td>\n",
       "      <td>POS02012021CO</td>\n",
       "      <td>Hubbell Lighting</td>\n",
       "      <td>Specification Credit</td>\n",
       "      <td>13.42</td>\n",
       "      <td>0.00</td>\n",
       "      <td>13.42</td>\n",
       "      <td>4/14/2021</td>\n",
       "      <td>3/15/2021</td>\n",
       "      <td>3/22/2021</td>\n",
       "      <td>0</td>\n",
       "      <td>7</td>\n",
       "      <td>ThisMonth</td>\n",
       "      <td>-7.0</td>\n",
       "    </tr>\n",
       "    <tr>\n",
       "      <th>2011</th>\n",
       "      <td>POS03012021ID</td>\n",
       "      <td>3/15/2021</td>\n",
       "      <td>POS02012021ID</td>\n",
       "      <td>Hubbell Lighting</td>\n",
       "      <td>Specification Credit</td>\n",
       "      <td>5.45</td>\n",
       "      <td>0.00</td>\n",
       "      <td>5.45</td>\n",
       "      <td>4/14/2021</td>\n",
       "      <td>3/15/2021</td>\n",
       "      <td>3/22/2021</td>\n",
       "      <td>0</td>\n",
       "      <td>7</td>\n",
       "      <td>ThisMonth</td>\n",
       "      <td>-7.0</td>\n",
       "    </tr>\n",
       "    <tr>\n",
       "      <th>2012</th>\n",
       "      <td>21824661</td>\n",
       "      <td>3/15/2021</td>\n",
       "      <td>3762990</td>\n",
       "      <td>Valmont</td>\n",
       "      <td>Platt Boise</td>\n",
       "      <td>-91.48</td>\n",
       "      <td>0.00</td>\n",
       "      <td>-91.48</td>\n",
       "      <td>4/14/2021</td>\n",
       "      <td>3/15/2021</td>\n",
       "      <td>3/22/2021</td>\n",
       "      <td>0</td>\n",
       "      <td>7</td>\n",
       "      <td>ThisMonth</td>\n",
       "      <td>-7.0</td>\n",
       "    </tr>\n",
       "  </tbody>\n",
       "</table>\n",
       "<p>2013 rows × 15 columns</p>\n",
       "</div>"
      ],
      "text/plain": [
       "                InvoiceNumber InvoiceDate       PONumber  \\\n",
       "0     3134609 3137016 3138761    1/1/2021       S5506340   \n",
       "1                   432151543    1/2/2021      378072603   \n",
       "2                       18404    1/4/2021    20090256448   \n",
       "3                      577735    1/4/2021  1872KB997781D   \n",
       "4                   432154892    1/4/2021  1126GR949627S   \n",
       "...                       ...         ...            ...   \n",
       "2008                CINV13575    3/9/2021   SC0305212JVG   \n",
       "2009                    99642   3/12/2021       S5587856   \n",
       "2010              POS03012021   3/15/2021  POS02012021CO   \n",
       "2011            POS03012021ID   3/15/2021  POS02012021ID   \n",
       "2012                 21824661   3/15/2021        3762990   \n",
       "\n",
       "           ManufacturerName                  CustomerName    Value  \\\n",
       "0             Holm Lighting                  QED Loveland  6655.50   \n",
       "1          Hubbell Lighting    Winsupply Rock Springs Wy.    25.54   \n",
       "2               3G Lighting          Specification Credit    35.84   \n",
       "3     Barron Lighting Group                    CED Denver   172.63   \n",
       "4                  Columbia  All Phase Electric Supply CS    46.01   \n",
       "...                     ...                           ...      ...   \n",
       "2008                   None            Service Customer N   474.19   \n",
       "2009      Pinnacle Lighting                    QED Denver   125.00   \n",
       "2010       Hubbell Lighting          Specification Credit    13.42   \n",
       "2011       Hubbell Lighting          Specification Credit     5.45   \n",
       "2012                Valmont                   Platt Boise   -91.48   \n",
       "\n",
       "      Receivable  Received    DueDate PaymentDate PATPayDate  ActualDays  \\\n",
       "0           0.00   6655.50   3/2/2021   2/15/2021   1/8/2021          45   \n",
       "1          -0.01     25.55   2/1/2021    2/5/2021  1/16/2021          34   \n",
       "2          -0.16     36.00   5/4/2021   1/18/2021  1/11/2021          14   \n",
       "3           0.00    172.63   2/3/2021   2/11/2021   2/8/2021          38   \n",
       "4          -0.01     46.02   2/3/2021    2/5/2021   2/1/2021          32   \n",
       "...          ...       ...        ...         ...        ...         ...   \n",
       "2008        0.00    474.19   4/9/2021   3/17/2021  3/16/2021           8   \n",
       "2009        0.00    125.00  5/11/2021   3/12/2021  4/23/2021           0   \n",
       "2010        0.00     13.42  4/14/2021   3/15/2021  3/22/2021           0   \n",
       "2011        0.00      5.45  4/14/2021   3/15/2021  3/22/2021           0   \n",
       "2012        0.00    -91.48  4/14/2021   3/15/2021  3/22/2021           0   \n",
       "\n",
       "      PATdays  DaysClass  PATdiff  \n",
       "0           7  NextMonth     38.0  \n",
       "1          14  NextMonth     20.0  \n",
       "2           7  ThisMonth      7.0  \n",
       "3          35  NextMonth      3.0  \n",
       "4          28  NextMonth      4.0  \n",
       "...       ...        ...      ...  \n",
       "2008        7  ThisMonth      1.0  \n",
       "2009       42  ThisMonth    -42.0  \n",
       "2010        7  ThisMonth     -7.0  \n",
       "2011        7  ThisMonth     -7.0  \n",
       "2012        7  ThisMonth     -7.0  \n",
       "\n",
       "[2013 rows x 15 columns]"
      ]
     },
     "execution_count": 51,
     "metadata": {},
     "output_type": "execute_result"
    }
   ],
   "source": [
    "df0"
   ]
  },
  {
   "cell_type": "code",
   "execution_count": 55,
   "id": "e8af5ac9-739a-48ed-9afd-8f35649835b9",
   "metadata": {},
   "outputs": [],
   "source": [
    "dfmfg = df[[\"ManufacturerName\", \"PATdiff\", \"PaymentDate\", \"Value\"]]\n"
   ]
  },
  {
   "cell_type": "code",
   "execution_count": 56,
   "id": "e1c7169a-5fd3-4df7-86c1-575fbd7897e1",
   "metadata": {},
   "outputs": [],
   "source": [
    "dfcust = df[[\"CustomerName\", \"PATdiff\", \"PaymentDate\", \"Value\"]]"
   ]
  },
  {
   "cell_type": "code",
   "execution_count": 62,
   "id": "ba1e172c-28ee-43d7-bae6-9215c9843405",
   "metadata": {},
   "outputs": [],
   "source": [
    "#didnt work right\n",
    "#dfmfg.groupby(dfmfg(by=\"PaymentDate\")[\"Manufacturer\"]).sum().sort_values(ascending = False)"
   ]
  },
  {
   "cell_type": "code",
   "execution_count": 63,
   "id": "70c7c1c8-707e-4339-b5d1-d58fc2e2411d",
   "metadata": {},
   "outputs": [],
   "source": [
    "#another fail\n",
    "#dfmfg = dfmfg(pd.to_datetime(dfmfg.index))"
   ]
  },
  {
   "cell_type": "code",
   "execution_count": 64,
   "id": "bef97a3d-ba12-48bd-96e4-899c5788f13d",
   "metadata": {},
   "outputs": [],
   "source": [
    "#using sklearn.metrics accuracy score\n",
    "y_pred = df[['PATdays']]\n",
    "y_true = df[['ActualDays']]\n"
   ]
  },
  {
   "cell_type": "code",
   "execution_count": 65,
   "id": "c3b6992a-85a6-43ea-a19d-8bf941027e2e",
   "metadata": {},
   "outputs": [
    {
     "data": {
      "text/plain": [
       "0.06706408345752608"
      ]
     },
     "execution_count": 65,
     "metadata": {},
     "output_type": "execute_result"
    }
   ],
   "source": [
    "accuracy_score(y_true, y_pred)"
   ]
  },
  {
   "cell_type": "code",
   "execution_count": 66,
   "id": "67e7c776-fad3-4b33-94d5-819fdc40a21a",
   "metadata": {},
   "outputs": [
    {
     "data": {
      "text/plain": [
       "135"
      ]
     },
     "execution_count": 66,
     "metadata": {},
     "output_type": "execute_result"
    }
   ],
   "source": [
    "#this score returns the number of correctly guessed days\n",
    "accuracy_score(y_true, y_pred, normalize=False)"
   ]
  },
  {
   "cell_type": "code",
   "execution_count": 67,
   "id": "79646cd8-bfb2-455f-b244-bfd93014817b",
   "metadata": {},
   "outputs": [],
   "source": [
    "#if we wanted to replace the class of days, weeks etc \n",
    "#seeing what variables are listed as objects\n",
    "#obj_df = df0.select_dtypes(include=['object']).copy()\n",
    "#obj_df.head()\n",
    "#cleanup_nums = {\"DaysClass\":     {\"ThisMonth\": 1, \"NextMonth\": 2, \"60to90days\": 3}}\n",
    "#obj_df = obj_df.replace(cleanup_nums)\n",
    "#obj_df.head()"
   ]
  },
  {
   "cell_type": "code",
   "execution_count": 96,
   "id": "8981ed84-18b2-4697-9c69-9ddadc8b11a7",
   "metadata": {},
   "outputs": [],
   "source": [
    "#getting the accuracy of the monthly predictions\n",
    "y_pred_monthly = df[['PATclassNum']]\n",
    "y_true_monthly = df[['DaysClassNum']]"
   ]
  },
  {
   "cell_type": "code",
   "execution_count": 97,
   "id": "d793931c-7e01-4065-8e88-6758028ddf02",
   "metadata": {},
   "outputs": [
    {
     "data": {
      "text/plain": [
       "0.8618976651763537"
      ]
     },
     "execution_count": 97,
     "metadata": {},
     "output_type": "execute_result"
    }
   ],
   "source": [
    "#accuracy score determined by (total positive + total negative)/(tp +fp +tn + fn)\n",
    "accuracy_score(y_true_monthly, y_pred_monthly)"
   ]
  },
  {
   "cell_type": "code",
   "execution_count": 98,
   "id": "066db824-3944-4109-85a1-3c0e70f77cd9",
   "metadata": {},
   "outputs": [
    {
     "data": {
      "text/plain": [
       "1735"
      ]
     },
     "execution_count": 98,
     "metadata": {},
     "output_type": "execute_result"
    }
   ],
   "source": [
    "accuracy_score(y_true_monthly, y_pred_monthly, normalize=False)"
   ]
  },
  {
   "cell_type": "code",
   "execution_count": 106,
   "id": "0e15e907-4125-428f-adab-26731c26d8b3",
   "metadata": {},
   "outputs": [
    {
     "data": {
      "text/plain": [
       "0.5819823971875906"
      ]
     },
     "execution_count": 106,
     "metadata": {},
     "output_type": "execute_result"
    }
   ],
   "source": [
    "#balanced accuracy score\n",
    "#this is what should really be used for imbalanced datasets\n",
    "#this function avoids inflated performance estimates on imbalanced datasets. \n",
    "#the macro avg of recall scores per class; raw accuracy where each sample is weighted acc. to the inverse prevalence of its true class\n",
    "from sklearn.metrics import balanced_accuracy_score\n",
    "balanced_accuracy_score(y_true_monthly, y_pred_monthly)"
   ]
  },
  {
   "cell_type": "code",
   "execution_count": 107,
   "id": "58acedce-7847-4cd8-b3c5-324b0fcce5a2",
   "metadata": {},
   "outputs": [],
   "source": [
    "from sklearn.metrics import cohen_kappa_score"
   ]
  },
  {
   "cell_type": "code",
   "execution_count": 108,
   "id": "3d2ac56a-a30c-46dc-b59a-0130d027aec7",
   "metadata": {},
   "outputs": [
    {
     "data": {
      "text/plain": [
       "0.27610253836392395"
      ]
     },
     "execution_count": 108,
     "metadata": {},
     "output_type": "execute_result"
    }
   ],
   "source": [
    "#not the best to use\n",
    "#should only be used when 2 raters each rate one trial on each sample\n",
    "#or one rater rates two trials on each sample\n",
    "#measures interrater reliability (interobserver agreement).\n",
    "#interrater reliability or precision happens when your data rates or collectors give the same score to the same data item\n",
    "cohen_kappa_score(y_true_monthly, y_pred_monthly)"
   ]
  },
  {
   "cell_type": "code",
   "execution_count": 141,
   "id": "cdd2ce27-4552-4313-bc70-c951ab8f170f",
   "metadata": {},
   "outputs": [],
   "source": [
    "from sklearn.metrics import hamming_loss\n",
    "\n",
    "#the hamming loss is the fraction of labels that are incorrectly predicted\n",
    "#the lower the better"
   ]
  },
  {
   "cell_type": "code",
   "execution_count": 142,
   "id": "f4c9d8c7-0417-4207-8e25-bd441ecfce3c",
   "metadata": {},
   "outputs": [
    {
     "data": {
      "text/plain": [
       "0.1381023348236463"
      ]
     },
     "execution_count": 142,
     "metadata": {},
     "output_type": "execute_result"
    }
   ],
   "source": [
    "hamming_loss(y_true_monthly, y_pred_monthly)"
   ]
  },
  {
   "cell_type": "code",
   "execution_count": 136,
   "id": "648035eb-2994-4337-a7e0-fbe11dfd5c63",
   "metadata": {},
   "outputs": [],
   "source": [
    "from sklearn.metrics import classification_report"
   ]
  },
  {
   "cell_type": "code",
   "execution_count": 137,
   "id": "75af267a-39a2-4251-ae0b-d7ee7edc1e34",
   "metadata": {},
   "outputs": [
    {
     "name": "stdout",
     "output_type": "stream",
     "text": [
      "              precision    recall  f1-score   support\n",
      "\n",
      "           1       0.88      0.97      0.92      1717\n",
      "           2       0.59      0.22      0.32       287\n",
      "           3       0.36      0.56      0.43         9\n",
      "           4       0.00      0.00      0.00         0\n",
      "\n",
      "    accuracy                           0.86      2013\n",
      "   macro avg       0.46      0.44      0.42      2013\n",
      "weighted avg       0.84      0.86      0.84      2013\n",
      "\n"
     ]
    }
   ],
   "source": [
    "target_names = ['1', '2', '3', '4']\n",
    "\n",
    "print(classification_report(y_true_monthly, y_pred_monthly, target_names=target_names))"
   ]
  },
  {
   "cell_type": "code",
   "execution_count": 144,
   "id": "14713234-1b56-4f89-8a8a-432ea471ab69",
   "metadata": {},
   "outputs": [],
   "source": [
    "from sklearn.metrics import roc_auc_score"
   ]
  },
  {
   "cell_type": "code",
   "execution_count": null,
   "id": "b557da72-293b-4915-8fd0-b4ac93cacaa5",
   "metadata": {},
   "outputs": [],
   "source": [
    "#compute area under the receiver operating characteristic curve\n"
   ]
  },
  {
   "cell_type": "code",
   "execution_count": 122,
   "id": "c109697f-5444-49e6-ad42-8c6658fe0a5e",
   "metadata": {},
   "outputs": [],
   "source": [
    "from sklearn.metrics import jaccard_score"
   ]
  },
  {
   "cell_type": "code",
   "execution_count": 127,
   "id": "6ea47957-1e3a-4c5f-95ab-7ce658da6204",
   "metadata": {},
   "outputs": [
    {
     "data": {
      "text/plain": [
       "0.33177006938592934"
      ]
     },
     "execution_count": 127,
     "metadata": {},
     "output_type": "execute_result"
    }
   ],
   "source": [
    "#jaccard index (intersection/union) of 2 label sets is used to compare a set of predicted labels for a sample\n",
    "#to a corresponding set of labels in y_true\n",
    "#arguments:\n",
    "#sklearn.metrics.jaccard_score(y_true, y_pred, *, labels=None, pos_label=1,average='binary', sample_weight=None,\n",
    "#zero_division='warn')\n",
    "#average arguments: binary-use when both labels are binary, micro-calc global metrics by counting total true +, false - and false +, \n",
    "#macro- calc metrics for each label, and find their unweighted mean and does not take label imbalance into account, \n",
    "#weighted-calc metrics for each label and find their avg, weighted by support (#true instances for ea label) and alters macro to acct for label imbalance, \n",
    "#samples- calc metrics for each instance and find their avg\n",
    "jaccard_score(y_true_monthly, y_pred_monthly, average='macro')"
   ]
  },
  {
   "cell_type": "code",
   "execution_count": 128,
   "id": "fede88b2-13a7-4ae3-b568-3680a24f8edc",
   "metadata": {},
   "outputs": [
    {
     "data": {
      "text/plain": [
       "0.7606320874804362"
      ]
     },
     "execution_count": 128,
     "metadata": {},
     "output_type": "execute_result"
    }
   ],
   "source": [
    "jaccard_score(y_true_monthly, y_pred_monthly, average='weighted')"
   ]
  },
  {
   "cell_type": "code",
   "execution_count": 130,
   "id": "b06c82ba-5bdf-478e-bf13-ceb2b8ca8b9f",
   "metadata": {},
   "outputs": [
    {
     "data": {
      "text/plain": [
       "0.7573112178088172"
      ]
     },
     "execution_count": 130,
     "metadata": {},
     "output_type": "execute_result"
    }
   ],
   "source": [
    "jaccard_score(y_true_monthly, y_pred_monthly, average='micro')"
   ]
  },
  {
   "cell_type": "code",
   "execution_count": 131,
   "id": "b77f9c0f-d6d4-42b6-a68d-76cfb0c027ec",
   "metadata": {},
   "outputs": [
    {
     "data": {
      "text/plain": [
       "array([0.85839341, 0.19090909, 0.27777778, 0.        ])"
      ]
     },
     "execution_count": 131,
     "metadata": {},
     "output_type": "execute_result"
    }
   ],
   "source": [
    "jaccard_score(y_true_monthly, y_pred_monthly, average=None)"
   ]
  },
  {
   "cell_type": "code",
   "execution_count": 135,
   "id": "33f6765f-a99a-4384-a85f-a5ca963d3706",
   "metadata": {},
   "outputs": [],
   "source": [
    "#researched top_k_accuracy and it is not a good fit for this problem either"
   ]
  },
  {
   "cell_type": "code",
   "execution_count": 110,
   "id": "d850caab-207d-43fa-ac87-f909b7e0c8f4",
   "metadata": {},
   "outputs": [
    {
     "data": {
      "text/plain": [
       "array([[1667,   43,    6,    1],\n",
       "       [ 221,   63,    3,    0],\n",
       "       [   4,    0,    5,    0],\n",
       "       [   0,    0,    0,    0]], dtype=int64)"
      ]
     },
     "execution_count": 110,
     "metadata": {},
     "output_type": "execute_result"
    }
   ],
   "source": [
    "from sklearn.metrics import confusion_matrix\n",
    "\n",
    "confusion_matrix(y_true_monthly, y_pred_monthly)"
   ]
  },
  {
   "cell_type": "code",
   "execution_count": 113,
   "id": "76f60d10-86a8-415f-9f59-5dd1fab3c3ee",
   "metadata": {},
   "outputs": [
    {
     "data": {
      "text/plain": [
       "array([[8.28117238e-01, 2.13611525e-02, 2.98062593e-03, 4.96770989e-04],\n",
       "       [1.09786388e-01, 3.12965723e-02, 1.49031297e-03, 0.00000000e+00],\n",
       "       [1.98708395e-03, 0.00000000e+00, 2.48385494e-03, 0.00000000e+00],\n",
       "       [0.00000000e+00, 0.00000000e+00, 0.00000000e+00, 0.00000000e+00]])"
      ]
     },
     "execution_count": 113,
     "metadata": {},
     "output_type": "execute_result"
    }
   ],
   "source": [
    "#confusion matrix can be normalized in 3 diff ways: pred, true and all which will \n",
    "#divide the counts by the sum of each columns, rows, or the entire matrix, respectively\n",
    "confusion_matrix(y_true_monthly, y_pred_monthly, normalize='all')"
   ]
  },
  {
   "cell_type": "code",
   "execution_count": 80,
   "id": "bfb9831d-eb73-455a-af8c-933cb8f37d6b",
   "metadata": {},
   "outputs": [],
   "source": [
    "y_pred_weekly = df[['PATweekNum']]\n",
    "y_true_weekly = df[['ActualWeekNum']]"
   ]
  },
  {
   "cell_type": "code",
   "execution_count": 81,
   "id": "5248e06e-043a-47ca-96d4-48822130ed8d",
   "metadata": {},
   "outputs": [
    {
     "data": {
      "text/plain": [
       "0.2637853949329359"
      ]
     },
     "execution_count": 81,
     "metadata": {},
     "output_type": "execute_result"
    }
   ],
   "source": [
    "accuracy_score(y_true_weekly, y_pred_weekly)"
   ]
  },
  {
   "cell_type": "code",
   "execution_count": 82,
   "id": "2b81e0e4-0e19-4617-a327-525b95745404",
   "metadata": {},
   "outputs": [
    {
     "data": {
      "text/plain": [
       "531"
      ]
     },
     "execution_count": 82,
     "metadata": {},
     "output_type": "execute_result"
    }
   ],
   "source": [
    "accuracy_score(y_true_weekly, y_pred_weekly, normalize=False)"
   ]
  },
  {
   "cell_type": "code",
   "execution_count": 121,
   "id": "c6806711-007e-4f96-b797-f83eafb48c62",
   "metadata": {},
   "outputs": [
    {
     "data": {
      "text/plain": [
       "0.21298082265134607"
      ]
     },
     "execution_count": 121,
     "metadata": {},
     "output_type": "execute_result"
    }
   ],
   "source": [
    "balanced_accuracy_score(y_true_weekly, y_pred_weekly)"
   ]
  },
  {
   "cell_type": "code",
   "execution_count": 138,
   "id": "666e5de8-9fe1-4e0d-b827-d3f9110f4d1d",
   "metadata": {},
   "outputs": [
    {
     "name": "stdout",
     "output_type": "stream",
     "text": [
      "              precision    recall  f1-score   support\n",
      "\n",
      "           1       0.15      0.58      0.23       170\n",
      "           2       0.31      0.23      0.26       446\n",
      "           3       0.33      0.36      0.34       473\n",
      "           4       0.33      0.27      0.30       460\n",
      "           5       0.31      0.08      0.12       359\n",
      "           6       0.62      0.07      0.12        74\n",
      "           7       0.00      0.00      0.00        14\n",
      "           8       0.40      0.33      0.36         6\n",
      "           9       0.00      0.00      0.00         3\n",
      "          10       0.38      0.43      0.40         7\n",
      "          11       0.00      0.00      0.00         1\n",
      "          12       0.00      0.00      0.00         0\n",
      "          14       0.00      0.00      0.00         0\n",
      "\n",
      "    accuracy                           0.26      2013\n",
      "   macro avg       0.22      0.18      0.16      2013\n",
      "weighted avg       0.31      0.26      0.26      2013\n",
      "\n"
     ]
    }
   ],
   "source": [
    "target_names1 = ['1', '2', '3', '4', '5', '6', '7', '8', '9', '10', '11', '12', '14']\n",
    "\n",
    "print(classification_report(y_true_weekly, y_pred_weekly, target_names=target_names1))"
   ]
  },
  {
   "cell_type": "code",
   "execution_count": 145,
   "id": "6d80a0a1-83be-483a-b677-dba8cfb33798",
   "metadata": {},
   "outputs": [],
   "source": [
    "#classification report understanding\n",
    "#the precision is the ratio true positives/ (true positives + false positives); the ability of the classifier not to label as positive a sample that is negative\n",
    "#the recall is the ration true positives/(true positives + false negatives); the ability of the classifier to find all the positive samples\n",
    "#the F beta score is the weighted harmonic mean of hte precision and recall, where fbeta reaches best value at 1 and worst at 0\n",
    "#Fbeta weights recall more than precision by a factor of beta; beta = 1 means that precision and recall are the equally important\n",
    "#fbeta = (1+beta^2)*((precision*recall)/(beta62*precision+recall))\n",
    "#support is the number of occurrences of each class in y_true"
   ]
  },
  {
   "cell_type": "code",
   "execution_count": 139,
   "id": "b2a70bd8-bbcf-4514-aa90-cb3fad572314",
   "metadata": {},
   "outputs": [
    {
     "name": "stdout",
     "output_type": "stream",
     "text": [
      "              precision    recall  f1-score   support\n",
      "\n",
      "           1       0.15      0.58      0.23       170\n",
      "           2       0.31      0.23      0.26       446\n",
      "           3       0.33      0.36      0.34       473\n",
      "           4       0.33      0.27      0.30       460\n",
      "           5       0.31      0.08      0.12       359\n",
      "           6       0.62      0.07      0.12        74\n",
      "           7       0.00      0.00      0.00        14\n",
      "           8       0.40      0.33      0.36         6\n",
      "           9       0.00      0.00      0.00         3\n",
      "          10       0.38      0.43      0.40         7\n",
      "          11       0.00      0.00      0.00         1\n",
      "          12       0.00      0.00      0.00         0\n",
      "          14       0.00      0.00      0.00         0\n",
      "\n",
      "    accuracy                           0.26      2013\n",
      "   macro avg       0.22      0.18      0.16      2013\n",
      "weighted avg       0.31      0.26      0.26      2013\n",
      "\n"
     ]
    }
   ],
   "source": [
    "print(classification_report(y_true_weekly, y_pred_weekly,labels=[1,2,3,4,5,6,7,8,9,10,11,12,14]))"
   ]
  },
  {
   "cell_type": "code",
   "execution_count": 153,
   "id": "c4a018d8-fde5-4717-9598-d3a75a2e6f07",
   "metadata": {},
   "outputs": [
    {
     "data": {
      "text/plain": [
       "(0.4581401759714616, 0.43648679789069295, 0.41979872570298266, None)"
      ]
     },
     "execution_count": 153,
     "metadata": {},
     "output_type": "execute_result"
    }
   ],
   "source": [
    "from sklearn.metrics import precision_recall_fscore_support\n",
    "\n",
    "precision_recall_fscore_support(y_true_monthly, y_pred_monthly, average='macro')"
   ]
  },
  {
   "cell_type": "code",
   "execution_count": 155,
   "id": "36887aa2-a486-4739-bfe4-f95800406473",
   "metadata": {},
   "outputs": [
    {
     "data": {
      "text/plain": [
       "(0.8378544799774664, 0.8618976651763537, 0.8356163288788687, None)"
      ]
     },
     "execution_count": 155,
     "metadata": {},
     "output_type": "execute_result"
    }
   ],
   "source": [
    "precision_recall_fscore_support(y_true_monthly, y_pred_monthly, average='weighted')"
   ]
  },
  {
   "cell_type": "code",
   "execution_count": 157,
   "id": "101dacf2-8137-49b3-8bd6-4843a5fb5011",
   "metadata": {},
   "outputs": [
    {
     "data": {
      "text/plain": [
       "0.41979872570298266"
      ]
     },
     "execution_count": 157,
     "metadata": {},
     "output_type": "execute_result"
    }
   ],
   "source": [
    "from sklearn.metrics import f1_score\n",
    "\n",
    "#f1 score known as the balanced f-score or f-measure\n",
    "#can be interpreted as a weighted average of the precision and recall where f1 score reaches its best value at 1 and worst value at 0\n",
    "# F1 = 2 &(precision *recall) / (precision + recall)\n",
    "\n",
    "f1_score(y_true_monthly, y_pred_monthly, average='macro')"
   ]
  },
  {
   "cell_type": "code",
   "execution_count": 156,
   "id": "7031abe2-c2ca-439d-b63a-1222da0b5669",
   "metadata": {},
   "outputs": [
    {
     "data": {
      "text/plain": [
       "0.8356163288788687"
      ]
     },
     "execution_count": 156,
     "metadata": {},
     "output_type": "execute_result"
    }
   ],
   "source": [
    "f1_score(y_true_monthly, y_pred_monthly, average='weighted')"
   ]
  },
  {
   "cell_type": "code",
   "execution_count": 152,
   "id": "7511a02e-5c6c-4d2f-bf72-aaa5585dde3f",
   "metadata": {},
   "outputs": [],
   "source": [
    "from sklearn.metrics import roc_auc_score\n",
    "#this one wont work unless we convert all of the values to probablities first\n",
    "#roc_auc_score(y_true_monthly, y_pred_monthly, average='macro', multi_class='ovo')"
   ]
  },
  {
   "cell_type": "code",
   "execution_count": 83,
   "id": "72e7c7a2-4917-4765-aacc-1acec51b213b",
   "metadata": {},
   "outputs": [],
   "source": [
    "mfg_df_actual_days = df.groupby(by=\"ManufacturerName\")[\"ActualDays\"].mean()\n",
    "mfg_df_pat_diff = df.groupby(by=\"ManufacturerName\")[\"PATdiff\"].mean()"
   ]
  },
  {
   "cell_type": "code",
   "execution_count": 103,
   "id": "4dfc5755-76be-445f-823b-658eaadc0fe3",
   "metadata": {},
   "outputs": [],
   "source": [
    "#y_pred_monthly_mfg = df.groupby('ManufacturerName')['PATclassNum']\n",
    "#y_true_monthly_mfg = df.groupby('ManufacturerName')['DaysClassNum']"
   ]
  },
  {
   "cell_type": "code",
   "execution_count": 104,
   "id": "4c2d4351-b739-42d1-913b-feaba1aea89f",
   "metadata": {},
   "outputs": [],
   "source": [
    "#accuracy_score(y_true_monthly_mfg, y_pred_monthly_mfg)"
   ]
  },
  {
   "cell_type": "code",
   "execution_count": 84,
   "id": "79ac9a85-5c2c-40b7-b605-2a168686fa32",
   "metadata": {},
   "outputs": [
    {
     "data": {
      "text/plain": [
       "ManufacturerName\n",
       "3G Lighting                                  0.000000\n",
       "ARON Lighting, LLC                          16.500000\n",
       "Alphabet Lighting, A Ledrabrands Company    -7.000000\n",
       "Architectural Area Lighting                  1.163636\n",
       "Assurance Emergency Lighting                12.833333\n",
       "Barron Lighting Group                        3.481481\n",
       "Beacon Products                             -4.533333\n",
       "Bega Lighting                                1.266667\n",
       "Beulux                                      10.500000\n",
       "Columbia                                     5.087336\n",
       "Compass Life Safety                          1.871795\n",
       "ConTech Lighting                            -3.687500\n",
       "Delray Lighting                            -31.000000\n",
       "Delta Light USA                            -29.000000\n",
       "Dual-Lite                                    2.546512\n",
       "Exitronix                                    1.857143\n",
       "Finelite                                     7.444444\n",
       "Fluxwerx Illumination Inc.                  16.000000\n",
       "Holm Lighting                               38.000000\n",
       "Hubbell Control Solutions                    3.264151\n",
       "Hubbell Industrial Lighting                  2.692308\n",
       "Hubbell Lighting                             1.031328\n",
       "Hubbell Outdoor Lighting                     3.301887\n",
       "Insight Lighting                            -7.000000\n",
       "Inter-Lux                                    9.000000\n",
       "KLIK USA                                    -7.000000\n",
       "Kenall Lighting                              2.611111\n",
       "Kim Lighting                                 2.403226\n",
       "Leotek Electronics USA LLC                   9.900000\n",
       "Lexington Standards                         11.000000\n",
       "Lighting Services, Inc.                     -7.000000\n",
       "Lightnet USA                               -28.000000\n",
       "LiteControl                                  8.400000\n",
       "Lumetta                                     18.000000\n",
       "Lumos Custom                                32.000000\n",
       "LuxDynamics                                  6.250000\n",
       "MixMatch Lighting                           18.000000\n",
       "None                                         2.391304\n",
       "Oxygen Lighting                             -3.833333\n",
       "Pinnacle Lighting                          -25.875000\n",
       "Prescolite                                   5.989691\n",
       "Primus Lighting                             22.500000\n",
       "Progress Lighting                            3.185185\n",
       "RP Lighting                                  8.882353\n",
       "TMS Lighting                               -45.500000\n",
       "Tempo Industries                            24.333333\n",
       "Trace-Lite                                   6.250000\n",
       "Valmont                                      6.632653\n",
       "W. J. Whatley                               27.500000\n",
       "Watt Stopper                                11.000000\n",
       "Wattstopper-EWS                             10.000000\n",
       "Name: PATdiff, dtype: float64"
      ]
     },
     "execution_count": 84,
     "metadata": {},
     "output_type": "execute_result"
    }
   ],
   "source": [
    "mfg_df_pat_diff"
   ]
  },
  {
   "cell_type": "code",
   "execution_count": 85,
   "id": "6b0966d3-bbda-459a-a8fd-7d281072a9ea",
   "metadata": {},
   "outputs": [
    {
     "data": {
      "text/plain": [
       "ManufacturerName\n",
       "3G Lighting                                  7.000000\n",
       "ARON Lighting, LLC                          44.500000\n",
       "Alphabet Lighting, A Ledrabrands Company     0.000000\n",
       "Architectural Area Lighting                 14.145455\n",
       "Assurance Emergency Lighting                35.000000\n",
       "Barron Lighting Group                       21.888889\n",
       "Beacon Products                             12.733333\n",
       "Bega Lighting                               22.422222\n",
       "Beulux                                      22.750000\n",
       "Columbia                                    20.615721\n",
       "Compass Life Safety                         19.102564\n",
       "ConTech Lighting                            26.675000\n",
       "Delray Lighting                             39.000000\n",
       "Delta Light USA                              6.000000\n",
       "Dual-Lite                                   18.174419\n",
       "Exitronix                                   25.857143\n",
       "Finelite                                    64.222222\n",
       "Fluxwerx Illumination Inc.                  23.000000\n",
       "Holm Lighting                               45.000000\n",
       "Hubbell Control Solutions                   20.433962\n",
       "Hubbell Industrial Lighting                 19.384615\n",
       "Hubbell Lighting                            17.794486\n",
       "Hubbell Outdoor Lighting                    17.500000\n",
       "Insight Lighting                             0.000000\n",
       "Inter-Lux                                   23.000000\n",
       "KLIK USA                                     0.000000\n",
       "Kenall Lighting                             26.981481\n",
       "Kim Lighting                                15.048387\n",
       "Leotek Electronics USA LLC                  35.100000\n",
       "Lexington Standards                         33.076923\n",
       "Lighting Services, Inc.                      0.000000\n",
       "Lightnet USA                                 0.000000\n",
       "LiteControl                                 24.360000\n",
       "Lumetta                                     28.500000\n",
       "Lumos Custom                                49.500000\n",
       "LuxDynamics                                 25.500000\n",
       "MixMatch Lighting                           46.000000\n",
       "None                                        28.260870\n",
       "Oxygen Lighting                             17.166667\n",
       "Pinnacle Lighting                           21.375000\n",
       "Prescolite                                  19.628866\n",
       "Primus Lighting                             33.000000\n",
       "Progress Lighting                           23.666667\n",
       "RP Lighting                                 27.823529\n",
       "TMS Lighting                                 0.000000\n",
       "Tempo Industries                            43.000000\n",
       "Trace-Lite                                  30.750000\n",
       "Valmont                                     27.204082\n",
       "W. J. Whatley                               45.000000\n",
       "Watt Stopper                                18.000000\n",
       "Wattstopper-EWS                             17.000000\n",
       "Name: ActualDays, dtype: float64"
      ]
     },
     "execution_count": 85,
     "metadata": {},
     "output_type": "execute_result"
    }
   ],
   "source": [
    "mfg_df_actual_days"
   ]
  },
  {
   "cell_type": "code",
   "execution_count": 117,
   "id": "03162a10-ed53-4a70-a32d-75a4d7958cbb",
   "metadata": {},
   "outputs": [
    {
     "data": {
      "text/plain": [
       "<AxesSubplot:ylabel='Frequency'>"
      ]
     },
     "execution_count": 117,
     "metadata": {},
     "output_type": "execute_result"
    },
    {
     "data": {
      "image/png": "[encoded data removed]",
      "text/plain": [
       "<Figure size 864x576 with 1 Axes>"
      ]
     },
     "metadata": {
      "needs_background": "light"
     },
     "output_type": "display_data"
    }
   ],
   "source": [
    "df['ActualWeekNum'].plot.hist(bins=10)"
   ]
  },
  {
   "cell_type": "code",
   "execution_count": 132,
   "id": "523afb1c-b92c-49bd-8a5d-61bca37f9346",
   "metadata": {},
   "outputs": [
    {
     "data": {
      "text/plain": [
       "<AxesSubplot:ylabel='Frequency'>"
      ]
     },
     "execution_count": 132,
     "metadata": {},
     "output_type": "execute_result"
    },
    {
     "data": {
      "image/png": "[encoded data removed]",
      "text/plain": [
       "<Figure size 864x576 with 1 Axes>"
      ]
     },
     "metadata": {
      "needs_background": "light"
     },
     "output_type": "display_data"
    }
   ],
   "source": [
    "df['ActualWeekNum'].plot.hist(bins=15)"
   ]
  },
  {
   "cell_type": "code",
   "execution_count": 120,
   "id": "b0775904-d254-4f55-aa6f-d0338eee89a4",
   "metadata": {},
   "outputs": [
    {
     "data": {
      "text/plain": [
       "<AxesSubplot:ylabel='Frequency'>"
      ]
     },
     "execution_count": 120,
     "metadata": {},
     "output_type": "execute_result"
    },
    {
     "data": {
      "image/png": "[encoded data removed]",
      "text/plain": [
       "<Figure size 864x576 with 1 Axes>"
      ]
     },
     "metadata": {
      "needs_background": "light"
     },
     "output_type": "display_data"
    }
   ],
   "source": [
    "df['DaysClassNum'].plot.hist()"
   ]
  },
  {
   "cell_type": "code",
   "execution_count": 162,
   "id": "2226081d-7e14-4f23-a3f6-d20cb5a828aa",
   "metadata": {},
   "outputs": [
    {
     "data": {
      "text/plain": [
       "51"
      ]
     },
     "execution_count": 162,
     "metadata": {},
     "output_type": "execute_result"
    }
   ],
   "source": [
    "len(df['ManufacturerName'].unique())"
   ]
  },
  {
   "cell_type": "code",
   "execution_count": 163,
   "id": "d6675f08-05fb-44f4-b630-d574bee6d8b4",
   "metadata": {},
   "outputs": [
    {
     "data": {
      "text/plain": [
       "142"
      ]
     },
     "execution_count": 163,
     "metadata": {},
     "output_type": "execute_result"
    }
   ],
   "source": [
    "len(df['CustomerName'].unique())"
   ]
  },
  {
   "cell_type": "code",
   "execution_count": 164,
   "id": "73e05fe8-5c4f-47eb-b793-1975a4d5f82a",
   "metadata": {},
   "outputs": [
    {
     "name": "stdout",
     "output_type": "stream",
     "text": [
      "['Holm Lighting' 'Hubbell Lighting' '3G Lighting' 'Barron Lighting Group'\n",
      " 'Columbia' 'Compass Life Safety' 'ConTech Lighting' 'Dual-Lite'\n",
      " 'Exitronix' 'Finelite' 'Hubbell Control Solutions'\n",
      " 'Hubbell Industrial Lighting' 'None' 'Prescolite'\n",
      " 'Architectural Area Lighting' 'Hubbell Outdoor Lighting'\n",
      " 'Kenall Lighting' 'LiteControl' 'Lumos Custom' 'Progress Lighting'\n",
      " 'Beulux' 'Kim Lighting' 'LuxDynamics' 'Tempo Industries' 'Trace-Lite'\n",
      " 'Valmont' 'Wattstopper-EWS' 'Bega Lighting' 'Leotek Electronics USA LLC'\n",
      " 'Fluxwerx Illumination Inc.' 'Primus Lighting' 'W. J. Whatley' 'Lumetta'\n",
      " 'RP Lighting' 'Delta Light USA' 'Lexington Standards' 'Beacon Products'\n",
      " 'Assurance Emergency Lighting' 'Pinnacle Lighting' 'Oxygen Lighting'\n",
      " 'TMS Lighting' 'Alphabet Lighting, A Ledrabrands Company' 'Inter-Lux'\n",
      " 'MixMatch Lighting' 'ARON Lighting, LLC' 'Delray Lighting'\n",
      " 'Insight Lighting' 'Lighting Services, Inc.' 'KLIK USA' 'Lightnet USA'\n",
      " 'Watt Stopper']\n"
     ]
    }
   ],
   "source": [
    "print(df['ManufacturerName'].unique())"
   ]
  },
  {
   "cell_type": "code",
   "execution_count": 166,
   "id": "da919eaf-83e9-4d0e-9835-95ac73cc7c9a",
   "metadata": {},
   "outputs": [],
   "source": [
    "df_mfg_HOLM = df[df['ManufacturerName'].isin(['Holm Lighting'])]\n",
    "df_mfg_HUBBELL = df[df['ManufacturerName'].isin(['Hubbell Lighting'])]\n",
    "df_mfg_3GLTG = df[df['ManufacturerName'].isin(['3g Lighting'])]\n",
    "df_mfg_BARRON = df[df['ManufacturerName'].isin(['Barron Lighting Group'])]\n",
    "df_mfg_COL = df[df['ManufacturerName'].isin(['Columbia'])]\n",
    "df_mfg_COM = df[df['ManufacturerName'].isin(['Compass Life Safety'])]\n",
    "df_mfg_CONTECH = df[df['ManufacturerName'].isin(['ConTech Lighting'])]\n",
    "df_mfg_DLE = df[df['ManufacturerName'].isin(['Dual-Lite'])]\n",
    "df_mfg_EXI = df[df['ManufacturerName'].isin(['Exitronix'])]\n",
    "df_mfg_FINELITE = df[df['ManufacturerName'].isin(['Finelite'])]\n",
    "df_mfg_HUBBELLCONTROLSOLUTIONS = df[df['ManufacturerName'].isin(['Hubbell Control Solutions'])]\n",
    "df_mfg_HUBBELLINDUSTRIALLIGHTING = df[df['ManufacturerName'].isin(['Hubbell Industrial Lighting'])]\n",
    "df_mfg_NONE_RESELL = df[df['ManufacturerName'].isin(['None'])]\n",
    "df_mfg_PRES = df[df['ManufacturerName'].isin(['Prescolite'])]\n",
    "df_mfg_AAL = df[df['ManufacturerName'].isin(['Architectural Area Lighting'])]\n",
    "df_mfg_HUBBELLOUTDOORLIGHTING = df[df['ManufacturerName'].isin(['Hubbell Outdoor Lighting'])]\n",
    "df_mfg_KENALL = df[df['ManufacturerName'].isin(['Kenall Lighting'])]\n",
    "df_mfg_LITECONTROL = df[df['ManufacturerName'].isin(['LiteControl'])]\n",
    "df_mfg_LUMOS = df[df['ManufacturerName'].isin(['Lumos Custom'])]\n",
    "df_mfg_PROGRESS = df[df['ManufacturerName'].isin(['Progress Lighting'])]\n",
    "df_mfg_BEUL = df[df['ManufacturerName'].isin(['Beulux'])]\n",
    "df_mfg_KIM = df[df['ManufacturerName'].isin(['Kim Lighting'])]\n"
   ]
  },
  {
   "cell_type": "code",
   "execution_count": 167,
   "id": "d5a48075-3294-4688-aed9-efa9e5d08552",
   "metadata": {},
   "outputs": [
    {
     "name": "stdout",
     "output_type": "stream",
     "text": [
      "['Holm Lighting' 'Hubbell Lighting' '3G Lighting' 'Barron Lighting Group'\n",
      " 'Columbia' 'Compass Life Safety' 'ConTech Lighting' 'Dual-Lite'\n",
      " 'Exitronix' 'Finelite' 'Hubbell Control Solutions'\n",
      " 'Hubbell Industrial Lighting' 'None' 'Prescolite'\n",
      " 'Architectural Area Lighting' 'Hubbell Outdoor Lighting'\n",
      " 'Kenall Lighting' 'LiteControl' 'Lumos Custom' 'Progress Lighting'\n",
      " 'Beulux' 'Kim Lighting' 'LuxDynamics' 'Tempo Industries' 'Trace-Lite'\n",
      " 'Valmont' 'Wattstopper-EWS' 'Bega Lighting' 'Leotek Electronics USA LLC'\n",
      " 'Fluxwerx Illumination Inc.' 'Primus Lighting' 'W. J. Whatley' 'Lumetta'\n",
      " 'RP Lighting' 'Delta Light USA' 'Lexington Standards' 'Beacon Products'\n",
      " 'Assurance Emergency Lighting' 'Pinnacle Lighting' 'Oxygen Lighting'\n",
      " 'TMS Lighting' 'Alphabet Lighting, A Ledrabrands Company' 'Inter-Lux'\n",
      " 'MixMatch Lighting' 'ARON Lighting, LLC' 'Delray Lighting'\n",
      " 'Insight Lighting' 'Lighting Services, Inc.' 'KLIK USA' 'Lightnet USA'\n",
      " 'Watt Stopper']\n"
     ]
    }
   ],
   "source": [
    "print(df['ManufacturerName'].unique())"
   ]
  },
  {
   "cell_type": "code",
   "execution_count": 169,
   "id": "331bad84-d792-4171-a20a-ef02dbae0627",
   "metadata": {},
   "outputs": [],
   "source": [
    "df_mfg_LUX = df[df['ManufacturerName'].isin(['LuxDynamics'])]\n",
    "df_mfg_TEMPO = df[df['ManufacturerName'].isin(['Tempo Industries'])]\n",
    "df_mfg_TRACELITE = df[df['ManufacturerName'].isin(['Trace-Lite'])]\n",
    "df_mfg_VAL = df[df['ManufacturerName'].isin(['Valmont'])]\n",
    "df_mfg_WATT = df[df['ManufacturerName'].isin(['Wattstopper-EWS'])]\n",
    "df_mfg_BEGA = df[df['ManufacturerName'].isin(['Bega Lighting'])]\n",
    "df_mfg_LEOTEK = df[df['ManufacturerName'].isin(['Leotek Electronics USA LLC'])]\n",
    "df_mfg_FLUX = df[df['ManufacturerName'].isin(['Fluxwerx Illumination Inc.'])]\n",
    "df_mfg_PRIMUS = df[df['ManufacturerName'].isin(['Primus Lighting'])]\n",
    "df_mfg_WHATLEY = df[df['ManufacturerName'].isin(['W. J. Whatley'])]\n",
    "df_mfg_LUMETTA = df[df['ManufacturerName'].isin(['Lumetta'])]\n",
    "df_mfg_RPLIGHTING = df[df['ManufacturerName'].isin(['RP Lighting'])]\n",
    "df_mfg_DELTA = df[df['ManufacturerName'].isin(['Delta Light USA'])]\n",
    "df_mfg_LEX = df[df['ManufacturerName'].isin(['Lexington Standards'])]\n",
    "df_mfg_BEACON = df[df['ManufacturerName'].isin(['Beacon Products'])]\n",
    "df_mfg_ASSURANCE = df[df['ManufacturerName'].isin(['Assurance Emergency Lighting'])]\n",
    "df_mfg_PINNACLE = df[df['ManufacturerName'].isin(['Pinnacle Lighting'])]\n",
    "df_mfg_OXYGEN = df[df['ManufacturerName'].isin(['Oxygen Lighting'])]\n",
    "df_mfg_TMS = df[df['ManufacturerName'].isin(['TMS Lighting'])]\n"
   ]
  },
  {
   "cell_type": "code",
   "execution_count": 170,
   "id": "c89ae8b1-63cd-4a60-9b6c-a3eea7426541",
   "metadata": {},
   "outputs": [
    {
     "name": "stdout",
     "output_type": "stream",
     "text": [
      "['Holm Lighting' 'Hubbell Lighting' '3G Lighting' 'Barron Lighting Group'\n",
      " 'Columbia' 'Compass Life Safety' 'ConTech Lighting' 'Dual-Lite'\n",
      " 'Exitronix' 'Finelite' 'Hubbell Control Solutions'\n",
      " 'Hubbell Industrial Lighting' 'None' 'Prescolite'\n",
      " 'Architectural Area Lighting' 'Hubbell Outdoor Lighting'\n",
      " 'Kenall Lighting' 'LiteControl' 'Lumos Custom' 'Progress Lighting'\n",
      " 'Beulux' 'Kim Lighting' 'LuxDynamics' 'Tempo Industries' 'Trace-Lite'\n",
      " 'Valmont' 'Wattstopper-EWS' 'Bega Lighting' 'Leotek Electronics USA LLC'\n",
      " 'Fluxwerx Illumination Inc.' 'Primus Lighting' 'W. J. Whatley' 'Lumetta'\n",
      " 'RP Lighting' 'Delta Light USA' 'Lexington Standards' 'Beacon Products'\n",
      " 'Assurance Emergency Lighting' 'Pinnacle Lighting' 'Oxygen Lighting'\n",
      " 'TMS Lighting' 'Alphabet Lighting, A Ledrabrands Company' 'Inter-Lux'\n",
      " 'MixMatch Lighting' 'ARON Lighting, LLC' 'Delray Lighting'\n",
      " 'Insight Lighting' 'Lighting Services, Inc.' 'KLIK USA' 'Lightnet USA'\n",
      " 'Watt Stopper']\n"
     ]
    }
   ],
   "source": [
    "print(df['ManufacturerName'].unique())"
   ]
  },
  {
   "cell_type": "code",
   "execution_count": 172,
   "id": "7b051fce-b4cb-4e47-8670-24e9f7641f7d",
   "metadata": {},
   "outputs": [],
   "source": [
    "df_mfg_ALPHABET = df[df['ManufacturerName'].isin(['Alphabet Lighting, A Ledrabrands Company'])]\n",
    "df_mfg_INTERLUX = df[df['ManufacturerName'].isin(['Inter-Lux'])]\n",
    "df_mfg_MIXMATCH = df[df['ManufacturerName'].isin(['Mixmatch Lighting'])]\n",
    "df_mfg_ARON = df[df['ManufacturerName'].isin(['ARON Lighting, LLC'])]\n",
    "df_mfg_DELRAY = df[df['ManufacturerName'].isin(['Delray Lighting'])]\n",
    "df_mfg_INSIGHT = df[df['ManufacturerName'].isin(['Insight Lighting'])]\n",
    "df_mfg_LIGHTINGSERVICES = df[df['ManufacturerName'].isin(['Lighting Services, Inc.'])]\n",
    "df_mfg_KLIK = df[df['ManufacturerName'].isin(['KLIK USA'])]\n",
    "df_mfg_LIGHTNET = df[df['ManufacturerName'].isin(['Lightnet USA'])]\n",
    "df_mfg_WATTSTOPPER = df[df['ManufacturerName'].isin(['Watt Stopper'])]"
   ]
  },
  {
   "cell_type": "code",
   "execution_count": 174,
   "id": "cf1ef09f-ee86-4a74-8749-6651e07c320d",
   "metadata": {},
   "outputs": [],
   "source": [
    "y_pred_weekly_INTERLUX = df_mfg_LUX[['PATweekNum']]\n",
    "y_true_weekly_INTERLUX = df_mfg_LUX[['ActualWeekNum']]\n",
    "y_pred_weekly_LIGHTNET = df_mfg_LIGHTNET[['PATweekNum']]\n",
    "y_true_weekly_LIGHTNET = df_mfg_LIGHTNET[['ActualWeekNum']]\n",
    "y_pred_weekly_MIXMATCH = df_mfg_MIXMATCH[['PATweekNum']]\n",
    "y_true_weekly_MIXMATCH = df_mfg_MIXMATCH[['ActualWeekNum']]\n",
    "y_pred_weekly_DELRAY = df_mfg_DELRAY[['PATweekNum']]\n",
    "y_true_weekly_DELRAY = df_mfg_DELRAY[['ActualWeekNum']]\n",
    "y_pred_weekly_LIGHTINGSERVICES = df_mfg_LIGHTINGSERVICES[['PATweekNum']]\n",
    "y_true_weekly_LIGHTINGSERVICES = df_mfg_LIGHTINGSERVICES[['ActualWeekNum']]\n",
    "y_pred_weekly_ARON = df_mfg_ARON[['PATweekNum']]\n",
    "y_true_weekly_ARON = df_mfg_ARON[['ActualWeekNum']]\n",
    "y_pred_weekly_ALPHABET = df_mfg_ALPHABET[['PATweekNum']]\n",
    "y_true_weekly_ALPHABET = df_mfg_ALPHABET[['ActualWeekNum']]\n",
    "y_pred_weekly_LUMOS = df_mfg_LUMOS[['PATweekNum']]\n",
    "y_true_weekly_LUMOS = df_mfg_LUMOS[['ActualWeekNum']]\n",
    "y_pred_weekly_KLIK = df_mfg_KLIK[['PATweekNum']]\n",
    "y_true_weekly_KLIK = df_mfg_KLIK[['ActualWeekNum']]"
   ]
  },
  {
   "cell_type": "code",
   "execution_count": 186,
   "id": "33435641-7f9a-4482-b6a3-c3e8a6b88d52",
   "metadata": {},
   "outputs": [],
   "source": [
    "y_pred_weekly_COM = df_mfg_COM[['PATweekNum']]\n",
    "y_true_weekly_COM = df_mfg_COM[['ActualWeekNum']]\n",
    "y_pred_weekly_FINELITE = df_mfg_FINELITE[['PATweekNum']]\n",
    "y_true_weekly_FINELITE = df_mfg_FINELITE[['ActualWeekNum']]\n",
    "y_pred_weekly_TRACELITE = df_mfg_TRACELITE[['PATweekNum']]\n",
    "y_true_weekly_TRACELITE = df_mfg_TRACELITE[['ActualWeekNum']]\n",
    "y_pred_weekly_LEX = df_mfg_LEX[['PATweekNum']]\n",
    "y_true_weekly_LEX = df_mfg_LEX[['ActualWeekNum']]\n",
    "y_pred_weekly_HOLM = df_mfg_HOLM[['PATweekNum']]\n",
    "y_true_weekly_HOLM = df_mfg_HOLM[['ActualWeekNum']]\n",
    "y_pred_weekly_DELTA = df_mfg_DELTA[['PATweekNum']]\n",
    "y_true_weekly_DELTA = df_mfg_DELTA[['ActualWeekNum']]\n",
    "y_pred_weekly_AAL = df_mfg_AAL[['PATweekNum']]\n",
    "y_true_weekly_AAL = df_mfg_AAL[['ActualWeekNum']]\n",
    "y_pred_weekly_BARRON = df_mfg_BARRON[['PATweekNum']]\n",
    "y_true_weekly_BARRON = df_mfg_BARRON[['ActualWeekNum']]\n",
    "y_pred_weekly_ASSURANCE = df_mfg_ASSURANCE[['PATweekNum']]\n",
    "y_true_weekly_ASSURANCE = df_mfg_ASSURANCE[['ActualWeekNum']]\n",
    "y_pred_weekly_LUMOS = df_mfg_LUMOS[['PATweekNum']]\n",
    "y_true_weekly_LUMOS = df_mfg_LUMOS[['ActualWeekNum']]\n",
    "y_pred_weekly_TEMPO = df_mfg_TEMPO[['PATweekNum']]\n",
    "y_true_weekly_TEMPO = df_mfg_TEMPO[['ActualWeekNum']]\n",
    "y_pred_weekly_RPLIGHTING = df_mfg_RPLIGHTING[['PATweekNum']]\n",
    "y_true_weekly_RPLIGHTING = df_mfg_RPLIGHTING[['ActualWeekNum']]\n",
    "y_pred_weekly_CONTECH = df_mfg_CONTECH[['PATweekNum']]\n",
    "y_true_weekly_CONTECH = df_mfg_CONTECH[['ActualWeekNum']]\n",
    "y_pred_weekly_WHATLEY = df_mfg_WHATLEY[['PATweekNum']]\n",
    "y_true_weekly_WHATLEY = df_mfg_WHATLEY[['ActualWeekNum']]\n",
    "y_pred_weekly_PROGRESS = df_mfg_PROGRESS[['PATweekNum']]\n",
    "y_true_weekly_PROGRESS = df_mfg_PROGRESS[['ActualWeekNum']]\n",
    "y_pred_weekly_BEGA = df_mfg_BEGA[['PATweekNum']]\n",
    "y_true_weekly_BEGA = df_mfg_BEGA[['ActualWeekNum']]\n",
    "y_pred_weekly_DLE = df_mfg_DLE[['PATweekNum']]\n",
    "y_true_weekly_DLE = df_mfg_DLE[['ActualWeekNum']]\n",
    "y_pred_weekly_KIM = df_mfg_KIM[['PATweekNum']]\n",
    "y_true_weekly_KIM = df_mfg_KIM[['ActualWeekNum']]\n",
    "y_pred_weekly_BEACON = df_mfg_BEACON[['PATweekNum']]\n",
    "y_true_weekly_BEACON = df_mfg_BEACON[['ActualWeekNum']]\n",
    "y_pred_weekly_TMS = df_mfg_TMS[['PATweekNum']]\n",
    "y_true_weekly_TMS = df_mfg_TMS[['ActualWeekNum']]\n",
    "y_pred_weekly_HUBBELL = df_mfg_HUBBELL[['PATweekNum']]\n",
    "y_true_weekly_HUBBELL = df_mfg_HUBBELL[['ActualWeekNum']]\n",
    "y_pred_weekly_COL = df_mfg_COL[['PATweekNum']]\n",
    "y_true_weekly_COL = df_mfg_COL[['ActualWeekNum']]\n",
    "y_pred_weekly_PRES = df_mfg_PRES[['PATweekNum']]\n",
    "y_true_weekly_PRES = df_mfg_PRES[['ActualWeekNum']]\n",
    "y_pred_weekly_3GLTG = df_mfg_3GLTG[['PATweekNum']]\n",
    "y_true_weekly_3GLTG = df_mfg_3GLTG[['ActualWeekNum']]\n",
    "y_pred_weekly_KENALL = df_mfg_KENALL[['PATweekNum']]\n",
    "y_true_weekly_KENALL = df_mfg_KENALL[['ActualWeekNum']]\n",
    "y_pred_weekly_PRIMUS = df_mfg_PRIMUS[['PATweekNum']]\n",
    "y_true_weekly_PRIMUS = df_mfg_PRIMUS[['ActualWeekNum']]\n",
    "y_pred_weekly_EXI = df_mfg_EXI[['PATweekNum']]\n",
    "y_true_weekly_EXI = df_mfg_EXI[['ActualWeekNum']]\n",
    "y_pred_weekly_VAL = df_mfg_VAL[['PATweekNum']]\n",
    "y_true_weekly_VAL = df_mfg_VAL[['ActualWeekNum']]\n",
    "y_pred_weekly_NONE_RESELL = df_mfg_NONE_RESELL[['PATweekNum']]\n",
    "y_true_weekly_NONE_RESELL = df_mfg_NONE_RESELL[['ActualWeekNum']]\n",
    "y_pred_weekly_INSIGHT = df_mfg_INSIGHT[['PATweekNum']]\n",
    "y_true_weekly_INSIGHT = df_mfg_INSIGHT[['ActualWeekNum']]\n",
    "y_pred_weekly_OXYGEN = df_mfg_OXYGEN[['PATweekNum']]\n",
    "y_true_weekly_OXYGEN = df_mfg_OXYGEN[['ActualWeekNum']]\n",
    "y_pred_weekly_WATT = df_mfg_WATT[['PATweekNum']]\n",
    "y_true_weekly_WATT = df_mfg_WATT[['ActualWeekNum']]\n",
    "y_pred_weekly_PINNACLE = df_mfg_PINNACLE[['PATweekNum']]\n",
    "y_true_weekly_PINNACLE = df_mfg_PINNACLE[['ActualWeekNum']]\n",
    "y_pred_weekly_DELTA = df_mfg_DELTA[['PATweekNum']]\n",
    "y_true_weekly_DELTA = df_mfg_DELTA[['ActualWeekNum']]\n",
    "y_pred_weekly_LUMETTA = df_mfg_LUMETTA[['PATweekNum']]\n",
    "y_true_weekly_LUMETTA = df_mfg_LUMETTA[['ActualWeekNum']]\n",
    "y_pred_weekly_FLUX = df_mfg_FLUX[['PATweekNum']]\n",
    "y_true_weekly_FLUX = df_mfg_FLUX[['ActualWeekNum']]\n",
    "y_pred_weekly_LEOTEK = df_mfg_LEOTEK[['PATweekNum']]\n",
    "y_true_weekly_LEOTEK = df_mfg_LEOTEK[['ActualWeekNum']]\n",
    "y_pred_weekly_LUX = df_mfg_LUX[['PATweekNum']]\n",
    "y_true_weekly_LUX = df_mfg_LUX[['ActualWeekNum']]\n",
    "y_pred_weekly_WATTSTOPPER = df_mfg_WATTSTOPPER[['PATweekNum']]\n",
    "y_true_weekly_WATTSTOPPER = df_mfg_WATTSTOPPER[['ActualWeekNum']]\n",
    "y_pred_weekly_BEUL = df_mfg_BEUL[['PATweekNum']]\n",
    "y_true_weekly_BEUL = df_mfg_BEUL[['ActualWeekNum']]\n",
    "y_pred_weekly_HUBBELLINDUSTRIALLIGHTING = df_mfg_HUBBELLINDUSTRIALLIGHTING[['PATweekNum']]\n",
    "y_true_weekly_HUBBELLINDUSTRIALLIGHTING = df_mfg_HUBBELLINDUSTRIALLIGHTING[['ActualWeekNum']]\n",
    "y_pred_weekly_HUBBELLOUTDOORLIGHTING = df_mfg_HUBBELLOUTDOORLIGHTING[['PATweekNum']]\n",
    "y_true_weekly_HUBBELLOUTDOORLIGHTING = df_mfg_HUBBELLOUTDOORLIGHTING[['ActualWeekNum']]\n",
    "y_pred_weekly_HUBBELLCONTROLSOLUTIONS = df_mfg_HUBBELLCONTROLSOLUTIONS[['PATweekNum']]\n",
    "y_true_weekly_HUBBELLCONTROLSOLUTIONS = df_mfg_HUBBELLCONTROLSOLUTIONS[['ActualWeekNum']]\n",
    "y_pred_weekly_LITECONTROL = df_mfg_LITECONTROL[['PATweekNum']]\n",
    "y_true_weekly_LITECONTROL = df_mfg_LITECONTROL[['ActualWeekNum']]"
   ]
  },
  {
   "cell_type": "code",
   "execution_count": 187,
   "id": "cfa450c5-5253-4704-af0e-91183c04daa9",
   "metadata": {},
   "outputs": [],
   "source": [
    "y_pred_monthly_INTERLUX = df_mfg_LUX[['PATclassNum']]\n",
    "y_true_monthly_INTERLUX = df_mfg_LUX[['DaysClassNum']]\n",
    "y_pred_monthly_LIGHTNET = df_mfg_LIGHTNET[['PATclassNum']]\n",
    "y_true_monthly_LIGHTNET = df_mfg_LIGHTNET[['DaysClassNum']]\n",
    "y_pred_monthly_MIXMATCH = df_mfg_MIXMATCH[['PATclassNum']]\n",
    "y_true_monthly_MIXMATCH = df_mfg_MIXMATCH[['DaysClassNum']]\n",
    "y_pred_monthly_DELRAY = df_mfg_DELRAY[['PATclassNum']]\n",
    "y_true_monthly_DELRAY = df_mfg_DELRAY[['DaysClassNum']]\n",
    "y_pred_monthly_LIGHTINGSERVICES = df_mfg_LIGHTINGSERVICES[['PATclassNum']]\n",
    "y_true_monthly_LIGHTINGSERVICES = df_mfg_LIGHTINGSERVICES[['DaysClassNum']]\n",
    "y_pred_monthly_ARON = df_mfg_ARON[['PATclassNum']]\n",
    "y_true_monthly_ARON = df_mfg_ARON[['DaysClassNum']]\n",
    "y_pred_monthly_ALPHABET = df_mfg_ALPHABET[['PATclassNum']]\n",
    "y_true_monthly_ALPHABET = df_mfg_ALPHABET[['DaysClassNum']]\n",
    "y_pred_monthly_LUMOS = df_mfg_LUMOS[['PATclassNum']]\n",
    "y_true_monthly_LUMOS = df_mfg_LUMOS[['DaysClassNum']]\n",
    "y_pred_monthly_KLIK = df_mfg_KLIK[['PATclassNum']]\n",
    "y_true_monthly_KLIK = df_mfg_KLIK[['DaysClassNum']]\n",
    "y_pred_monthly_COM = df_mfg_COM[['PATclassNum']]\n",
    "y_true_monthly_COM = df_mfg_COM[['DaysClassNum']]\n",
    "y_pred_monthly_FINELITE = df_mfg_FINELITE[['PATclassNum']]\n",
    "y_true_monthly_FINELITE = df_mfg_FINELITE[['DaysClassNum']]\n",
    "y_pred_monthly_TRACELITE = df_mfg_TRACELITE[['PATclassNum']]\n",
    "y_true_monthly_TRACELITE = df_mfg_TRACELITE[['DaysClassNum']]\n",
    "y_pred_monthly_LEX = df_mfg_LEX[['PATclassNum']]\n",
    "y_true_monthly_LEX = df_mfg_LEX[['DaysClassNum']]\n",
    "y_pred_monthly_HOLM = df_mfg_HOLM[['PATclassNum']]\n",
    "y_true_monthly_HOLM = df_mfg_HOLM[['DaysClassNum']]\n",
    "y_pred_monthly_DELTA = df_mfg_DELTA[['PATclassNum']]\n",
    "y_true_monthly_DELTA = df_mfg_DELTA[['DaysClassNum']]\n",
    "y_pred_monthly_AAL = df_mfg_AAL[['PATclassNum']]\n",
    "y_true_monthly_AAL = df_mfg_AAL[['DaysClassNum']]\n",
    "y_pred_monthly_BARRON = df_mfg_BARRON[['PATclassNum']]\n",
    "y_true_monthly_BARRON = df_mfg_BARRON[['DaysClassNum']]\n",
    "y_pred_monthly_ASSURANCE = df_mfg_ASSURANCE[['PATclassNum']]\n",
    "y_true_monthly_ASSURANCE = df_mfg_ASSURANCE[['DaysClassNum']]\n",
    "y_pred_monthly_LUMOS = df_mfg_LUMOS[['PATclassNum']]\n",
    "y_true_monthly_LUMOS = df_mfg_LUMOS[['DaysClassNum']]\n",
    "y_pred_monthly_TEMPO = df_mfg_TEMPO[['PATclassNum']]\n",
    "y_true_monthly_TEMPO = df_mfg_TEMPO[['DaysClassNum']]\n",
    "y_pred_monthly_RPLIGHTING = df_mfg_RPLIGHTING[['PATclassNum']]\n",
    "y_true_monthly_RPLIGHTING = df_mfg_RPLIGHTING[['DaysClassNum']]\n",
    "y_pred_monthly_CONTECH = df_mfg_CONTECH[['PATclassNum']]\n",
    "y_true_monthly_CONTECH = df_mfg_CONTECH[['DaysClassNum']]\n",
    "y_pred_monthly_WHATLEY = df_mfg_WHATLEY[['PATclassNum']]\n",
    "y_true_monthly_WHATLEY = df_mfg_WHATLEY[['DaysClassNum']]\n",
    "y_pred_monthly_PROGRESS = df_mfg_PROGRESS[['PATclassNum']]\n",
    "y_true_monthly_PROGRESS = df_mfg_PROGRESS[['DaysClassNum']]\n",
    "y_pred_monthly_BEGA = df_mfg_BEGA[['PATclassNum']]\n",
    "y_true_monthly_BEGA = df_mfg_BEGA[['DaysClassNum']]\n",
    "y_pred_monthly_DLE = df_mfg_DLE[['PATclassNum']]\n",
    "y_true_monthly_DLE = df_mfg_DLE[['DaysClassNum']]\n",
    "y_pred_monthly_KIM = df_mfg_KIM[['PATclassNum']]\n",
    "y_true_monthly_KIM = df_mfg_KIM[['DaysClassNum']]\n",
    "y_pred_monthly_BEACON = df_mfg_BEACON[['PATclassNum']]\n",
    "y_true_monthly_BEACON = df_mfg_BEACON[['DaysClassNum']]\n",
    "y_pred_monthly_TMS = df_mfg_TMS[['PATclassNum']]\n",
    "y_true_monthly_TMS = df_mfg_TMS[['DaysClassNum']]\n",
    "y_pred_monthly_HUBBELL = df_mfg_HUBBELL[['PATclassNum']]\n",
    "y_true_monthly_HUBBELL = df_mfg_HUBBELL[['DaysClassNum']]\n",
    "y_pred_monthly_COL = df_mfg_COL[['PATclassNum']]\n",
    "y_true_monthly_COL = df_mfg_COL[['DaysClassNum']]\n",
    "y_pred_monthly_PRES = df_mfg_PRES[['PATclassNum']]\n",
    "y_true_monthly_PRES = df_mfg_PRES[['DaysClassNum']]\n",
    "y_pred_monthly_3GLTG = df_mfg_3GLTG[['PATclassNum']]\n",
    "y_true_monthly_3GLTG = df_mfg_3GLTG[['DaysClassNum']]\n",
    "y_pred_monthly_KENALL = df_mfg_KENALL[['PATclassNum']]\n",
    "y_true_monthly_KENALL = df_mfg_KENALL[['DaysClassNum']]\n",
    "y_pred_monthly_PRIMUS = df_mfg_PRIMUS[['PATclassNum']]\n",
    "y_true_monthly_PRIMUS = df_mfg_PRIMUS[['DaysClassNum']]\n",
    "y_pred_monthly_EXI = df_mfg_EXI[['PATclassNum']]\n",
    "y_true_monthly_EXI = df_mfg_EXI[['DaysClassNum']]\n",
    "y_pred_monthly_VAL = df_mfg_VAL[['PATclassNum']]\n",
    "y_true_monthly_VAL = df_mfg_VAL[['DaysClassNum']]\n",
    "y_pred_monthly_NONE_RESELL = df_mfg_NONE_RESELL[['PATclassNum']]\n",
    "y_true_monthly_NONE_RESELL = df_mfg_NONE_RESELL[['DaysClassNum']]\n",
    "y_pred_monthly_INSIGHT = df_mfg_INSIGHT[['PATclassNum']]\n",
    "y_true_monthly_INSIGHT = df_mfg_INSIGHT[['DaysClassNum']]\n",
    "y_pred_monthly_OXYGEN = df_mfg_OXYGEN[['PATclassNum']]\n",
    "y_true_monthly_OXYGEN = df_mfg_OXYGEN[['DaysClassNum']]\n",
    "y_pred_monthly_WATT = df_mfg_WATT[['PATclassNum']]\n",
    "y_true_monthly_WATT = df_mfg_WATT[['DaysClassNum']]\n",
    "y_pred_monthly_PINNACLE = df_mfg_PINNACLE[['PATclassNum']]\n",
    "y_true_monthly_PINNACLE = df_mfg_PINNACLE[['DaysClassNum']]\n",
    "y_pred_monthly_DELTA = df_mfg_DELTA[['PATclassNum']]\n",
    "y_true_monthly_DELTA = df_mfg_DELTA[['DaysClassNum']]\n",
    "y_pred_monthly_LUMETTA = df_mfg_LUMETTA[['PATclassNum']]\n",
    "y_true_monthly_LUMETTA = df_mfg_LUMETTA[['DaysClassNum']]\n",
    "y_pred_monthly_FLUX = df_mfg_FLUX[['PATclassNum']]\n",
    "y_true_monthly_FLUX = df_mfg_FLUX[['DaysClassNum']]\n",
    "y_pred_monthly_LEOTEK = df_mfg_LEOTEK[['PATclassNum']]\n",
    "y_true_monthly_LEOTEK = df_mfg_LEOTEK[['DaysClassNum']]\n",
    "y_pred_monthly_LUX = df_mfg_LUX[['PATclassNum']]\n",
    "y_true_monthly_LUX = df_mfg_LUX[['DaysClassNum']]\n",
    "y_pred_monthly_WATTSTOPPER = df_mfg_WATTSTOPPER[['PATclassNum']]\n",
    "y_true_monthly_WATTSTOPPER = df_mfg_WATTSTOPPER[['DaysClassNum']]\n",
    "y_pred_monthly_BEUL = df_mfg_BEUL[['PATclassNum']]\n",
    "y_true_monthly_BEUL = df_mfg_BEUL[['DaysClassNum']]\n",
    "y_pred_monthly_HUBBELLINDUSTRIALLIGHTING = df_mfg_HUBBELLINDUSTRIALLIGHTING[['PATclassNum']]\n",
    "y_true_monthly_HUBBELLINDUSTRIALLIGHTING = df_mfg_HUBBELLINDUSTRIALLIGHTING[['DaysClassNum']]\n",
    "y_pred_monthly_HUBBELLOUTDOORLIGHTING = df_mfg_HUBBELLOUTDOORLIGHTING[['PATclassNum']]\n",
    "y_true_monthly_HUBBELLOUTDOORLIGHTING = df_mfg_HUBBELLOUTDOORLIGHTING[['DaysClassNum']]\n",
    "y_pred_monthly_HUBBELLCONTROLSOLUTIONS = df_mfg_HUBBELLCONTROLSOLUTIONS[['PATclassNum']]\n",
    "y_true_monthly_HUBBELLCONTROLSOLUTIONS = df_mfg_HUBBELLCONTROLSOLUTIONS[['DaysClassNum']]\n",
    "y_pred_monthly_LITECONTROL = df_mfg_LITECONTROL[['PATclassNum']]\n",
    "y_true_monthly_LITECONTROL = df_mfg_LITECONTROL[['DaysClassNum']]"
   ]
  },
  {
   "cell_type": "markdown",
   "id": "9da5f141-8b9a-4625-bf27-7e056e73759a",
   "metadata": {},
   "source": [
    "Individual Manufacturer Accuracy Analysis"
   ]
  },
  {
   "cell_type": "markdown",
   "id": "90df686f-f19b-4b25-ac1a-1499b09379c1",
   "metadata": {},
   "source": [
    "INTERLUX"
   ]
  },
  {
   "cell_type": "code",
   "execution_count": 188,
   "id": "cad0d539-319b-4936-a856-4e709afe7468",
   "metadata": {},
   "outputs": [
    {
     "data": {
      "text/plain": [
       "0.75"
      ]
     },
     "execution_count": 188,
     "metadata": {},
     "output_type": "execute_result"
    }
   ],
   "source": [
    "balanced_accuracy_score(y_pred_monthly_INTERLUX, y_true_monthly_INTERLUX)"
   ]
  },
  {
   "cell_type": "code",
   "execution_count": 248,
   "id": "809fb4f8-8946-4c02-bca8-a402cc5e3bef",
   "metadata": {},
   "outputs": [
    {
     "name": "stdout",
     "output_type": "stream",
     "text": [
      "              precision    recall  f1-score   support\n",
      "\n",
      "           1       1.00      0.75      0.86         4\n",
      "           2       0.00      0.00      0.00         0\n",
      "           3       0.00      0.00      0.00         0\n",
      "           4       0.00      0.00      0.00         0\n",
      "\n",
      "   micro avg       0.75      0.75      0.75         4\n",
      "   macro avg       0.25      0.19      0.21         4\n",
      "weighted avg       1.00      0.75      0.86         4\n",
      "\n"
     ]
    }
   ],
   "source": [
    "print(classification_report(y_pred_monthly_INTERLUX, y_true_monthly_INTERLUX, labels = [1,2,3,4]))"
   ]
  },
  {
   "cell_type": "code",
   "execution_count": 346,
   "id": "c38474a6-5197-4de8-be77-cded8b328551",
   "metadata": {},
   "outputs": [
    {
     "data": {
      "text/plain": [
       "0.3333333333333333"
      ]
     },
     "execution_count": 346,
     "metadata": {},
     "output_type": "execute_result"
    }
   ],
   "source": [
    "balanced_accuracy_score(y_pred_weekly_INTERLUX, y_true_weekly_INTERLUX)"
   ]
  },
  {
   "cell_type": "code",
   "execution_count": 348,
   "id": "bf1416d9-a5a8-4ad2-a2ff-e9a7c58c9f32",
   "metadata": {},
   "outputs": [
    {
     "name": "stdout",
     "output_type": "stream",
     "text": [
      "              precision    recall  f1-score   support\n",
      "\n",
      "           1       0.00      0.00      0.00         1\n",
      "           2       0.00      0.00      0.00         0\n",
      "           3       0.00      0.00      0.00         2\n",
      "           4       1.00      1.00      1.00         1\n",
      "           5       0.00      0.00      0.00         0\n",
      "           6       0.00      0.00      0.00         0\n",
      "           7       0.00      0.00      0.00         0\n",
      "           8       0.00      0.00      0.00         0\n",
      "           9       0.00      0.00      0.00         0\n",
      "          10       0.00      0.00      0.00         0\n",
      "          11       0.00      0.00      0.00         0\n",
      "          12       0.00      0.00      0.00         0\n",
      "          14       0.00      0.00      0.00         0\n",
      "\n",
      "   micro avg       0.25      0.25      0.25         4\n",
      "   macro avg       0.08      0.08      0.08         4\n",
      "weighted avg       0.25      0.25      0.25         4\n",
      "\n"
     ]
    }
   ],
   "source": [
    "print(classification_report(y_pred_weekly_INTERLUX, y_true_weekly_INTERLUX, labels = [1,2,3,4,5,6,7,8,9,10,11,12,14]))"
   ]
  },
  {
   "cell_type": "markdown",
   "id": "b6e47a45-3dac-459d-82a7-723adfc26868",
   "metadata": {},
   "source": [
    "LIGHTNET"
   ]
  },
  {
   "cell_type": "code",
   "execution_count": 192,
   "id": "e5166915-ec40-4cd6-b610-cc985d6fa843",
   "metadata": {},
   "outputs": [
    {
     "data": {
      "text/plain": [
       "1.0"
      ]
     },
     "execution_count": 192,
     "metadata": {},
     "output_type": "execute_result"
    }
   ],
   "source": [
    "balanced_accuracy_score(y_true_monthly_LIGHTNET, y_pred_monthly_LIGHTNET)"
   ]
  },
  {
   "cell_type": "code",
   "execution_count": 251,
   "id": "a3a61e73-8a46-43ae-98ea-5b600b47dda5",
   "metadata": {},
   "outputs": [
    {
     "name": "stdout",
     "output_type": "stream",
     "text": [
      "              precision    recall  f1-score   support\n",
      "\n",
      "           1       1.00      1.00      1.00         1\n",
      "           2       0.00      0.00      0.00         0\n",
      "           3       0.00      0.00      0.00         0\n",
      "           4       0.00      0.00      0.00         0\n",
      "\n",
      "   micro avg       1.00      1.00      1.00         1\n",
      "   macro avg       0.25      0.25      0.25         1\n",
      "weighted avg       1.00      1.00      1.00         1\n",
      "\n"
     ]
    }
   ],
   "source": [
    "print(classification_report(y_pred_monthly_LIGHTNET, y_true_monthly_LIGHTNET, labels = [1,2,3,4]))"
   ]
  },
  {
   "cell_type": "code",
   "execution_count": 349,
   "id": "1d8dd6e3-86d3-45a4-95e5-d8d8c0efb270",
   "metadata": {},
   "outputs": [
    {
     "data": {
      "text/plain": [
       "0.0"
      ]
     },
     "execution_count": 349,
     "metadata": {},
     "output_type": "execute_result"
    }
   ],
   "source": [
    "balanced_accuracy_score(y_true_weekly_LIGHTNET, y_pred_weekly_LIGHTNET)"
   ]
  },
  {
   "cell_type": "code",
   "execution_count": 350,
   "id": "996c5c57-df2b-49bc-9bec-a8fc694f408f",
   "metadata": {},
   "outputs": [
    {
     "name": "stdout",
     "output_type": "stream",
     "text": [
      "              precision    recall  f1-score   support\n",
      "\n",
      "           1       0.00      0.00      0.00       0.0\n",
      "           2       0.00      0.00      0.00       0.0\n",
      "           3       0.00      0.00      0.00       0.0\n",
      "           4       0.00      0.00      0.00       1.0\n",
      "           5       0.00      0.00      0.00       0.0\n",
      "           6       0.00      0.00      0.00       0.0\n",
      "           7       0.00      0.00      0.00       0.0\n",
      "           8       0.00      0.00      0.00       0.0\n",
      "           9       0.00      0.00      0.00       0.0\n",
      "          10       0.00      0.00      0.00       0.0\n",
      "          11       0.00      0.00      0.00       0.0\n",
      "          12       0.00      0.00      0.00       0.0\n",
      "          14       0.00      0.00      0.00       0.0\n",
      "\n",
      "   micro avg       0.00      0.00      0.00       1.0\n",
      "   macro avg       0.00      0.00      0.00       1.0\n",
      "weighted avg       0.00      0.00      0.00       1.0\n",
      "\n"
     ]
    }
   ],
   "source": [
    "print(classification_report(y_pred_weekly_LIGHTNET, y_true_weekly_LIGHTNET, labels = [1,2,3,4,5,6,7,8,9,10,11,12,14]))"
   ]
  },
  {
   "cell_type": "code",
   "execution_count": 351,
   "id": "6187c139-a64a-4385-a27f-9704d3a6decd",
   "metadata": {},
   "outputs": [],
   "source": [
    "#balanced_accuracy_score(y_pred_monthly_MIXMATCH, y_true_monthly_MIXMATCH)\n",
    "#this one errored???"
   ]
  },
  {
   "cell_type": "markdown",
   "id": "909645ce-3248-4655-ae5d-fb9fbcb85cb2",
   "metadata": {},
   "source": [
    "DELRAY"
   ]
  },
  {
   "cell_type": "code",
   "execution_count": 352,
   "id": "93d24849-8ae2-4490-9dbc-c98738cec884",
   "metadata": {},
   "outputs": [
    {
     "data": {
      "text/plain": [
       "0.0"
      ]
     },
     "execution_count": 352,
     "metadata": {},
     "output_type": "execute_result"
    }
   ],
   "source": [
    "balanced_accuracy_score(y_true_monthly_DELRAY, y_pred_monthly_DELRAY)"
   ]
  },
  {
   "cell_type": "code",
   "execution_count": 353,
   "id": "1c4b751d-e4ae-49da-814e-27ef1326df14",
   "metadata": {},
   "outputs": [
    {
     "name": "stdout",
     "output_type": "stream",
     "text": [
      "              precision    recall  f1-score   support\n",
      "\n",
      "           1       0.00      0.00      0.00       0.0\n",
      "           2       0.00      0.00      0.00       0.0\n",
      "           3       0.00      0.00      0.00       1.0\n",
      "           4       0.00      0.00      0.00       0.0\n",
      "\n",
      "   micro avg       0.00      0.00      0.00       1.0\n",
      "   macro avg       0.00      0.00      0.00       1.0\n",
      "weighted avg       0.00      0.00      0.00       1.0\n",
      "\n"
     ]
    }
   ],
   "source": [
    "print(classification_report(y_pred_monthly_DELRAY, y_true_monthly_DELRAY, labels = [1,2,3,4]))"
   ]
  },
  {
   "cell_type": "code",
   "execution_count": 354,
   "id": "7da47206-3169-44c1-aae1-7032636c13c7",
   "metadata": {},
   "outputs": [
    {
     "data": {
      "text/plain": [
       "0.0"
      ]
     },
     "execution_count": 354,
     "metadata": {},
     "output_type": "execute_result"
    }
   ],
   "source": [
    "balanced_accuracy_score(y_true_weekly_DELRAY, y_pred_weekly_DELRAY)"
   ]
  },
  {
   "cell_type": "code",
   "execution_count": 355,
   "id": "2814640a-156f-4436-842b-9bad00a13895",
   "metadata": {},
   "outputs": [
    {
     "ename": "NameError",
     "evalue": "name 'y_pred_weekly_' is not defined",
     "output_type": "error",
     "traceback": [
      "\u001b[1;31m---------------------------------------------------------------------------\u001b[0m",
      "\u001b[1;31mNameError\u001b[0m                                 Traceback (most recent call last)",
      "\u001b[1;32m<ipython-input-355-fbe0d6e56cd0>\u001b[0m in \u001b[0;36m<module>\u001b[1;34m\u001b[0m\n\u001b[1;32m----> 1\u001b[1;33m \u001b[0mprint\u001b[0m\u001b[1;33m(\u001b[0m\u001b[0mclassification_report\u001b[0m\u001b[1;33m(\u001b[0m\u001b[0my_pred_weekly_\u001b[0m\u001b[1;33m,\u001b[0m \u001b[0my_true_weekly_\u001b[0m\u001b[1;33m,\u001b[0m \u001b[0mlabels\u001b[0m \u001b[1;33m=\u001b[0m \u001b[1;33m[\u001b[0m\u001b[1;36m1\u001b[0m\u001b[1;33m,\u001b[0m\u001b[1;36m2\u001b[0m\u001b[1;33m,\u001b[0m\u001b[1;36m3\u001b[0m\u001b[1;33m,\u001b[0m\u001b[1;36m4\u001b[0m\u001b[1;33m,\u001b[0m\u001b[1;36m5\u001b[0m\u001b[1;33m,\u001b[0m\u001b[1;36m6\u001b[0m\u001b[1;33m,\u001b[0m\u001b[1;36m7\u001b[0m\u001b[1;33m,\u001b[0m\u001b[1;36m8\u001b[0m\u001b[1;33m,\u001b[0m\u001b[1;36m9\u001b[0m\u001b[1;33m,\u001b[0m\u001b[1;36m10\u001b[0m\u001b[1;33m,\u001b[0m\u001b[1;36m11\u001b[0m\u001b[1;33m,\u001b[0m\u001b[1;36m12\u001b[0m\u001b[1;33m,\u001b[0m\u001b[1;36m14\u001b[0m\u001b[1;33m]\u001b[0m\u001b[1;33m)\u001b[0m\u001b[1;33m)\u001b[0m\u001b[1;33m\u001b[0m\u001b[1;33m\u001b[0m\u001b[0m\n\u001b[0m",
      "\u001b[1;31mNameError\u001b[0m: name 'y_pred_weekly_' is not defined"
     ]
    }
   ],
   "source": [
    "print(classification_report(y_pred_weekly_, y_true_weekly_, labels = [1,2,3,4,5,6,7,8,9,10,11,12,14]))"
   ]
  },
  {
   "cell_type": "markdown",
   "id": "68abb884-ec15-47f5-91b6-64432195bc8f",
   "metadata": {},
   "source": [
    "LIGHTING SERVICES"
   ]
  },
  {
   "cell_type": "code",
   "execution_count": 356,
   "id": "97327e35-bc2e-4025-8e75-8a2cf9a43f59",
   "metadata": {},
   "outputs": [
    {
     "data": {
      "text/plain": [
       "1.0"
      ]
     },
     "execution_count": 356,
     "metadata": {},
     "output_type": "execute_result"
    }
   ],
   "source": [
    "balanced_accuracy_score(y_pred_monthly_LIGHTINGSERVICES, y_true_monthly_LIGHTINGSERVICES)"
   ]
  },
  {
   "cell_type": "code",
   "execution_count": 357,
   "id": "c84b42d0-627d-49f2-a6ba-4b14005889b9",
   "metadata": {},
   "outputs": [
    {
     "name": "stdout",
     "output_type": "stream",
     "text": [
      "              precision    recall  f1-score   support\n",
      "\n",
      "           1       1.00      1.00      1.00         1\n",
      "           2       0.00      0.00      0.00         0\n",
      "           3       0.00      0.00      0.00         0\n",
      "           4       0.00      0.00      0.00         0\n",
      "\n",
      "   micro avg       1.00      1.00      1.00         1\n",
      "   macro avg       0.25      0.25      0.25         1\n",
      "weighted avg       1.00      1.00      1.00         1\n",
      "\n"
     ]
    }
   ],
   "source": [
    "print(classification_report(y_pred_monthly_LIGHTINGSERVICES, y_true_monthly_LIGHTINGSERVICES, labels = [1,2,3,4]))"
   ]
  },
  {
   "cell_type": "code",
   "execution_count": 358,
   "id": "64aeec4b-7d8c-47d5-9bcd-064970e93337",
   "metadata": {},
   "outputs": [
    {
     "data": {
      "text/plain": [
       "1.0"
      ]
     },
     "execution_count": 358,
     "metadata": {},
     "output_type": "execute_result"
    }
   ],
   "source": [
    "balanced_accuracy_score(y_pred_weekly_LIGHTINGSERVICES, y_true_weekly_LIGHTINGSERVICES)"
   ]
  },
  {
   "cell_type": "code",
   "execution_count": 359,
   "id": "d5b0bdb5-f070-4665-b236-d8da8903e957",
   "metadata": {},
   "outputs": [
    {
     "ename": "NameError",
     "evalue": "name 'y_pred_weekly_' is not defined",
     "output_type": "error",
     "traceback": [
      "\u001b[1;31m---------------------------------------------------------------------------\u001b[0m",
      "\u001b[1;31mNameError\u001b[0m                                 Traceback (most recent call last)",
      "\u001b[1;32m<ipython-input-359-fbe0d6e56cd0>\u001b[0m in \u001b[0;36m<module>\u001b[1;34m\u001b[0m\n\u001b[1;32m----> 1\u001b[1;33m \u001b[0mprint\u001b[0m\u001b[1;33m(\u001b[0m\u001b[0mclassification_report\u001b[0m\u001b[1;33m(\u001b[0m\u001b[0my_pred_weekly_\u001b[0m\u001b[1;33m,\u001b[0m \u001b[0my_true_weekly_\u001b[0m\u001b[1;33m,\u001b[0m \u001b[0mlabels\u001b[0m \u001b[1;33m=\u001b[0m \u001b[1;33m[\u001b[0m\u001b[1;36m1\u001b[0m\u001b[1;33m,\u001b[0m\u001b[1;36m2\u001b[0m\u001b[1;33m,\u001b[0m\u001b[1;36m3\u001b[0m\u001b[1;33m,\u001b[0m\u001b[1;36m4\u001b[0m\u001b[1;33m,\u001b[0m\u001b[1;36m5\u001b[0m\u001b[1;33m,\u001b[0m\u001b[1;36m6\u001b[0m\u001b[1;33m,\u001b[0m\u001b[1;36m7\u001b[0m\u001b[1;33m,\u001b[0m\u001b[1;36m8\u001b[0m\u001b[1;33m,\u001b[0m\u001b[1;36m9\u001b[0m\u001b[1;33m,\u001b[0m\u001b[1;36m10\u001b[0m\u001b[1;33m,\u001b[0m\u001b[1;36m11\u001b[0m\u001b[1;33m,\u001b[0m\u001b[1;36m12\u001b[0m\u001b[1;33m,\u001b[0m\u001b[1;36m14\u001b[0m\u001b[1;33m]\u001b[0m\u001b[1;33m)\u001b[0m\u001b[1;33m)\u001b[0m\u001b[1;33m\u001b[0m\u001b[1;33m\u001b[0m\u001b[0m\n\u001b[0m",
      "\u001b[1;31mNameError\u001b[0m: name 'y_pred_weekly_' is not defined"
     ]
    }
   ],
   "source": [
    "print(classification_report(y_pred_weekly_, y_true_weekly_, labels = [1,2,3,4,5,6,7,8,9,10,11,12,14]))"
   ]
  },
  {
   "cell_type": "markdown",
   "id": "542bfb51-c803-428c-8010-aeba5b7d5caa",
   "metadata": {},
   "source": [
    "ARON"
   ]
  },
  {
   "cell_type": "code",
   "execution_count": 360,
   "id": "d8c61e47-66b6-4869-aba8-7f2393bff055",
   "metadata": {},
   "outputs": [
    {
     "data": {
      "text/plain": [
       "0.0"
      ]
     },
     "execution_count": 360,
     "metadata": {},
     "output_type": "execute_result"
    }
   ],
   "source": [
    "balanced_accuracy_score(y_true_monthly_ARON, y_pred_monthly_ARON)"
   ]
  },
  {
   "cell_type": "code",
   "execution_count": 361,
   "id": "3db67eeb-a433-4d3e-8926-98bcfd5d7f77",
   "metadata": {},
   "outputs": [
    {
     "name": "stdout",
     "output_type": "stream",
     "text": [
      "              precision    recall  f1-score   support\n",
      "\n",
      "           1       0.00      0.00      0.00       2.0\n",
      "           2       0.00      0.00      0.00       0.0\n",
      "           3       0.00      0.00      0.00       0.0\n",
      "           4       0.00      0.00      0.00       0.0\n",
      "\n",
      "   micro avg       0.00      0.00      0.00       2.0\n",
      "   macro avg       0.00      0.00      0.00       2.0\n",
      "weighted avg       0.00      0.00      0.00       2.0\n",
      "\n"
     ]
    }
   ],
   "source": [
    "print(classification_report(y_pred_monthly_ARON, y_true_monthly_ARON, labels = [1,2,3,4]))"
   ]
  },
  {
   "cell_type": "code",
   "execution_count": 362,
   "id": "5a203734-8345-40bd-af16-215a274f4f37",
   "metadata": {},
   "outputs": [
    {
     "data": {
      "text/plain": [
       "0.0"
      ]
     },
     "execution_count": 362,
     "metadata": {},
     "output_type": "execute_result"
    }
   ],
   "source": [
    "balanced_accuracy_score(y_true_weekly_ARON, y_pred_weekly_ARON)"
   ]
  },
  {
   "cell_type": "code",
   "execution_count": 363,
   "id": "1871870d-ea17-4498-a605-5cc8706085d0",
   "metadata": {},
   "outputs": [
    {
     "name": "stdout",
     "output_type": "stream",
     "text": [
      "              precision    recall  f1-score   support\n",
      "\n",
      "           1       0.00      0.00      0.00       0.0\n",
      "           2       0.00      0.00      0.00       0.0\n",
      "           3       0.00      0.00      0.00       0.0\n",
      "           4       0.00      0.00      0.00       2.0\n",
      "           5       0.00      0.00      0.00       0.0\n",
      "           6       0.00      0.00      0.00       0.0\n",
      "           7       0.00      0.00      0.00       0.0\n",
      "           8       0.00      0.00      0.00       0.0\n",
      "           9       0.00      0.00      0.00       0.0\n",
      "          10       0.00      0.00      0.00       0.0\n",
      "          11       0.00      0.00      0.00       0.0\n",
      "          12       0.00      0.00      0.00       0.0\n",
      "          14       0.00      0.00      0.00       0.0\n",
      "\n",
      "   micro avg       0.00      0.00      0.00       2.0\n",
      "   macro avg       0.00      0.00      0.00       2.0\n",
      "weighted avg       0.00      0.00      0.00       2.0\n",
      "\n"
     ]
    }
   ],
   "source": [
    "print(classification_report(y_pred_weekly_ARON, y_true_weekly_ARON, labels = [1,2,3,4,5,6,7,8,9,10,11,12,14]))"
   ]
  },
  {
   "cell_type": "markdown",
   "id": "f36ff694-de28-4160-8c56-606ccdf1146c",
   "metadata": {},
   "source": [
    "ALPHABET"
   ]
  },
  {
   "cell_type": "code",
   "execution_count": 364,
   "id": "26e853db-3ee4-4813-90b9-57d2e398fb83",
   "metadata": {},
   "outputs": [
    {
     "data": {
      "text/plain": [
       "1.0"
      ]
     },
     "execution_count": 364,
     "metadata": {},
     "output_type": "execute_result"
    }
   ],
   "source": [
    "balanced_accuracy_score(y_true_monthly_ALPHABET, y_pred_monthly_ALPHABET)"
   ]
  },
  {
   "cell_type": "code",
   "execution_count": 365,
   "id": "a8ec66e7-c014-4fc8-907d-27d44819b10f",
   "metadata": {},
   "outputs": [
    {
     "name": "stdout",
     "output_type": "stream",
     "text": [
      "              precision    recall  f1-score   support\n",
      "\n",
      "           1       1.00      1.00      1.00         2\n",
      "           2       0.00      0.00      0.00         0\n",
      "           3       0.00      0.00      0.00         0\n",
      "           4       0.00      0.00      0.00         0\n",
      "\n",
      "   micro avg       1.00      1.00      1.00         2\n",
      "   macro avg       0.25      0.25      0.25         2\n",
      "weighted avg       1.00      1.00      1.00         2\n",
      "\n"
     ]
    }
   ],
   "source": [
    "print(classification_report(y_pred_monthly_ALPHABET, y_true_monthly_ALPHABET, labels = [1,2,3,4]))"
   ]
  },
  {
   "cell_type": "code",
   "execution_count": 366,
   "id": "26988540-81f7-4304-bcf9-6efed54b6c76",
   "metadata": {},
   "outputs": [
    {
     "data": {
      "text/plain": [
       "1.0"
      ]
     },
     "execution_count": 366,
     "metadata": {},
     "output_type": "execute_result"
    }
   ],
   "source": [
    "balanced_accuracy_score(y_true_weekly_ALPHABET, y_pred_weekly_ALPHABET)"
   ]
  },
  {
   "cell_type": "code",
   "execution_count": 367,
   "id": "83f5477b-e1a6-4e92-80b5-40d8075fbaf8",
   "metadata": {},
   "outputs": [
    {
     "name": "stdout",
     "output_type": "stream",
     "text": [
      "              precision    recall  f1-score   support\n",
      "\n",
      "           1       1.00      1.00      1.00         2\n",
      "           2       0.00      0.00      0.00         0\n",
      "           3       0.00      0.00      0.00         0\n",
      "           4       0.00      0.00      0.00         0\n",
      "           5       0.00      0.00      0.00         0\n",
      "           6       0.00      0.00      0.00         0\n",
      "           7       0.00      0.00      0.00         0\n",
      "           8       0.00      0.00      0.00         0\n",
      "           9       0.00      0.00      0.00         0\n",
      "          10       0.00      0.00      0.00         0\n",
      "          11       0.00      0.00      0.00         0\n",
      "          12       0.00      0.00      0.00         0\n",
      "          14       0.00      0.00      0.00         0\n",
      "\n",
      "   micro avg       1.00      1.00      1.00         2\n",
      "   macro avg       0.08      0.08      0.08         2\n",
      "weighted avg       1.00      1.00      1.00         2\n",
      "\n"
     ]
    }
   ],
   "source": [
    "print(classification_report(y_pred_weekly_ALPHABET, y_true_weekly_ALPHABET, labels = [1,2,3,4,5,6,7,8,9,10,11,12,14]))"
   ]
  },
  {
   "cell_type": "markdown",
   "id": "5e39210a-5251-4a2f-a32a-3aaebfa89c80",
   "metadata": {},
   "source": [
    "LUMOS"
   ]
  },
  {
   "cell_type": "code",
   "execution_count": 368,
   "id": "b08df547-0f04-45be-a8e8-804027900f17",
   "metadata": {},
   "outputs": [
    {
     "data": {
      "text/plain": [
       "0.0"
      ]
     },
     "execution_count": 368,
     "metadata": {},
     "output_type": "execute_result"
    }
   ],
   "source": [
    "balanced_accuracy_score(y_true_monthly_LUMOS, y_pred_monthly_LUMOS)"
   ]
  },
  {
   "cell_type": "code",
   "execution_count": 369,
   "id": "0c17d47a-a0c1-424e-ac98-d4f7bae20b9e",
   "metadata": {},
   "outputs": [
    {
     "name": "stdout",
     "output_type": "stream",
     "text": [
      "              precision    recall  f1-score   support\n",
      "\n",
      "           1       0.00      0.00      0.00       2.0\n",
      "           2       0.00      0.00      0.00       0.0\n",
      "           3       0.00      0.00      0.00       0.0\n",
      "           4       0.00      0.00      0.00       0.0\n",
      "\n",
      "   micro avg       0.00      0.00      0.00       2.0\n",
      "   macro avg       0.00      0.00      0.00       2.0\n",
      "weighted avg       0.00      0.00      0.00       2.0\n",
      "\n"
     ]
    }
   ],
   "source": [
    "print(classification_report(y_pred_monthly_LUMOS, y_true_monthly_LUMOS, labels = [1,2,3,4]))"
   ]
  },
  {
   "cell_type": "code",
   "execution_count": 370,
   "id": "d5ef7c1a-8efc-4750-90a9-5d48393c359b",
   "metadata": {},
   "outputs": [
    {
     "data": {
      "text/plain": [
       "0.0"
      ]
     },
     "execution_count": 370,
     "metadata": {},
     "output_type": "execute_result"
    }
   ],
   "source": [
    "balanced_accuracy_score(y_true_weekly_LUMOS, y_pred_weekly_LUMOS)"
   ]
  },
  {
   "cell_type": "code",
   "execution_count": 371,
   "id": "0591302c-6d18-4c5b-9c20-137e5e90f464",
   "metadata": {},
   "outputs": [
    {
     "name": "stdout",
     "output_type": "stream",
     "text": [
      "              precision    recall  f1-score   support\n",
      "\n",
      "           1       0.00      0.00      0.00       1.0\n",
      "           2       0.00      0.00      0.00       0.0\n",
      "           3       0.00      0.00      0.00       0.0\n",
      "           4       0.00      0.00      0.00       1.0\n",
      "           5       0.00      0.00      0.00       0.0\n",
      "           6       0.00      0.00      0.00       0.0\n",
      "           7       0.00      0.00      0.00       0.0\n",
      "           8       0.00      0.00      0.00       0.0\n",
      "           9       0.00      0.00      0.00       0.0\n",
      "          10       0.00      0.00      0.00       0.0\n",
      "          11       0.00      0.00      0.00       0.0\n",
      "          12       0.00      0.00      0.00       0.0\n",
      "          14       0.00      0.00      0.00       0.0\n",
      "\n",
      "   micro avg       0.00      0.00      0.00       2.0\n",
      "   macro avg       0.00      0.00      0.00       2.0\n",
      "weighted avg       0.00      0.00      0.00       2.0\n",
      "\n"
     ]
    }
   ],
   "source": [
    "print(classification_report(y_pred_weekly_LUMOS, y_true_weekly_LUMOS, labels = [1,2,3,4,5,6,7,8,9,10,11,12,14]))"
   ]
  },
  {
   "cell_type": "markdown",
   "id": "b4dcf1e0-6a42-487c-874b-131b3338e948",
   "metadata": {},
   "source": [
    "KLIK"
   ]
  },
  {
   "cell_type": "code",
   "execution_count": 372,
   "id": "88738b8a-48bf-4b7e-b03e-5fa542997082",
   "metadata": {},
   "outputs": [
    {
     "data": {
      "text/plain": [
       "1.0"
      ]
     },
     "execution_count": 372,
     "metadata": {},
     "output_type": "execute_result"
    }
   ],
   "source": [
    "balanced_accuracy_score(y_true_monthly_KLIK,\n",
    "y_pred_monthly_KLIK)"
   ]
  },
  {
   "cell_type": "code",
   "execution_count": 373,
   "id": "ad91a3e8-dea0-4d24-baee-09c651a97a06",
   "metadata": {},
   "outputs": [
    {
     "name": "stdout",
     "output_type": "stream",
     "text": [
      "              precision    recall  f1-score   support\n",
      "\n",
      "           1       1.00      1.00      1.00         2\n",
      "           2       0.00      0.00      0.00         0\n",
      "           3       0.00      0.00      0.00         0\n",
      "           4       0.00      0.00      0.00         0\n",
      "\n",
      "   micro avg       1.00      1.00      1.00         2\n",
      "   macro avg       0.25      0.25      0.25         2\n",
      "weighted avg       1.00      1.00      1.00         2\n",
      "\n"
     ]
    }
   ],
   "source": [
    "print(classification_report(y_pred_monthly_KLIK, y_true_monthly_KLIK, labels = [1,2,3,4]))"
   ]
  },
  {
   "cell_type": "code",
   "execution_count": 374,
   "id": "564a4ecb-4793-414e-8b54-b60c371fbaa9",
   "metadata": {},
   "outputs": [
    {
     "data": {
      "text/plain": [
       "1.0"
      ]
     },
     "execution_count": 374,
     "metadata": {},
     "output_type": "execute_result"
    }
   ],
   "source": [
    "balanced_accuracy_score(y_true_weekly_KLIK,\n",
    "y_pred_weekly_KLIK)"
   ]
  },
  {
   "cell_type": "code",
   "execution_count": 375,
   "id": "68d1af73-ca28-4d12-9480-ad9ab6f8cc99",
   "metadata": {},
   "outputs": [
    {
     "name": "stdout",
     "output_type": "stream",
     "text": [
      "              precision    recall  f1-score   support\n",
      "\n",
      "           1       1.00      1.00      1.00         2\n",
      "           2       0.00      0.00      0.00         0\n",
      "           3       0.00      0.00      0.00         0\n",
      "           4       0.00      0.00      0.00         0\n",
      "           5       0.00      0.00      0.00         0\n",
      "           6       0.00      0.00      0.00         0\n",
      "           7       0.00      0.00      0.00         0\n",
      "           8       0.00      0.00      0.00         0\n",
      "           9       0.00      0.00      0.00         0\n",
      "          10       0.00      0.00      0.00         0\n",
      "          11       0.00      0.00      0.00         0\n",
      "          12       0.00      0.00      0.00         0\n",
      "          14       0.00      0.00      0.00         0\n",
      "\n",
      "   micro avg       1.00      1.00      1.00         2\n",
      "   macro avg       0.08      0.08      0.08         2\n",
      "weighted avg       1.00      1.00      1.00         2\n",
      "\n"
     ]
    }
   ],
   "source": [
    "print(classification_report(y_pred_weekly_KLIK, y_true_weekly_KLIK, labels = [1,2,3,4,5,6,7,8,9,10,11,12,14]))"
   ]
  },
  {
   "cell_type": "markdown",
   "id": "512a634b-4d37-4077-ba59-c6136bb69b73",
   "metadata": {},
   "source": [
    "COM"
   ]
  },
  {
   "cell_type": "code",
   "execution_count": 376,
   "id": "af103c82-7ff1-450a-80f8-71e107134b0b",
   "metadata": {},
   "outputs": [
    {
     "data": {
      "text/plain": [
       "0.5"
      ]
     },
     "execution_count": 376,
     "metadata": {},
     "output_type": "execute_result"
    }
   ],
   "source": [
    "balanced_accuracy_score(y_true_monthly_COM,\n",
    "y_pred_monthly_COM)"
   ]
  },
  {
   "cell_type": "code",
   "execution_count": 377,
   "id": "a898f567-8251-4c3b-bd7b-a9c75cceb255",
   "metadata": {},
   "outputs": [
    {
     "name": "stdout",
     "output_type": "stream",
     "text": [
      "              precision    recall  f1-score   support\n",
      "\n",
      "           1       1.00      0.95      0.97        39\n",
      "           2       0.00      0.00      0.00         0\n",
      "           3       0.00      0.00      0.00         0\n",
      "           4       0.00      0.00      0.00         0\n",
      "\n",
      "   micro avg       0.95      0.95      0.95        39\n",
      "   macro avg       0.25      0.24      0.24        39\n",
      "weighted avg       1.00      0.95      0.97        39\n",
      "\n"
     ]
    }
   ],
   "source": [
    "print(classification_report(y_pred_monthly_COM, y_true_monthly_COM, labels = [1,2,3,4]))"
   ]
  },
  {
   "cell_type": "code",
   "execution_count": 378,
   "id": "22991656-b4c2-4576-a6ea-e9f785868514",
   "metadata": {},
   "outputs": [
    {
     "data": {
      "text/plain": [
       "0.19886363636363635"
      ]
     },
     "execution_count": 378,
     "metadata": {},
     "output_type": "execute_result"
    }
   ],
   "source": [
    "balanced_accuracy_score(y_true_weekly_COM,\n",
    "y_pred_weekly_COM)"
   ]
  },
  {
   "cell_type": "code",
   "execution_count": 379,
   "id": "9a663cae-3010-47f3-877e-b28ee2f56495",
   "metadata": {},
   "outputs": [
    {
     "name": "stdout",
     "output_type": "stream",
     "text": [
      "              precision    recall  f1-score   support\n",
      "\n",
      "           1       0.00      0.00      0.00         7\n",
      "           2       0.55      0.38      0.44        16\n",
      "           3       0.25      0.43      0.32         7\n",
      "           4       0.00      0.00      0.00         9\n",
      "           5       0.00      0.00      0.00         0\n",
      "           6       0.00      0.00      0.00         0\n",
      "           7       0.00      0.00      0.00         0\n",
      "           8       0.00      0.00      0.00         0\n",
      "           9       0.00      0.00      0.00         0\n",
      "          10       0.00      0.00      0.00         0\n",
      "          11       0.00      0.00      0.00         0\n",
      "          12       0.00      0.00      0.00         0\n",
      "          14       0.00      0.00      0.00         0\n",
      "\n",
      "   micro avg       0.23      0.23      0.23        39\n",
      "   macro avg       0.06      0.06      0.06        39\n",
      "weighted avg       0.27      0.23      0.24        39\n",
      "\n"
     ]
    }
   ],
   "source": [
    "print(classification_report(y_pred_weekly_COM, y_true_weekly_COM, labels = [1,2,3,4,5,6,7,8,9,10,11,12,14]))"
   ]
  },
  {
   "cell_type": "markdown",
   "id": "ff353e92-93bf-4952-8cfe-726896a3e9bc",
   "metadata": {},
   "source": [
    "FINELITE"
   ]
  },
  {
   "cell_type": "code",
   "execution_count": 380,
   "id": "4d2e998a-bbae-40c7-b895-bf6704dd0f2e",
   "metadata": {},
   "outputs": [
    {
     "data": {
      "text/plain": [
       "0.6071428571428572"
      ]
     },
     "execution_count": 380,
     "metadata": {},
     "output_type": "execute_result"
    }
   ],
   "source": [
    "balanced_accuracy_score(y_true_monthly_FINELITE,\n",
    "y_pred_monthly_FINELITE)"
   ]
  },
  {
   "cell_type": "code",
   "execution_count": 381,
   "id": "358d5b43-731b-4250-af3c-e6b403b4eed1",
   "metadata": {},
   "outputs": [
    {
     "name": "stdout",
     "output_type": "stream",
     "text": [
      "              precision    recall  f1-score   support\n",
      "\n",
      "           1       0.00      0.00      0.00         2\n",
      "           2       0.50      1.00      0.67         1\n",
      "           3       0.71      0.83      0.77         6\n",
      "           4       0.00      0.00      0.00         0\n",
      "\n",
      "   micro avg       0.67      0.67      0.67         9\n",
      "   macro avg       0.30      0.46      0.36         9\n",
      "weighted avg       0.53      0.67      0.59         9\n",
      "\n"
     ]
    }
   ],
   "source": [
    "print(classification_report(y_pred_monthly_FINELITE, y_true_monthly_FINELITE, labels = [1,2,3,4]))"
   ]
  },
  {
   "cell_type": "code",
   "execution_count": 382,
   "id": "f918d353-1904-4876-8c81-cd8c9e33273a",
   "metadata": {},
   "outputs": [
    {
     "data": {
      "text/plain": [
       "0.275"
      ]
     },
     "execution_count": 382,
     "metadata": {},
     "output_type": "execute_result"
    }
   ],
   "source": [
    "balanced_accuracy_score(y_true_weekly_FINELITE,\n",
    "y_pred_weekly_FINELITE)"
   ]
  },
  {
   "cell_type": "code",
   "execution_count": 383,
   "id": "183618cd-3258-4fd9-9369-febba8585556",
   "metadata": {},
   "outputs": [
    {
     "name": "stdout",
     "output_type": "stream",
     "text": [
      "              precision    recall  f1-score   support\n",
      "\n",
      "           1       0.00      0.00      0.00         1\n",
      "           2       0.00      0.00      0.00         0\n",
      "           3       0.00      0.00      0.00         1\n",
      "           4       0.00      0.00      0.00         0\n",
      "           5       0.00      0.00      0.00         0\n",
      "           6       0.00      0.00      0.00         0\n",
      "           7       0.00      0.00      0.00         0\n",
      "           8       0.50      1.00      0.67         1\n",
      "           9       0.00      0.00      0.00         0\n",
      "          10       0.60      0.60      0.60         5\n",
      "          11       0.00      0.00      0.00         1\n",
      "          12       0.00      0.00      0.00         0\n",
      "          14       0.00      0.00      0.00         0\n",
      "\n",
      "   micro avg       0.44      0.44      0.44         9\n",
      "   macro avg       0.08      0.12      0.10         9\n",
      "weighted avg       0.39      0.44      0.41         9\n",
      "\n"
     ]
    }
   ],
   "source": [
    "print(classification_report(y_pred_weekly_FINELITE, y_true_weekly_FINELITE, labels = [1,2,3,4,5,6,7,8,9,10,11,12,14]))"
   ]
  },
  {
   "cell_type": "markdown",
   "id": "2c6884b3-8311-4815-a6ac-66c7794f248a",
   "metadata": {},
   "source": [
    "TRACELITE"
   ]
  },
  {
   "cell_type": "code",
   "execution_count": 384,
   "id": "fc1e793e-e313-48b3-8d7a-63b6159c963e",
   "metadata": {},
   "outputs": [
    {
     "data": {
      "text/plain": [
       "0.5"
      ]
     },
     "execution_count": 384,
     "metadata": {},
     "output_type": "execute_result"
    }
   ],
   "source": [
    "balanced_accuracy_score(y_true_monthly_TRACELITE,\n",
    "y_pred_monthly_TRACELITE)"
   ]
  },
  {
   "cell_type": "code",
   "execution_count": 385,
   "id": "e1182d0e-55bc-482f-964a-eb6fa765d530",
   "metadata": {},
   "outputs": [
    {
     "name": "stdout",
     "output_type": "stream",
     "text": [
      "              precision    recall  f1-score   support\n",
      "\n",
      "           1       0.50      0.50      0.50         2\n",
      "           2       0.50      0.50      0.50         2\n",
      "           3       0.00      0.00      0.00         0\n",
      "           4       0.00      0.00      0.00         0\n",
      "\n",
      "   micro avg       0.50      0.50      0.50         4\n",
      "   macro avg       0.25      0.25      0.25         4\n",
      "weighted avg       0.50      0.50      0.50         4\n",
      "\n"
     ]
    }
   ],
   "source": [
    "print(classification_report(y_pred_monthly_TRACELITE, y_true_monthly_TRACELITE, labels = [1,2,3,4]))"
   ]
  },
  {
   "cell_type": "code",
   "execution_count": 386,
   "id": "960cc15a-d049-413a-9988-c26143ffb597",
   "metadata": {},
   "outputs": [
    {
     "data": {
      "text/plain": [
       "0.0"
      ]
     },
     "execution_count": 386,
     "metadata": {},
     "output_type": "execute_result"
    }
   ],
   "source": [
    "balanced_accuracy_score(y_true_weekly_TRACELITE,\n",
    "y_pred_weekly_TRACELITE)"
   ]
  },
  {
   "cell_type": "code",
   "execution_count": 387,
   "id": "572b0d86-52dd-4838-b81c-c9681fb6b82a",
   "metadata": {},
   "outputs": [
    {
     "name": "stdout",
     "output_type": "stream",
     "text": [
      "              precision    recall  f1-score   support\n",
      "\n",
      "           1       0.00      0.00      0.00       0.0\n",
      "           2       0.00      0.00      0.00       2.0\n",
      "           3       0.00      0.00      0.00       0.0\n",
      "           4       0.00      0.00      0.00       0.0\n",
      "           5       0.00      0.00      0.00       2.0\n",
      "           6       0.00      0.00      0.00       0.0\n",
      "           7       0.00      0.00      0.00       0.0\n",
      "           8       0.00      0.00      0.00       0.0\n",
      "           9       0.00      0.00      0.00       0.0\n",
      "          10       0.00      0.00      0.00       0.0\n",
      "          11       0.00      0.00      0.00       0.0\n",
      "          12       0.00      0.00      0.00       0.0\n",
      "          14       0.00      0.00      0.00       0.0\n",
      "\n",
      "   micro avg       0.00      0.00      0.00       4.0\n",
      "   macro avg       0.00      0.00      0.00       4.0\n",
      "weighted avg       0.00      0.00      0.00       4.0\n",
      "\n"
     ]
    }
   ],
   "source": [
    "print(classification_report(y_pred_weekly_TRACELITE, y_true_weekly_TRACELITE, labels = [1,2,3,4,5,6,7,8,9,10,11,12,14]))"
   ]
  },
  {
   "cell_type": "markdown",
   "id": "8375d060-f846-4dbd-baa9-5c6bc41eba1b",
   "metadata": {},
   "source": [
    "LEX"
   ]
  },
  {
   "cell_type": "code",
   "execution_count": 391,
   "id": "695ec4d4-18f0-4d42-acf7-07d739390dd5",
   "metadata": {},
   "outputs": [
    {
     "data": {
      "text/plain": [
       "0.4861111111111111"
      ]
     },
     "execution_count": 391,
     "metadata": {},
     "output_type": "execute_result"
    }
   ],
   "source": [
    "balanced_accuracy_score(y_true_monthly_LEX,\n",
    "y_pred_monthly_LEX )"
   ]
  },
  {
   "cell_type": "code",
   "execution_count": 392,
   "id": "b53e6f39-e709-4d7f-8a2a-12cb3debb5e8",
   "metadata": {},
   "outputs": [
    {
     "name": "stdout",
     "output_type": "stream",
     "text": [
      "              precision    recall  f1-score   support\n",
      "\n",
      "           1       0.75      0.30      0.43        10\n",
      "           2       0.22      0.67      0.33         3\n",
      "           3       0.00      0.00      0.00         0\n",
      "           4       0.00      0.00      0.00         0\n",
      "\n",
      "   micro avg       0.38      0.38      0.38        13\n",
      "   macro avg       0.24      0.24      0.19        13\n",
      "weighted avg       0.63      0.38      0.41        13\n",
      "\n"
     ]
    }
   ],
   "source": [
    "print(classification_report(y_pred_monthly_LEX, y_true_monthly_LEX, labels = [1,2,3,4]))"
   ]
  },
  {
   "cell_type": "code",
   "execution_count": 393,
   "id": "18a61a6d-0fe8-4817-b550-28b278156c1f",
   "metadata": {},
   "outputs": [
    {
     "data": {
      "text/plain": [
       "0.10416666666666666"
      ]
     },
     "execution_count": 393,
     "metadata": {},
     "output_type": "execute_result"
    }
   ],
   "source": [
    "balanced_accuracy_score(y_true_weekly_LEX,\n",
    "y_pred_weekly_LEX )"
   ]
  },
  {
   "cell_type": "code",
   "execution_count": 394,
   "id": "fcdf556b-45dd-4b5d-af58-6859caf826c9",
   "metadata": {},
   "outputs": [
    {
     "name": "stdout",
     "output_type": "stream",
     "text": [
      "              precision    recall  f1-score   support\n",
      "\n",
      "           1       0.00      0.00      0.00         1\n",
      "           2       0.00      0.00      0.00         3\n",
      "           3       0.00      0.00      0.00         5\n",
      "           4       0.25      1.00      0.40         1\n",
      "           5       0.17      0.33      0.22         3\n",
      "           6       0.00      0.00      0.00         0\n",
      "           7       0.00      0.00      0.00         0\n",
      "           8       0.00      0.00      0.00         0\n",
      "           9       0.00      0.00      0.00         0\n",
      "          10       0.00      0.00      0.00         0\n",
      "          11       0.00      0.00      0.00         0\n",
      "          12       0.00      0.00      0.00         0\n",
      "          14       0.00      0.00      0.00         0\n",
      "\n",
      "   micro avg       0.15      0.15      0.15        13\n",
      "   macro avg       0.03      0.10      0.05        13\n",
      "weighted avg       0.06      0.15      0.08        13\n",
      "\n"
     ]
    }
   ],
   "source": [
    "print(classification_report(y_pred_weekly_LEX, y_true_weekly_LEX, labels = [1,2,3,4,5,6,7,8,9,10,11,12,14]))"
   ]
  },
  {
   "cell_type": "markdown",
   "id": "b9770137-f84d-45f7-a728-8bd557a86319",
   "metadata": {},
   "source": [
    "HOLM"
   ]
  },
  {
   "cell_type": "code",
   "execution_count": 395,
   "id": "b9e445c7-5902-400c-a9df-9e8cc937f979",
   "metadata": {},
   "outputs": [
    {
     "data": {
      "text/plain": [
       "0.0"
      ]
     },
     "execution_count": 395,
     "metadata": {},
     "output_type": "execute_result"
    }
   ],
   "source": [
    "balanced_accuracy_score(y_true_monthly_HOLM,\n",
    "y_pred_monthly_HOLM)"
   ]
  },
  {
   "cell_type": "code",
   "execution_count": 396,
   "id": "ac94eb4f-c505-4419-808f-611981cc17cd",
   "metadata": {},
   "outputs": [
    {
     "name": "stdout",
     "output_type": "stream",
     "text": [
      "              precision    recall  f1-score   support\n",
      "\n",
      "           1       0.00      0.00      0.00       1.0\n",
      "           2       0.00      0.00      0.00       0.0\n",
      "           3       0.00      0.00      0.00       0.0\n",
      "           4       0.00      0.00      0.00       0.0\n",
      "\n",
      "   micro avg       0.00      0.00      0.00       1.0\n",
      "   macro avg       0.00      0.00      0.00       1.0\n",
      "weighted avg       0.00      0.00      0.00       1.0\n",
      "\n"
     ]
    }
   ],
   "source": [
    "print(classification_report(y_pred_monthly_HOLM, y_true_monthly_HOLM, labels = [1,2,3,4]))"
   ]
  },
  {
   "cell_type": "code",
   "execution_count": 397,
   "id": "db32bb98-964e-4d68-a3a2-7aec5aae62f5",
   "metadata": {},
   "outputs": [
    {
     "data": {
      "text/plain": [
       "0.0"
      ]
     },
     "execution_count": 397,
     "metadata": {},
     "output_type": "execute_result"
    }
   ],
   "source": [
    "balanced_accuracy_score(y_true_weekly_HOLM,\n",
    "y_pred_weekly_HOLM)"
   ]
  },
  {
   "cell_type": "code",
   "execution_count": 398,
   "id": "03d1ee6f-63d3-4ebf-93c4-621f3fd04777",
   "metadata": {},
   "outputs": [
    {
     "name": "stdout",
     "output_type": "stream",
     "text": [
      "              precision    recall  f1-score   support\n",
      "\n",
      "           1       0.00      0.00      0.00       1.0\n",
      "           2       0.00      0.00      0.00       0.0\n",
      "           3       0.00      0.00      0.00       0.0\n",
      "           4       0.00      0.00      0.00       0.0\n",
      "           5       0.00      0.00      0.00       0.0\n",
      "           6       0.00      0.00      0.00       0.0\n",
      "           7       0.00      0.00      0.00       0.0\n",
      "           8       0.00      0.00      0.00       0.0\n",
      "           9       0.00      0.00      0.00       0.0\n",
      "          10       0.00      0.00      0.00       0.0\n",
      "          11       0.00      0.00      0.00       0.0\n",
      "          12       0.00      0.00      0.00       0.0\n",
      "          14       0.00      0.00      0.00       0.0\n",
      "\n",
      "   micro avg       0.00      0.00      0.00       1.0\n",
      "   macro avg       0.00      0.00      0.00       1.0\n",
      "weighted avg       0.00      0.00      0.00       1.0\n",
      "\n"
     ]
    }
   ],
   "source": [
    "print(classification_report(y_pred_weekly_HOLM, y_true_weekly_HOLM, labels = [1,2,3,4,5,6,7,8,9,10,11,12,14]))"
   ]
  },
  {
   "cell_type": "markdown",
   "id": "99094d38-8e86-49ac-a803-cb75b6163f5a",
   "metadata": {},
   "source": [
    "DELTA"
   ]
  },
  {
   "cell_type": "code",
   "execution_count": 399,
   "id": "c104a4ef-0285-4971-b7c3-d21477e0b3d4",
   "metadata": {},
   "outputs": [
    {
     "data": {
      "text/plain": [
       "0.0"
      ]
     },
     "execution_count": 399,
     "metadata": {},
     "output_type": "execute_result"
    }
   ],
   "source": [
    "balanced_accuracy_score(y_true_monthly_DELTA,\n",
    "y_pred_monthly_DELTA)"
   ]
  },
  {
   "cell_type": "code",
   "execution_count": 400,
   "id": "9ea51617-09a3-42fe-b92c-ec142936a0bd",
   "metadata": {},
   "outputs": [
    {
     "name": "stdout",
     "output_type": "stream",
     "text": [
      "              precision    recall  f1-score   support\n",
      "\n",
      "           1       0.00      0.00      0.00       0.0\n",
      "           2       0.00      0.00      0.00       1.0\n",
      "           3       0.00      0.00      0.00       0.0\n",
      "           4       0.00      0.00      0.00       0.0\n",
      "\n",
      "   micro avg       0.00      0.00      0.00       1.0\n",
      "   macro avg       0.00      0.00      0.00       1.0\n",
      "weighted avg       0.00      0.00      0.00       1.0\n",
      "\n"
     ]
    }
   ],
   "source": [
    "print(classification_report(y_pred_monthly_DELTA, y_true_monthly_DELTA, labels = [1,2,3,4]))"
   ]
  },
  {
   "cell_type": "code",
   "execution_count": 401,
   "id": "5d5e1730-e759-4356-8455-1d1e87211c21",
   "metadata": {},
   "outputs": [
    {
     "data": {
      "text/plain": [
       "0.0"
      ]
     },
     "execution_count": 401,
     "metadata": {},
     "output_type": "execute_result"
    }
   ],
   "source": [
    "balanced_accuracy_score(y_true_weekly_DELTA,\n",
    "y_pred_weekly_DELTA)"
   ]
  },
  {
   "cell_type": "code",
   "execution_count": 402,
   "id": "3cd0d60a-1b05-47d9-aa79-138d36904bea",
   "metadata": {},
   "outputs": [
    {
     "name": "stdout",
     "output_type": "stream",
     "text": [
      "              precision    recall  f1-score   support\n",
      "\n",
      "           1       0.00      0.00      0.00       0.0\n",
      "           2       0.00      0.00      0.00       0.0\n",
      "           3       0.00      0.00      0.00       0.0\n",
      "           4       0.00      0.00      0.00       0.0\n",
      "           5       0.00      0.00      0.00       1.0\n",
      "           6       0.00      0.00      0.00       0.0\n",
      "           7       0.00      0.00      0.00       0.0\n",
      "           8       0.00      0.00      0.00       0.0\n",
      "           9       0.00      0.00      0.00       0.0\n",
      "          10       0.00      0.00      0.00       0.0\n",
      "          11       0.00      0.00      0.00       0.0\n",
      "          12       0.00      0.00      0.00       0.0\n",
      "          14       0.00      0.00      0.00       0.0\n",
      "\n",
      "   micro avg       0.00      0.00      0.00       1.0\n",
      "   macro avg       0.00      0.00      0.00       1.0\n",
      "weighted avg       0.00      0.00      0.00       1.0\n",
      "\n"
     ]
    }
   ],
   "source": [
    "print(classification_report(y_pred_weekly_DELTA, y_true_weekly_DELTA, labels = [1,2,3,4,5,6,7,8,9,10,11,12,14]))"
   ]
  },
  {
   "cell_type": "markdown",
   "id": "1666787d-ca84-480f-82d6-70a71dab09b9",
   "metadata": {},
   "source": [
    "AAL"
   ]
  },
  {
   "cell_type": "code",
   "execution_count": 403,
   "id": "02a06039-c276-4788-ad8c-e2741d4a3897",
   "metadata": {},
   "outputs": [
    {
     "data": {
      "text/plain": [
       "0.7405660377358491"
      ]
     },
     "execution_count": 403,
     "metadata": {},
     "output_type": "execute_result"
    }
   ],
   "source": [
    "balanced_accuracy_score(y_true_monthly_AAL,\n",
    "y_pred_monthly_AAL)"
   ]
  },
  {
   "cell_type": "code",
   "execution_count": 404,
   "id": "e264a709-ae71-40c0-bdf5-2fd9c604a61d",
   "metadata": {},
   "outputs": [
    {
     "name": "stdout",
     "output_type": "stream",
     "text": [
      "              precision    recall  f1-score   support\n",
      "\n",
      "           1       0.98      0.98      0.98        53\n",
      "           2       0.50      1.00      0.67         1\n",
      "           3       0.00      0.00      0.00         1\n",
      "           4       0.00      0.00      0.00         0\n",
      "\n",
      "   micro avg       0.96      0.96      0.96        55\n",
      "   macro avg       0.37      0.50      0.41        55\n",
      "weighted avg       0.95      0.96      0.96        55\n",
      "\n"
     ]
    }
   ],
   "source": [
    "print(classification_report(y_pred_monthly_AAL, y_true_monthly_AAL, labels = [1,2,3,4]))"
   ]
  },
  {
   "cell_type": "code",
   "execution_count": 550,
   "id": "a00cc7ea-0fe5-4fb5-894c-c2787c77576a",
   "metadata": {},
   "outputs": [
    {
     "data": {
      "text/plain": [
       "0.29818181818181816"
      ]
     },
     "execution_count": 550,
     "metadata": {},
     "output_type": "execute_result"
    }
   ],
   "source": [
    "balanced_accuracy_score(y_true_weekly_AAL, y_pred_weekly_AAL)"
   ]
  },
  {
   "cell_type": "code",
   "execution_count": 406,
   "id": "929af098-62e6-4f9a-9f79-d4f02deea5c9",
   "metadata": {},
   "outputs": [
    {
     "name": "stdout",
     "output_type": "stream",
     "text": [
      "              precision    recall  f1-score   support\n",
      "\n",
      "           1       0.73      0.28      0.41        39\n",
      "           2       0.09      0.25      0.13         4\n",
      "           3       0.00      0.00      0.00         0\n",
      "           4       0.33      0.50      0.40        10\n",
      "           5       0.33      1.00      0.50         1\n",
      "           6       0.00      0.00      0.00         0\n",
      "           7       0.00      0.00      0.00         0\n",
      "           8       0.00      0.00      0.00         0\n",
      "           9       0.00      0.00      0.00         0\n",
      "          10       0.00      0.00      0.00         1\n",
      "          11       0.00      0.00      0.00         0\n",
      "          12       0.00      0.00      0.00         0\n",
      "          14       0.00      0.00      0.00         0\n",
      "\n",
      "   micro avg       0.33      0.33      0.33        55\n",
      "   macro avg       0.11      0.16      0.11        55\n",
      "weighted avg       0.59      0.33      0.38        55\n",
      "\n"
     ]
    }
   ],
   "source": [
    "print(classification_report(y_pred_weekly_AAL, y_true_weekly_AAL, labels = [1,2,3,4,5,6,7,8,9,10,11,12,14]))"
   ]
  },
  {
   "cell_type": "markdown",
   "id": "eac852a6-2d0d-4f43-ad07-a618202b5284",
   "metadata": {},
   "source": [
    "BARRON"
   ]
  },
  {
   "cell_type": "code",
   "execution_count": 407,
   "id": "eef5e405-e157-4dce-b0f2-96d8a6460254",
   "metadata": {},
   "outputs": [
    {
     "data": {
      "text/plain": [
       "0.5678571428571428"
      ]
     },
     "execution_count": 407,
     "metadata": {},
     "output_type": "execute_result"
    }
   ],
   "source": [
    "balanced_accuracy_score(y_true_monthly_BARRON,\n",
    "y_pred_monthly_BARRON)"
   ]
  },
  {
   "cell_type": "code",
   "execution_count": 408,
   "id": "4b3d5a1c-4fca-42e4-a0a1-262690da14a4",
   "metadata": {},
   "outputs": [
    {
     "name": "stdout",
     "output_type": "stream",
     "text": [
      "              precision    recall  f1-score   support\n",
      "\n",
      "           1       0.85      0.77      0.81        22\n",
      "           2       0.29      0.40      0.33         5\n",
      "           3       0.00      0.00      0.00         0\n",
      "           4       0.00      0.00      0.00         0\n",
      "\n",
      "   micro avg       0.70      0.70      0.70        27\n",
      "   macro avg       0.28      0.29      0.29        27\n",
      "weighted avg       0.75      0.70      0.72        27\n",
      "\n"
     ]
    }
   ],
   "source": [
    "print(classification_report(y_pred_monthly_BARRON, y_true_monthly_BARRON, labels = [1,2,3,4]))"
   ]
  },
  {
   "cell_type": "code",
   "execution_count": 551,
   "id": "e105f9a2-ded9-45a8-9de4-a241eb31ca29",
   "metadata": {},
   "outputs": [
    {
     "data": {
      "text/plain": [
       "0.1851851851851852"
      ]
     },
     "execution_count": 551,
     "metadata": {},
     "output_type": "execute_result"
    }
   ],
   "source": [
    "balanced_accuracy_score(y_true_weekly_BARRON, y_pred_weekly_BARRON)"
   ]
  },
  {
   "cell_type": "code",
   "execution_count": null,
   "id": "28fc3321-cb83-4027-ac51-d0154439e5c9",
   "metadata": {},
   "outputs": [],
   "source": [
    "print(classification_report(y_pred_weekly_BARRON, y_true_weekly_BARRON, labels = [1,2,3,4,5,6,7,8,9,10,11,12,14]))"
   ]
  },
  {
   "cell_type": "markdown",
   "id": "a0472f9a-e07e-4b2d-9d12-297b570185f2",
   "metadata": {},
   "source": [
    "ASSURANCE"
   ]
  },
  {
   "cell_type": "code",
   "execution_count": 410,
   "id": "a0f33d78-73ec-4133-9c4f-8b5bd2d21099",
   "metadata": {},
   "outputs": [
    {
     "data": {
      "text/plain": [
       "0.0"
      ]
     },
     "execution_count": 410,
     "metadata": {},
     "output_type": "execute_result"
    }
   ],
   "source": [
    "balanced_accuracy_score(y_true_monthly_ASSURANCE,\n",
    "y_pred_monthly_ASSURANCE)"
   ]
  },
  {
   "cell_type": "code",
   "execution_count": 411,
   "id": "9dd3ca21-b4c9-483f-b37e-a42b00150a23",
   "metadata": {},
   "outputs": [
    {
     "name": "stdout",
     "output_type": "stream",
     "text": [
      "              precision    recall  f1-score   support\n",
      "\n",
      "           1       0.00      0.00      0.00       6.0\n",
      "           2       0.00      0.00      0.00       0.0\n",
      "           3       0.00      0.00      0.00       0.0\n",
      "           4       0.00      0.00      0.00       0.0\n",
      "\n",
      "   micro avg       0.00      0.00      0.00       6.0\n",
      "   macro avg       0.00      0.00      0.00       6.0\n",
      "weighted avg       0.00      0.00      0.00       6.0\n",
      "\n"
     ]
    }
   ],
   "source": [
    "print(classification_report(y_pred_monthly_ASSURANCE, y_true_monthly_ASSURANCE, labels = [1,2,3,4]))"
   ]
  },
  {
   "cell_type": "code",
   "execution_count": 552,
   "id": "b13d02d1-07bf-4885-8da9-4485eca1bbe2",
   "metadata": {},
   "outputs": [
    {
     "data": {
      "text/plain": [
       "0.0"
      ]
     },
     "execution_count": 552,
     "metadata": {},
     "output_type": "execute_result"
    }
   ],
   "source": [
    "balanced_accuracy_score(y_true_weekly_ASSURANCE, y_pred_weekly_ASSURANCE)"
   ]
  },
  {
   "cell_type": "code",
   "execution_count": null,
   "id": "686d3f39-2403-4a74-8cdc-2b3847a8b0de",
   "metadata": {},
   "outputs": [],
   "source": [
    "print(classification_report(y_pred_weekly_ASSURANCE, y_true_weekly_ASSURANCE, labels = [1,2,3,4,5,6,7,8,9,10,11,12,14]))"
   ]
  },
  {
   "cell_type": "markdown",
   "id": "ea1b2645-c25d-484f-b1d3-64de14c440dc",
   "metadata": {},
   "source": [
    "LUMOS"
   ]
  },
  {
   "cell_type": "code",
   "execution_count": 413,
   "id": "68164244-b101-44bb-a026-53a85c47428d",
   "metadata": {},
   "outputs": [
    {
     "data": {
      "text/plain": [
       "0.0"
      ]
     },
     "execution_count": 413,
     "metadata": {},
     "output_type": "execute_result"
    }
   ],
   "source": [
    "balanced_accuracy_score(y_true_monthly_LUMOS,\n",
    "y_pred_monthly_LUMOS)"
   ]
  },
  {
   "cell_type": "code",
   "execution_count": 414,
   "id": "4e24f555-b10f-4c1e-9aa6-a9f963e53a14",
   "metadata": {},
   "outputs": [
    {
     "name": "stdout",
     "output_type": "stream",
     "text": [
      "              precision    recall  f1-score   support\n",
      "\n",
      "           1       0.00      0.00      0.00       2.0\n",
      "           2       0.00      0.00      0.00       0.0\n",
      "           3       0.00      0.00      0.00       0.0\n",
      "           4       0.00      0.00      0.00       0.0\n",
      "\n",
      "   micro avg       0.00      0.00      0.00       2.0\n",
      "   macro avg       0.00      0.00      0.00       2.0\n",
      "weighted avg       0.00      0.00      0.00       2.0\n",
      "\n"
     ]
    }
   ],
   "source": [
    "print(classification_report(y_pred_monthly_LUMOS, y_true_monthly_LUMOS, labels = [1,2,3,4]))"
   ]
  },
  {
   "cell_type": "code",
   "execution_count": 553,
   "id": "0b63a31b-0320-4a0b-a457-24a9f9575608",
   "metadata": {},
   "outputs": [
    {
     "data": {
      "text/plain": [
       "0.0"
      ]
     },
     "execution_count": 553,
     "metadata": {},
     "output_type": "execute_result"
    }
   ],
   "source": [
    "balanced_accuracy_score(y_true_weekly_LUMOS, y_pred_weekly_LUMOS)"
   ]
  },
  {
   "cell_type": "code",
   "execution_count": 416,
   "id": "d0aa61a5-95d1-4317-a69e-fbe3ee7ebbe5",
   "metadata": {},
   "outputs": [
    {
     "name": "stdout",
     "output_type": "stream",
     "text": [
      "              precision    recall  f1-score   support\n",
      "\n",
      "           1       0.00      0.00      0.00       1.0\n",
      "           2       0.00      0.00      0.00       0.0\n",
      "           3       0.00      0.00      0.00       0.0\n",
      "           4       0.00      0.00      0.00       1.0\n",
      "           5       0.00      0.00      0.00       0.0\n",
      "           6       0.00      0.00      0.00       0.0\n",
      "           7       0.00      0.00      0.00       0.0\n",
      "           8       0.00      0.00      0.00       0.0\n",
      "           9       0.00      0.00      0.00       0.0\n",
      "          10       0.00      0.00      0.00       0.0\n",
      "          11       0.00      0.00      0.00       0.0\n",
      "          12       0.00      0.00      0.00       0.0\n",
      "          14       0.00      0.00      0.00       0.0\n",
      "\n",
      "   micro avg       0.00      0.00      0.00       2.0\n",
      "   macro avg       0.00      0.00      0.00       2.0\n",
      "weighted avg       0.00      0.00      0.00       2.0\n",
      "\n"
     ]
    }
   ],
   "source": [
    "print(classification_report(y_pred_weekly_LUMOS, y_true_weekly_LUMOS, labels = [1,2,3,4,5,6,7,8,9,10,11,12,14]))"
   ]
  },
  {
   "cell_type": "markdown",
   "id": "4837c1e1-d0ab-4232-b424-4eb1b1c01791",
   "metadata": {},
   "source": [
    "TEMPO"
   ]
  },
  {
   "cell_type": "code",
   "execution_count": 417,
   "id": "0813b32e-7f37-4768-b746-acff96e0abf3",
   "metadata": {},
   "outputs": [
    {
     "data": {
      "text/plain": [
       "0.3333333333333333"
      ]
     },
     "execution_count": 417,
     "metadata": {},
     "output_type": "execute_result"
    }
   ],
   "source": [
    "balanced_accuracy_score(y_true_monthly_TEMPO,\n",
    "y_pred_monthly_TEMPO)"
   ]
  },
  {
   "cell_type": "code",
   "execution_count": 418,
   "id": "ace40e78-0718-43c4-bd5b-b2fbc4bccb52",
   "metadata": {},
   "outputs": [
    {
     "name": "stdout",
     "output_type": "stream",
     "text": [
      "              precision    recall  f1-score   support\n",
      "\n",
      "           1       0.00      0.00      0.00         2\n",
      "           2       0.33      1.00      0.50         1\n",
      "           3       0.00      0.00      0.00         0\n",
      "           4       0.00      0.00      0.00         0\n",
      "\n",
      "   micro avg       0.33      0.33      0.33         3\n",
      "   macro avg       0.08      0.25      0.12         3\n",
      "weighted avg       0.11      0.33      0.17         3\n",
      "\n"
     ]
    }
   ],
   "source": [
    "print(classification_report(y_pred_monthly_TEMPO, y_true_monthly_TEMPO, labels = [1,2,3,4]))"
   ]
  },
  {
   "cell_type": "code",
   "execution_count": 554,
   "id": "18386222-5276-4af1-b61c-ab44d955cf37",
   "metadata": {},
   "outputs": [
    {
     "data": {
      "text/plain": [
       "0.0"
      ]
     },
     "execution_count": 554,
     "metadata": {},
     "output_type": "execute_result"
    }
   ],
   "source": [
    "balanced_accuracy_score(y_true_weekly_TEMPO, y_pred_weekly_TEMPO)"
   ]
  },
  {
   "cell_type": "code",
   "execution_count": 420,
   "id": "ed8e8cd7-746d-430b-b4df-58cdaddb96a2",
   "metadata": {},
   "outputs": [
    {
     "name": "stdout",
     "output_type": "stream",
     "text": [
      "              precision    recall  f1-score   support\n",
      "\n",
      "           1       0.00      0.00      0.00       2.0\n",
      "           2       0.00      0.00      0.00       0.0\n",
      "           3       0.00      0.00      0.00       0.0\n",
      "           4       0.00      0.00      0.00       0.0\n",
      "           5       0.00      0.00      0.00       0.0\n",
      "           6       0.00      0.00      0.00       1.0\n",
      "           7       0.00      0.00      0.00       0.0\n",
      "           8       0.00      0.00      0.00       0.0\n",
      "           9       0.00      0.00      0.00       0.0\n",
      "          10       0.00      0.00      0.00       0.0\n",
      "          11       0.00      0.00      0.00       0.0\n",
      "          12       0.00      0.00      0.00       0.0\n",
      "          14       0.00      0.00      0.00       0.0\n",
      "\n",
      "   micro avg       0.00      0.00      0.00       3.0\n",
      "   macro avg       0.00      0.00      0.00       3.0\n",
      "weighted avg       0.00      0.00      0.00       3.0\n",
      "\n"
     ]
    }
   ],
   "source": [
    "print(classification_report(y_pred_weekly_TEMPO, y_true_weekly_TEMPO, labels = [1,2,3,4,5,6,7,8,9,10,11,12,14]))"
   ]
  },
  {
   "cell_type": "markdown",
   "id": "96632bdd-c5d5-42b5-a48e-355462f3f2cd",
   "metadata": {},
   "source": [
    "RPLIGHTING"
   ]
  },
  {
   "cell_type": "code",
   "execution_count": 421,
   "id": "6e3494f4-696f-4363-a73e-93a17c329c67",
   "metadata": {},
   "outputs": [
    {
     "data": {
      "text/plain": [
       "0.6785714285714286"
      ]
     },
     "execution_count": 421,
     "metadata": {},
     "output_type": "execute_result"
    }
   ],
   "source": [
    "balanced_accuracy_score(y_true_monthly_RPLIGHTING,\n",
    "y_pred_monthly_RPLIGHTING)"
   ]
  },
  {
   "cell_type": "code",
   "execution_count": 422,
   "id": "3bfb8dea-cc71-491a-b212-3fd05e6717da",
   "metadata": {},
   "outputs": [
    {
     "name": "stdout",
     "output_type": "stream",
     "text": [
      "              precision    recall  f1-score   support\n",
      "\n",
      "           1       0.86      0.55      0.67        11\n",
      "           2       0.50      0.83      0.62         6\n",
      "           3       0.00      0.00      0.00         0\n",
      "           4       0.00      0.00      0.00         0\n",
      "\n",
      "   micro avg       0.65      0.65      0.65        17\n",
      "   macro avg       0.34      0.34      0.32        17\n",
      "weighted avg       0.73      0.65      0.65        17\n",
      "\n"
     ]
    }
   ],
   "source": [
    "print(classification_report(y_pred_monthly_RPLIGHTING, y_true_monthly_RPLIGHTING, labels = [1,2,3,4]))"
   ]
  },
  {
   "cell_type": "code",
   "execution_count": 555,
   "id": "c5e7d99d-2449-4277-9a35-5b81b00079ca",
   "metadata": {},
   "outputs": [
    {
     "data": {
      "text/plain": [
       "0.21666666666666665"
      ]
     },
     "execution_count": 555,
     "metadata": {},
     "output_type": "execute_result"
    }
   ],
   "source": [
    "balanced_accuracy_score(y_true_weekly_RPLIGHTING, y_pred_weekly_RPLIGHTING)"
   ]
  },
  {
   "cell_type": "code",
   "execution_count": 424,
   "id": "b335c4b7-5a73-48be-8382-d2cab8fe635b",
   "metadata": {},
   "outputs": [
    {
     "name": "stdout",
     "output_type": "stream",
     "text": [
      "              precision    recall  f1-score   support\n",
      "\n",
      "           1       0.33      0.17      0.22         6\n",
      "           2       0.00      0.00      0.00         5\n",
      "           3       0.00      0.00      0.00         0\n",
      "           4       0.00      0.00      0.00         0\n",
      "           5       0.75      0.50      0.60         6\n",
      "           6       0.00      0.00      0.00         0\n",
      "           7       0.00      0.00      0.00         0\n",
      "           8       0.00      0.00      0.00         0\n",
      "           9       0.00      0.00      0.00         0\n",
      "          10       0.00      0.00      0.00         0\n",
      "          11       0.00      0.00      0.00         0\n",
      "          12       0.00      0.00      0.00         0\n",
      "          14       0.00      0.00      0.00         0\n",
      "\n",
      "   micro avg       0.24      0.24      0.24        17\n",
      "   macro avg       0.08      0.05      0.06        17\n",
      "weighted avg       0.38      0.24      0.29        17\n",
      "\n"
     ]
    }
   ],
   "source": [
    "print(classification_report(y_pred_weekly_RPLIGHTING, y_true_weekly_RPLIGHTING, labels = [1,2,3,4,5,6,7,8,9,10,11,12,14]))"
   ]
  },
  {
   "cell_type": "markdown",
   "id": "831bb914-9cc4-42a5-997a-03a6917bd78b",
   "metadata": {},
   "source": [
    "CONTECH"
   ]
  },
  {
   "cell_type": "code",
   "execution_count": 425,
   "id": "6c420a4c-6667-42e5-873d-af6eb00d8aa6",
   "metadata": {},
   "outputs": [
    {
     "data": {
      "text/plain": [
       "0.5677083333333333"
      ]
     },
     "execution_count": 425,
     "metadata": {},
     "output_type": "execute_result"
    }
   ],
   "source": [
    "balanced_accuracy_score(y_true_monthly_CONTECH,\n",
    "y_pred_monthly_CONTECH)"
   ]
  },
  {
   "cell_type": "code",
   "execution_count": 426,
   "id": "4e3ee010-44a9-44ba-8ef7-db593e640618",
   "metadata": {},
   "outputs": [
    {
     "name": "stdout",
     "output_type": "stream",
     "text": [
      "              precision    recall  f1-score   support\n",
      "\n",
      "           1       0.54      0.67      0.60        39\n",
      "           2       0.59      0.46      0.52        41\n",
      "           3       0.00      0.00      0.00         0\n",
      "           4       0.00      0.00      0.00         0\n",
      "\n",
      "   micro avg       0.56      0.56      0.56        80\n",
      "   macro avg       0.28      0.28      0.28        80\n",
      "weighted avg       0.57      0.56      0.56        80\n",
      "\n"
     ]
    }
   ],
   "source": [
    "print(classification_report(y_pred_monthly_CONTECH, y_true_monthly_CONTECH, labels = [1,2,3,4]))"
   ]
  },
  {
   "cell_type": "code",
   "execution_count": 556,
   "id": "c072bd72-8c8f-4068-935d-56e26a86833b",
   "metadata": {},
   "outputs": [
    {
     "data": {
      "text/plain": [
       "0.15105263157894738"
      ]
     },
     "execution_count": 556,
     "metadata": {},
     "output_type": "execute_result"
    }
   ],
   "source": [
    "balanced_accuracy_score(y_true_weekly_CONTECH, y_pred_weekly_CONTECH)"
   ]
  },
  {
   "cell_type": "code",
   "execution_count": 428,
   "id": "d02ffb52-a043-4223-a068-189b4166e8c1",
   "metadata": {},
   "outputs": [
    {
     "name": "stdout",
     "output_type": "stream",
     "text": [
      "              precision    recall  f1-score   support\n",
      "\n",
      "           1       0.00      0.00      0.00         6\n",
      "           2       0.00      0.00      0.00         0\n",
      "           3       0.11      0.40      0.17         5\n",
      "           4       0.40      0.29      0.33        28\n",
      "           5       0.25      0.17      0.20        36\n",
      "           6       0.00      0.00      0.00         1\n",
      "           7       0.00      0.00      0.00         4\n",
      "           8       0.00      0.00      0.00         0\n",
      "           9       0.00      0.00      0.00         0\n",
      "          10       0.00      0.00      0.00         0\n",
      "          11       0.00      0.00      0.00         0\n",
      "          12       0.00      0.00      0.00         0\n",
      "          14       0.00      0.00      0.00         0\n",
      "\n",
      "   micro avg       0.20      0.20      0.20        80\n",
      "   macro avg       0.06      0.07      0.05        80\n",
      "weighted avg       0.26      0.20      0.22        80\n",
      "\n"
     ]
    }
   ],
   "source": [
    "print(classification_report(y_pred_weekly_CONTECH, y_true_weekly_CONTECH, labels = [1,2,3,4,5,6,7,8,9,10,11,12,14]))"
   ]
  },
  {
   "cell_type": "markdown",
   "id": "cae5b748-c93b-4e73-a7f7-a982fa650092",
   "metadata": {},
   "source": [
    "WHATLEY"
   ]
  },
  {
   "cell_type": "code",
   "execution_count": 429,
   "id": "2d7fd9fd-8267-406f-879b-1a0df3431e3b",
   "metadata": {},
   "outputs": [
    {
     "data": {
      "text/plain": [
       "0.0"
      ]
     },
     "execution_count": 429,
     "metadata": {},
     "output_type": "execute_result"
    }
   ],
   "source": [
    "balanced_accuracy_score(y_true_monthly_WHATLEY,\n",
    "y_pred_monthly_WHATLEY)"
   ]
  },
  {
   "cell_type": "code",
   "execution_count": 430,
   "id": "037c80a4-353b-4ea3-b1d4-0b02f8191464",
   "metadata": {},
   "outputs": [
    {
     "name": "stdout",
     "output_type": "stream",
     "text": [
      "              precision    recall  f1-score   support\n",
      "\n",
      "           1       0.00      0.00      0.00       2.0\n",
      "           2       0.00      0.00      0.00       0.0\n",
      "           3       0.00      0.00      0.00       0.0\n",
      "           4       0.00      0.00      0.00       0.0\n",
      "\n",
      "   micro avg       0.00      0.00      0.00       2.0\n",
      "   macro avg       0.00      0.00      0.00       2.0\n",
      "weighted avg       0.00      0.00      0.00       2.0\n",
      "\n"
     ]
    }
   ],
   "source": [
    "print(classification_report(y_pred_monthly_WHATLEY, y_true_monthly_WHATLEY, labels = [1,2,3,4]))"
   ]
  },
  {
   "cell_type": "code",
   "execution_count": 557,
   "id": "231b698b-2dba-48ae-b8de-96a85aec3620",
   "metadata": {},
   "outputs": [
    {
     "data": {
      "text/plain": [
       "0.0"
      ]
     },
     "execution_count": 557,
     "metadata": {},
     "output_type": "execute_result"
    }
   ],
   "source": [
    "balanced_accuracy_score(y_true_weekly_WHATLEY, y_pred_weekly_WHATLEY)"
   ]
  },
  {
   "cell_type": "code",
   "execution_count": 432,
   "id": "33b6c205-2dca-44fa-8507-6c787ae32b67",
   "metadata": {},
   "outputs": [
    {
     "name": "stdout",
     "output_type": "stream",
     "text": [
      "              precision    recall  f1-score   support\n",
      "\n",
      "           1       0.00      0.00      0.00       1.0\n",
      "           2       0.00      0.00      0.00       0.0\n",
      "           3       0.00      0.00      0.00       0.0\n",
      "           4       0.00      0.00      0.00       1.0\n",
      "           5       0.00      0.00      0.00       0.0\n",
      "           6       0.00      0.00      0.00       0.0\n",
      "           7       0.00      0.00      0.00       0.0\n",
      "           8       0.00      0.00      0.00       0.0\n",
      "           9       0.00      0.00      0.00       0.0\n",
      "          10       0.00      0.00      0.00       0.0\n",
      "          11       0.00      0.00      0.00       0.0\n",
      "          12       0.00      0.00      0.00       0.0\n",
      "          14       0.00      0.00      0.00       0.0\n",
      "\n",
      "   micro avg       0.00      0.00      0.00       2.0\n",
      "   macro avg       0.00      0.00      0.00       2.0\n",
      "weighted avg       0.00      0.00      0.00       2.0\n",
      "\n"
     ]
    }
   ],
   "source": [
    "print(classification_report(y_pred_weekly_WHATLEY, y_true_weekly_WHATLEY, labels = [1,2,3,4,5,6,7,8,9,10,11,12,14]))"
   ]
  },
  {
   "cell_type": "markdown",
   "id": "aea25b2f-477d-40f0-aefb-afce470cd085",
   "metadata": {},
   "source": [
    "PROGRESS"
   ]
  },
  {
   "cell_type": "code",
   "execution_count": 433,
   "id": "bad924f9-b2ce-4b04-98c7-f203f807aa39",
   "metadata": {},
   "outputs": [
    {
     "data": {
      "text/plain": [
       "0.5098684210526316"
      ]
     },
     "execution_count": 433,
     "metadata": {},
     "output_type": "execute_result"
    }
   ],
   "source": [
    "balanced_accuracy_score(y_true_monthly_PROGRESS,\n",
    "y_pred_monthly_PROGRESS)"
   ]
  },
  {
   "cell_type": "code",
   "execution_count": 434,
   "id": "f869fbea-461b-47d2-b096-7cd597c21537",
   "metadata": {},
   "outputs": [
    {
     "name": "stdout",
     "output_type": "stream",
     "text": [
      "              precision    recall  f1-score   support\n",
      "\n",
      "           1       0.89      0.71      0.79        24\n",
      "           2       0.12      0.33      0.18         3\n",
      "           3       0.00      0.00      0.00         0\n",
      "           4       0.00      0.00      0.00         0\n",
      "\n",
      "   micro avg       0.67      0.67      0.67        27\n",
      "   macro avg       0.25      0.26      0.24        27\n",
      "weighted avg       0.81      0.67      0.72        27\n",
      "\n"
     ]
    }
   ],
   "source": [
    "print(classification_report(y_pred_monthly_PROGRESS, y_true_monthly_PROGRESS, labels = [1,2,3,4]))"
   ]
  },
  {
   "cell_type": "code",
   "execution_count": 558,
   "id": "f72913d3-e01a-4bad-9600-4b8f49488936",
   "metadata": {},
   "outputs": [
    {
     "data": {
      "text/plain": [
       "0.2733333333333333"
      ]
     },
     "execution_count": 558,
     "metadata": {},
     "output_type": "execute_result"
    }
   ],
   "source": [
    "balanced_accuracy_score(y_true_weekly_PROGRESS, y_pred_weekly_PROGRESS)"
   ]
  },
  {
   "cell_type": "code",
   "execution_count": 436,
   "id": "a7843a11-59fd-43d2-9941-361866d08626",
   "metadata": {},
   "outputs": [
    {
     "name": "stdout",
     "output_type": "stream",
     "text": [
      "              precision    recall  f1-score   support\n",
      "\n",
      "           1       0.00      0.00      0.00         2\n",
      "           2       0.60      0.27      0.37        11\n",
      "           3       0.10      0.25      0.14         4\n",
      "           4       0.33      0.14      0.20         7\n",
      "           5       0.33      0.33      0.33         3\n",
      "           6       0.00      0.00      0.00         0\n",
      "           7       0.00      0.00      0.00         0\n",
      "           8       0.00      0.00      0.00         0\n",
      "           9       0.00      0.00      0.00         0\n",
      "          10       0.00      0.00      0.00         0\n",
      "          11       0.00      0.00      0.00         0\n",
      "          12       0.00      0.00      0.00         0\n",
      "          14       0.00      0.00      0.00         0\n",
      "\n",
      "   micro avg       0.22      0.22      0.22        27\n",
      "   macro avg       0.11      0.08      0.08        27\n",
      "weighted avg       0.38      0.22      0.26        27\n",
      "\n"
     ]
    }
   ],
   "source": [
    "print(classification_report(y_pred_weekly_PROGRESS, y_true_weekly_PROGRESS, labels = [1,2,3,4,5,6,7,8,9,10,11,12,14]))"
   ]
  },
  {
   "cell_type": "markdown",
   "id": "5be36cc5-36b8-4cf0-a993-ddc1cc7fd606",
   "metadata": {},
   "source": [
    "BEGA"
   ]
  },
  {
   "cell_type": "code",
   "execution_count": 437,
   "id": "abfb3fbb-0367-4315-8322-40fea11cae09",
   "metadata": {},
   "outputs": [
    {
     "data": {
      "text/plain": [
       "0.6875"
      ]
     },
     "execution_count": 437,
     "metadata": {},
     "output_type": "execute_result"
    }
   ],
   "source": [
    "balanced_accuracy_score(y_true_monthly_BEGA,\n",
    "y_pred_monthly_BEGA)"
   ]
  },
  {
   "cell_type": "code",
   "execution_count": 438,
   "id": "6b3856e5-1abf-42b0-a504-835c0798c46c",
   "metadata": {},
   "outputs": [
    {
     "name": "stdout",
     "output_type": "stream",
     "text": [
      "              precision    recall  f1-score   support\n",
      "\n",
      "           1       1.00      0.88      0.94        42\n",
      "           2       0.38      1.00      0.55         3\n",
      "           3       0.00      0.00      0.00         0\n",
      "           4       0.00      0.00      0.00         0\n",
      "\n",
      "   micro avg       0.89      0.89      0.89        45\n",
      "   macro avg       0.34      0.47      0.37        45\n",
      "weighted avg       0.96      0.89      0.91        45\n",
      "\n"
     ]
    }
   ],
   "source": [
    "print(classification_report(y_pred_monthly_BEGA, y_true_monthly_BEGA, labels = [1,2,3,4]))"
   ]
  },
  {
   "cell_type": "code",
   "execution_count": 559,
   "id": "331fb2c8-5688-4ccf-a134-939e96ea04f1",
   "metadata": {},
   "outputs": [
    {
     "data": {
      "text/plain": [
       "0.3155555555555556"
      ]
     },
     "execution_count": 559,
     "metadata": {},
     "output_type": "execute_result"
    }
   ],
   "source": [
    "balanced_accuracy_score(y_true_weekly_BEGA, y_pred_weekly_BEGA)"
   ]
  },
  {
   "cell_type": "code",
   "execution_count": 440,
   "id": "81d33d93-ff32-47fe-ad9a-e95c019b31c7",
   "metadata": {},
   "outputs": [
    {
     "name": "stdout",
     "output_type": "stream",
     "text": [
      "              precision    recall  f1-score   support\n",
      "\n",
      "           1       0.00      0.00      0.00         3\n",
      "           2       0.40      0.36      0.38        11\n",
      "           3       0.40      0.38      0.39        16\n",
      "           4       0.56      0.42      0.48        12\n",
      "           5       0.22      0.67      0.33         3\n",
      "           6       0.00      0.00      0.00         0\n",
      "           7       0.00      0.00      0.00         0\n",
      "           8       0.00      0.00      0.00         0\n",
      "           9       0.00      0.00      0.00         0\n",
      "          10       0.00      0.00      0.00         0\n",
      "          11       0.00      0.00      0.00         0\n",
      "          12       0.00      0.00      0.00         0\n",
      "          14       0.00      0.00      0.00         0\n",
      "\n",
      "   micro avg       0.38      0.38      0.38        45\n",
      "   macro avg       0.12      0.14      0.12        45\n",
      "weighted avg       0.40      0.38      0.38        45\n",
      "\n"
     ]
    }
   ],
   "source": [
    "print(classification_report(y_pred_weekly_BEGA, y_true_weekly_BEGA, labels = [1,2,3,4,5,6,7,8,9,10,11,12,14]))"
   ]
  },
  {
   "cell_type": "markdown",
   "id": "ce0097c8-76fc-4a04-a032-91884bc16a80",
   "metadata": {},
   "source": [
    "DLE"
   ]
  },
  {
   "cell_type": "code",
   "execution_count": 441,
   "id": "e268195b-2625-4984-94d3-8cd15c2d2474",
   "metadata": {},
   "outputs": [
    {
     "data": {
      "text/plain": [
       "0.5"
      ]
     },
     "execution_count": 441,
     "metadata": {},
     "output_type": "execute_result"
    }
   ],
   "source": [
    "balanced_accuracy_score(y_true_monthly_DLE,\n",
    "y_pred_monthly_DLE)"
   ]
  },
  {
   "cell_type": "code",
   "execution_count": 442,
   "id": "55302f9d-b306-4cfe-b404-3e1162b941fb",
   "metadata": {},
   "outputs": [
    {
     "name": "stdout",
     "output_type": "stream",
     "text": [
      "              precision    recall  f1-score   support\n",
      "\n",
      "           1       1.00      0.93      0.96        86\n",
      "           2       0.00      0.00      0.00         0\n",
      "           3       0.00      0.00      0.00         0\n",
      "           4       0.00      0.00      0.00         0\n",
      "\n",
      "   micro avg       0.93      0.93      0.93        86\n",
      "   macro avg       0.25      0.23      0.24        86\n",
      "weighted avg       1.00      0.93      0.96        86\n",
      "\n"
     ]
    }
   ],
   "source": [
    "print(classification_report(y_pred_monthly_DLE, y_true_monthly_DLE, labels = [1,2,3,4]))"
   ]
  },
  {
   "cell_type": "code",
   "execution_count": 560,
   "id": "affe967e-0b7a-4c17-9b95-cdceee3f673a",
   "metadata": {},
   "outputs": [
    {
     "data": {
      "text/plain": [
       "0.22422727272727272"
      ]
     },
     "execution_count": 560,
     "metadata": {},
     "output_type": "execute_result"
    }
   ],
   "source": [
    "balanced_accuracy_score(y_true_weekly_DLE, y_pred_weekly_DLE)"
   ]
  },
  {
   "cell_type": "code",
   "execution_count": 444,
   "id": "960946f6-d11e-48e1-8fcd-5d1bb5c15293",
   "metadata": {},
   "outputs": [
    {
     "name": "stdout",
     "output_type": "stream",
     "text": [
      "              precision    recall  f1-score   support\n",
      "\n",
      "           1       0.38      0.12      0.18        26\n",
      "           2       0.36      0.31      0.33        26\n",
      "           3       0.32      0.36      0.34        22\n",
      "           4       0.06      0.08      0.07        12\n",
      "           5       0.00      0.00      0.00         0\n",
      "           6       0.00      0.00      0.00         0\n",
      "           7       0.00      0.00      0.00         0\n",
      "           8       0.00      0.00      0.00         0\n",
      "           9       0.00      0.00      0.00         0\n",
      "          10       0.00      0.00      0.00         0\n",
      "          11       0.00      0.00      0.00         0\n",
      "          12       0.00      0.00      0.00         0\n",
      "          14       0.00      0.00      0.00         0\n",
      "\n",
      "   micro avg       0.23      0.23      0.23        86\n",
      "   macro avg       0.09      0.07      0.07        86\n",
      "weighted avg       0.31      0.23      0.25        86\n",
      "\n"
     ]
    }
   ],
   "source": [
    "print(classification_report(y_pred_weekly_DLE, y_true_weekly_DLE, labels = [1,2,3,4,5,6,7,8,9,10,11,12,14]))"
   ]
  },
  {
   "cell_type": "markdown",
   "id": "7e06dc49-0ec9-4ebc-ab0b-6a5f6d2d4eba",
   "metadata": {},
   "source": [
    "KIM"
   ]
  },
  {
   "cell_type": "code",
   "execution_count": 445,
   "id": "52737ca6-3eaf-448d-b94a-c6c06f3c5c07",
   "metadata": {},
   "outputs": [
    {
     "data": {
      "text/plain": [
       "0.5"
      ]
     },
     "execution_count": 445,
     "metadata": {},
     "output_type": "execute_result"
    }
   ],
   "source": [
    "balanced_accuracy_score(y_true_monthly_KIM,\n",
    "y_pred_monthly_KIM)"
   ]
  },
  {
   "cell_type": "code",
   "execution_count": 446,
   "id": "cf819710-7d0d-4803-979e-addddb377b94",
   "metadata": {},
   "outputs": [
    {
     "name": "stdout",
     "output_type": "stream",
     "text": [
      "              precision    recall  f1-score   support\n",
      "\n",
      "           1       1.00      0.97      0.98        62\n",
      "           2       0.00      0.00      0.00         0\n",
      "           3       0.00      0.00      0.00         0\n",
      "           4       0.00      0.00      0.00         0\n",
      "\n",
      "   micro avg       0.97      0.97      0.97        62\n",
      "   macro avg       0.25      0.24      0.25        62\n",
      "weighted avg       1.00      0.97      0.98        62\n",
      "\n"
     ]
    }
   ],
   "source": [
    "print(classification_report(y_pred_monthly_KIM, y_true_monthly_KIM, labels = [1,2,3,4]))"
   ]
  },
  {
   "cell_type": "code",
   "execution_count": 561,
   "id": "fca2df37-cee3-4cbf-84a5-17aecb6c8da2",
   "metadata": {},
   "outputs": [
    {
     "data": {
      "text/plain": [
       "0.20136554621848743"
      ]
     },
     "execution_count": 561,
     "metadata": {},
     "output_type": "execute_result"
    }
   ],
   "source": [
    "balanced_accuracy_score(y_true_weekly_KIM, y_pred_weekly_KIM)"
   ]
  },
  {
   "cell_type": "code",
   "execution_count": 448,
   "id": "25f01548-413f-4bf8-985b-c52c3706becb",
   "metadata": {},
   "outputs": [
    {
     "name": "stdout",
     "output_type": "stream",
     "text": [
      "              precision    recall  f1-score   support\n",
      "\n",
      "           1       0.64      0.24      0.35        38\n",
      "           2       0.18      0.50      0.26         6\n",
      "           3       0.00      0.00      0.00        10\n",
      "           4       0.19      0.38      0.25         8\n",
      "           5       0.00      0.00      0.00         0\n",
      "           6       0.00      0.00      0.00         0\n",
      "           7       0.00      0.00      0.00         0\n",
      "           8       0.00      0.00      0.00         0\n",
      "           9       0.00      0.00      0.00         0\n",
      "          10       0.00      0.00      0.00         0\n",
      "          11       0.00      0.00      0.00         0\n",
      "          12       0.00      0.00      0.00         0\n",
      "          14       0.00      0.00      0.00         0\n",
      "\n",
      "   micro avg       0.24      0.24      0.24        62\n",
      "   macro avg       0.08      0.09      0.07        62\n",
      "weighted avg       0.44      0.24      0.27        62\n",
      "\n"
     ]
    }
   ],
   "source": [
    "print(classification_report(y_pred_weekly_KIM, y_true_weekly_KIM, labels = [1,2,3,4,5,6,7,8,9,10,11,12,14]))"
   ]
  },
  {
   "cell_type": "markdown",
   "id": "07836f68-71d9-4643-a11a-8ff46fe9cf0d",
   "metadata": {},
   "source": [
    "BEACON"
   ]
  },
  {
   "cell_type": "code",
   "execution_count": 449,
   "id": "27f9a038-9809-4c3d-9a2b-092d9eaede66",
   "metadata": {},
   "outputs": [
    {
     "data": {
      "text/plain": [
       "1.0"
      ]
     },
     "execution_count": 449,
     "metadata": {},
     "output_type": "execute_result"
    }
   ],
   "source": [
    "balanced_accuracy_score(y_true_monthly_BEACON,\n",
    "y_pred_monthly_BEACON)"
   ]
  },
  {
   "cell_type": "code",
   "execution_count": 450,
   "id": "87ba770e-8e0d-439d-b31a-5fba37d49973",
   "metadata": {},
   "outputs": [
    {
     "name": "stdout",
     "output_type": "stream",
     "text": [
      "              precision    recall  f1-score   support\n",
      "\n",
      "           1       1.00      1.00      1.00        15\n",
      "           2       0.00      0.00      0.00         0\n",
      "           3       0.00      0.00      0.00         0\n",
      "           4       0.00      0.00      0.00         0\n",
      "\n",
      "   micro avg       1.00      1.00      1.00        15\n",
      "   macro avg       0.25      0.25      0.25        15\n",
      "weighted avg       1.00      1.00      1.00        15\n",
      "\n"
     ]
    }
   ],
   "source": [
    "print(classification_report(y_pred_monthly_BEACON, y_true_monthly_BEACON, labels = [1,2,3,4]))"
   ]
  },
  {
   "cell_type": "code",
   "execution_count": 562,
   "id": "3bd08774-f9cd-457e-8bff-ba19c242b6e2",
   "metadata": {},
   "outputs": [
    {
     "data": {
      "text/plain": [
       "0.125"
      ]
     },
     "execution_count": 562,
     "metadata": {},
     "output_type": "execute_result"
    }
   ],
   "source": [
    "balanced_accuracy_score(y_true_weekly_BEACON, y_pred_weekly_BEACON)"
   ]
  },
  {
   "cell_type": "code",
   "execution_count": 452,
   "id": "464813d0-5878-4c05-9812-0d05188831f7",
   "metadata": {},
   "outputs": [
    {
     "name": "stdout",
     "output_type": "stream",
     "text": [
      "              precision    recall  f1-score   support\n",
      "\n",
      "           1       0.00      0.00      0.00         5\n",
      "           2       0.25      1.00      0.40         2\n",
      "           3       0.25      0.25      0.25         4\n",
      "           4       0.00      0.00      0.00         4\n",
      "           5       0.00      0.00      0.00         0\n",
      "           6       0.00      0.00      0.00         0\n",
      "           7       0.00      0.00      0.00         0\n",
      "           8       0.00      0.00      0.00         0\n",
      "           9       0.00      0.00      0.00         0\n",
      "          10       0.00      0.00      0.00         0\n",
      "          11       0.00      0.00      0.00         0\n",
      "          12       0.00      0.00      0.00         0\n",
      "          14       0.00      0.00      0.00         0\n",
      "\n",
      "   micro avg       0.20      0.20      0.20        15\n",
      "   macro avg       0.04      0.10      0.05        15\n",
      "weighted avg       0.10      0.20      0.12        15\n",
      "\n"
     ]
    }
   ],
   "source": [
    "print(classification_report(y_pred_weekly_BEACON, y_true_weekly_BEACON, labels = [1,2,3,4,5,6,7,8,9,10,11,12,14]))"
   ]
  },
  {
   "cell_type": "markdown",
   "id": "0ad2e0ab-b32e-45f9-a79b-cd2b5df70301",
   "metadata": {},
   "source": [
    "TMS"
   ]
  },
  {
   "cell_type": "code",
   "execution_count": 453,
   "id": "ee704297-8617-41e2-bfb2-a90eae930d79",
   "metadata": {},
   "outputs": [
    {
     "data": {
      "text/plain": [
       "0.5"
      ]
     },
     "execution_count": 453,
     "metadata": {},
     "output_type": "execute_result"
    }
   ],
   "source": [
    "balanced_accuracy_score(y_true_monthly_TMS,\n",
    "y_pred_monthly_TMS)"
   ]
  },
  {
   "cell_type": "code",
   "execution_count": 454,
   "id": "0471565a-b840-41f8-9fd9-dc644567b8fd",
   "metadata": {},
   "outputs": [
    {
     "name": "stdout",
     "output_type": "stream",
     "text": [
      "              precision    recall  f1-score   support\n",
      "\n",
      "           1       0.50      1.00      0.67         1\n",
      "           2       0.00      0.00      0.00         0\n",
      "           3       0.00      0.00      0.00         1\n",
      "           4       0.00      0.00      0.00         0\n",
      "\n",
      "   micro avg       0.50      0.50      0.50         2\n",
      "   macro avg       0.12      0.25      0.17         2\n",
      "weighted avg       0.25      0.50      0.33         2\n",
      "\n"
     ]
    }
   ],
   "source": [
    "print(classification_report(y_pred_monthly_TMS, y_true_monthly_TMS, labels = [1,2,3,4]))"
   ]
  },
  {
   "cell_type": "code",
   "execution_count": 563,
   "id": "0c601077-c261-416c-b10a-a5a1fd777fb8",
   "metadata": {},
   "outputs": [
    {
     "data": {
      "text/plain": [
       "0.5"
      ]
     },
     "execution_count": 563,
     "metadata": {},
     "output_type": "execute_result"
    }
   ],
   "source": [
    "balanced_accuracy_score(y_true_weekly_TMS, y_pred_weekly_TMS)"
   ]
  },
  {
   "cell_type": "code",
   "execution_count": 456,
   "id": "bfc6e39e-84fb-483a-b05a-687468dc104b",
   "metadata": {},
   "outputs": [
    {
     "name": "stdout",
     "output_type": "stream",
     "text": [
      "              precision    recall  f1-score   support\n",
      "\n",
      "           1       0.50      1.00      0.67         1\n",
      "           2       0.00      0.00      0.00         0\n",
      "           3       0.00      0.00      0.00         0\n",
      "           4       0.00      0.00      0.00         0\n",
      "           5       0.00      0.00      0.00         0\n",
      "           6       0.00      0.00      0.00         0\n",
      "           7       0.00      0.00      0.00         0\n",
      "           8       0.00      0.00      0.00         0\n",
      "           9       0.00      0.00      0.00         0\n",
      "          10       0.00      0.00      0.00         0\n",
      "          11       0.00      0.00      0.00         0\n",
      "          12       0.00      0.00      0.00         1\n",
      "          14       0.00      0.00      0.00         0\n",
      "\n",
      "   micro avg       0.50      0.50      0.50         2\n",
      "   macro avg       0.04      0.08      0.05         2\n",
      "weighted avg       0.25      0.50      0.33         2\n",
      "\n"
     ]
    }
   ],
   "source": [
    "print(classification_report(y_pred_weekly_TMS, y_true_weekly_TMS, labels = [1,2,3,4,5,6,7,8,9,10,11,12,14]))"
   ]
  },
  {
   "cell_type": "markdown",
   "id": "233c12c1-e0b2-4c55-9127-2ba6e482dd28",
   "metadata": {},
   "source": [
    "HUBBELL"
   ]
  },
  {
   "cell_type": "code",
   "execution_count": 457,
   "id": "a42d36c9-dadf-4fcf-b1c9-00cbc65ff303",
   "metadata": {},
   "outputs": [
    {
     "data": {
      "text/plain": [
       "0.5168333333333334"
      ]
     },
     "execution_count": 457,
     "metadata": {},
     "output_type": "execute_result"
    }
   ],
   "source": [
    "balanced_accuracy_score(y_true_monthly_HUBBELL,\n",
    "y_pred_monthly_HUBBELL)"
   ]
  },
  {
   "cell_type": "code",
   "execution_count": 458,
   "id": "6bf5a28e-bfce-4546-8973-9fda3eeb426c",
   "metadata": {},
   "outputs": [
    {
     "name": "stdout",
     "output_type": "stream",
     "text": [
      "              precision    recall  f1-score   support\n",
      "\n",
      "           1       0.99      0.94      0.97       790\n",
      "           2       0.04      0.50      0.08         4\n",
      "           3       0.00      0.00      0.00         4\n",
      "           4       0.00      0.00      0.00         0\n",
      "\n",
      "   micro avg       0.93      0.93      0.93       798\n",
      "   macro avg       0.26      0.36      0.26       798\n",
      "weighted avg       0.98      0.93      0.96       798\n",
      "\n"
     ]
    }
   ],
   "source": [
    "print(classification_report(y_pred_monthly_HUBBELL, y_true_monthly_HUBBELL, labels = [1,2,3,4]))"
   ]
  },
  {
   "cell_type": "code",
   "execution_count": 564,
   "id": "554e67e8-c22e-4f58-8e81-b476c190f687",
   "metadata": {},
   "outputs": [
    {
     "data": {
      "text/plain": [
       "0.3521038551608527"
      ]
     },
     "execution_count": 564,
     "metadata": {},
     "output_type": "execute_result"
    }
   ],
   "source": [
    "balanced_accuracy_score(y_true_weekly_HUBBELL, y_pred_weekly_HUBBELL)"
   ]
  },
  {
   "cell_type": "code",
   "execution_count": 460,
   "id": "809f3715-9633-4e95-b299-966cf38b22d0",
   "metadata": {},
   "outputs": [
    {
     "name": "stdout",
     "output_type": "stream",
     "text": [
      "              precision    recall  f1-score   support\n",
      "\n",
      "           1       0.67      0.13      0.22       259\n",
      "           2       0.20      0.41      0.27       121\n",
      "           3       0.56      0.39      0.46       286\n",
      "           4       0.31      0.48      0.37       124\n",
      "           5       0.03      0.75      0.05         4\n",
      "           6       0.00      0.00      0.00         0\n",
      "           7       0.00      0.00      0.00         0\n",
      "           8       0.00      0.00      0.00         0\n",
      "           9       0.00      0.00      0.00         4\n",
      "          10       0.00      0.00      0.00         0\n",
      "          11       0.00      0.00      0.00         0\n",
      "          12       0.00      0.00      0.00         0\n",
      "          14       0.00      0.00      0.00         0\n",
      "\n",
      "   micro avg       0.32      0.32      0.32       798\n",
      "   macro avg       0.14      0.17      0.11       798\n",
      "weighted avg       0.49      0.32      0.33       798\n",
      "\n"
     ]
    }
   ],
   "source": [
    "print(classification_report(y_pred_weekly_HUBBELL, y_true_weekly_HUBBELL, labels = [1,2,3,4,5,6,7,8,9,10,11,12,14]))"
   ]
  },
  {
   "cell_type": "markdown",
   "id": "6dc1dde9-a24d-4a81-a19c-1e9b2493636d",
   "metadata": {},
   "source": [
    "COLUMBIA"
   ]
  },
  {
   "cell_type": "code",
   "execution_count": 461,
   "id": "0e9e7146-4a76-4f83-ac54-9e2e816b1fc7",
   "metadata": {},
   "outputs": [
    {
     "data": {
      "text/plain": [
       "0.5"
      ]
     },
     "execution_count": 461,
     "metadata": {},
     "output_type": "execute_result"
    }
   ],
   "source": [
    "balanced_accuracy_score(y_true_monthly_COL,\n",
    "y_pred_monthly_COL)"
   ]
  },
  {
   "cell_type": "code",
   "execution_count": 462,
   "id": "c4a2540f-020a-45b1-a8d8-5d2dc617c070",
   "metadata": {},
   "outputs": [
    {
     "name": "stdout",
     "output_type": "stream",
     "text": [
      "              precision    recall  f1-score   support\n",
      "\n",
      "           1       1.00      0.89      0.94       229\n",
      "           2       0.00      0.00      0.00         0\n",
      "           3       0.00      0.00      0.00         0\n",
      "           4       0.00      0.00      0.00         0\n",
      "\n",
      "   micro avg       0.89      0.89      0.89       229\n",
      "   macro avg       0.25      0.22      0.23       229\n",
      "weighted avg       1.00      0.89      0.94       229\n",
      "\n"
     ]
    }
   ],
   "source": [
    "print(classification_report(y_pred_monthly_COL, y_true_monthly_COL, labels = [1,2,3,4]))"
   ]
  },
  {
   "cell_type": "code",
   "execution_count": 565,
   "id": "7252ab43-e8e4-48a3-a5bd-8c5901029515",
   "metadata": {},
   "outputs": [
    {
     "data": {
      "text/plain": [
       "0.2241758865000698"
      ]
     },
     "execution_count": 565,
     "metadata": {},
     "output_type": "execute_result"
    }
   ],
   "source": [
    "balanced_accuracy_score(y_true_weekly_COL, y_pred_weekly_COL)"
   ]
  },
  {
   "cell_type": "code",
   "execution_count": 464,
   "id": "d831e256-9ce8-4b58-807a-45262e52b565",
   "metadata": {},
   "outputs": [
    {
     "name": "stdout",
     "output_type": "stream",
     "text": [
      "              precision    recall  f1-score   support\n",
      "\n",
      "           1       0.46      0.06      0.11        95\n",
      "           2       0.21      0.19      0.20        43\n",
      "           3       0.12      0.19      0.15        37\n",
      "           4       0.33      0.39      0.36        54\n",
      "           5       0.00      0.00      0.00         0\n",
      "           6       0.00      0.00      0.00         0\n",
      "           7       0.00      0.00      0.00         0\n",
      "           8       0.00      0.00      0.00         0\n",
      "           9       0.00      0.00      0.00         0\n",
      "          10       0.00      0.00      0.00         0\n",
      "          11       0.00      0.00      0.00         0\n",
      "          12       0.00      0.00      0.00         0\n",
      "          14       0.00      0.00      0.00         0\n",
      "\n",
      "   micro avg       0.18      0.18      0.18       229\n",
      "   macro avg       0.09      0.06      0.06       229\n",
      "weighted avg       0.33      0.18      0.19       229\n",
      "\n"
     ]
    }
   ],
   "source": [
    "print(classification_report(y_pred_weekly_COL, y_true_weekly_COL, labels = [1,2,3,4,5,6,7,8,9,10,11,12,14]))"
   ]
  },
  {
   "cell_type": "markdown",
   "id": "45cfa162-26de-4d5d-9473-479fb6ad9fe1",
   "metadata": {},
   "source": [
    "PRES"
   ]
  },
  {
   "cell_type": "code",
   "execution_count": 465,
   "id": "fef93c4e-039c-4b86-b3fa-517faac14481",
   "metadata": {},
   "outputs": [
    {
     "data": {
      "text/plain": [
       "0.5"
      ]
     },
     "execution_count": 465,
     "metadata": {},
     "output_type": "execute_result"
    }
   ],
   "source": [
    "balanced_accuracy_score(y_true_monthly_PRES,\n",
    "y_pred_monthly_PRES)"
   ]
  },
  {
   "cell_type": "code",
   "execution_count": 466,
   "id": "cb49c8f7-a494-49da-80d2-a3d2907039ef",
   "metadata": {},
   "outputs": [
    {
     "name": "stdout",
     "output_type": "stream",
     "text": [
      "              precision    recall  f1-score   support\n",
      "\n",
      "           1       1.00      0.90      0.95        97\n",
      "           2       0.00      0.00      0.00         0\n",
      "           3       0.00      0.00      0.00         0\n",
      "           4       0.00      0.00      0.00         0\n",
      "\n",
      "   micro avg       0.90      0.90      0.90        97\n",
      "   macro avg       0.25      0.22      0.24        97\n",
      "weighted avg       1.00      0.90      0.95        97\n",
      "\n"
     ]
    }
   ],
   "source": [
    "print(classification_report(y_pred_monthly_PRES, y_true_monthly_PRES, labels = [1,2,3,4]))"
   ]
  },
  {
   "cell_type": "code",
   "execution_count": 566,
   "id": "b369b3d5-5ac1-479c-b062-8a7df899132a",
   "metadata": {},
   "outputs": [
    {
     "data": {
      "text/plain": [
       "0.21206696117182053"
      ]
     },
     "execution_count": 566,
     "metadata": {},
     "output_type": "execute_result"
    }
   ],
   "source": [
    "balanced_accuracy_score(y_true_weekly_PRES, y_pred_weekly_PRES)"
   ]
  },
  {
   "cell_type": "code",
   "execution_count": 468,
   "id": "7ff710b5-b95b-49e9-86d8-e8081126a0a5",
   "metadata": {},
   "outputs": [
    {
     "name": "stdout",
     "output_type": "stream",
     "text": [
      "              precision    recall  f1-score   support\n",
      "\n",
      "           1       0.50      0.08      0.14        48\n",
      "           2       0.26      0.27      0.27        22\n",
      "           3       0.18      0.36      0.24        11\n",
      "           4       0.12      0.12      0.12        16\n",
      "           5       0.00      0.00      0.00         0\n",
      "           6       0.00      0.00      0.00         0\n",
      "           7       0.00      0.00      0.00         0\n",
      "           8       0.00      0.00      0.00         0\n",
      "           9       0.00      0.00      0.00         0\n",
      "          10       0.00      0.00      0.00         0\n",
      "          11       0.00      0.00      0.00         0\n",
      "          12       0.00      0.00      0.00         0\n",
      "          14       0.00      0.00      0.00         0\n",
      "\n",
      "   micro avg       0.16      0.16      0.16        97\n",
      "   macro avg       0.08      0.06      0.06        97\n",
      "weighted avg       0.35      0.16      0.18        97\n",
      "\n"
     ]
    }
   ],
   "source": [
    "print(classification_report(y_pred_weekly_PRES, y_true_weekly_PRES, labels = [1,2,3,4,5,6,7,8,9,10,11,12,14]))"
   ]
  },
  {
   "cell_type": "code",
   "execution_count": 469,
   "id": "8d616127-c876-442f-bfa9-15cc4c2e3d37",
   "metadata": {},
   "outputs": [],
   "source": [
    "#balanced_accuracy_score(y_true_monthly_3GLTG,y_pred_monthly_3GLTG)\n",
    "#this one errored"
   ]
  },
  {
   "cell_type": "markdown",
   "id": "723e4f32-cf8d-4225-95a2-29a029b64eb5",
   "metadata": {},
   "source": [
    "KENALL"
   ]
  },
  {
   "cell_type": "code",
   "execution_count": 470,
   "id": "5b02243c-1a35-4615-89d2-4cc29e940ca1",
   "metadata": {},
   "outputs": [
    {
     "data": {
      "text/plain": [
       "0.5625"
      ]
     },
     "execution_count": 470,
     "metadata": {},
     "output_type": "execute_result"
    }
   ],
   "source": [
    "balanced_accuracy_score(y_true_monthly_KENALL,\n",
    "y_pred_monthly_KENALL)"
   ]
  },
  {
   "cell_type": "code",
   "execution_count": 471,
   "id": "2cf70459-98ea-4faa-81e6-8d777e370b5d",
   "metadata": {},
   "outputs": [
    {
     "name": "stdout",
     "output_type": "stream",
     "text": [
      "              precision    recall  f1-score   support\n",
      "\n",
      "           1       0.83      0.60      0.69        42\n",
      "           2       0.29      0.58      0.39        12\n",
      "           3       0.00      0.00      0.00         0\n",
      "           4       0.00      0.00      0.00         0\n",
      "\n",
      "   micro avg       0.59      0.59      0.59        54\n",
      "   macro avg       0.28      0.29      0.27        54\n",
      "weighted avg       0.71      0.59      0.63        54\n",
      "\n"
     ]
    }
   ],
   "source": [
    "print(classification_report(y_pred_monthly_KENALL, y_true_monthly_KENALL, labels = [1,2,3,4]))"
   ]
  },
  {
   "cell_type": "code",
   "execution_count": 567,
   "id": "08237552-ec98-4a2c-9a33-18a6df50c79c",
   "metadata": {},
   "outputs": [
    {
     "data": {
      "text/plain": [
       "0.4476023391812866"
      ]
     },
     "execution_count": 567,
     "metadata": {},
     "output_type": "execute_result"
    }
   ],
   "source": [
    "balanced_accuracy_score(y_true_weekly_KENALL, y_pred_weekly_KENALL)"
   ]
  },
  {
   "cell_type": "code",
   "execution_count": 473,
   "id": "cc492a78-82e1-46b7-aab8-0d81425a5446",
   "metadata": {},
   "outputs": [
    {
     "name": "stdout",
     "output_type": "stream",
     "text": [
      "              precision    recall  f1-score   support\n",
      "\n",
      "           1       1.00      0.12      0.22         8\n",
      "           2       0.00      0.00      0.00         3\n",
      "           3       0.32      0.50      0.39        12\n",
      "           4       0.50      0.26      0.34        19\n",
      "           5       0.20      0.30      0.24        10\n",
      "           6       0.22      1.00      0.36         2\n",
      "           7       0.00      0.00      0.00         0\n",
      "           8       0.00      0.00      0.00         0\n",
      "           9       0.00      0.00      0.00         0\n",
      "          10       0.00      0.00      0.00         0\n",
      "          11       0.00      0.00      0.00         0\n",
      "          12       0.00      0.00      0.00         0\n",
      "          14       0.00      0.00      0.00         0\n",
      "\n",
      "   micro avg       0.31      0.31      0.31        54\n",
      "   macro avg       0.17      0.17      0.12        54\n",
      "weighted avg       0.44      0.31      0.30        54\n",
      "\n"
     ]
    }
   ],
   "source": [
    "print(classification_report(y_pred_weekly_KENALL, y_true_weekly_KENALL, labels = [1,2,3,4,5,6,7,8,9,10,11,12,14]))"
   ]
  },
  {
   "cell_type": "markdown",
   "id": "a476b050-7c68-4f0f-9f21-c86a407ed5d4",
   "metadata": {},
   "source": [
    "PRIMUS"
   ]
  },
  {
   "cell_type": "code",
   "execution_count": 474,
   "id": "81a0763b-b044-4d2d-99bb-44058bd29400",
   "metadata": {},
   "outputs": [
    {
     "data": {
      "text/plain": [
       "0.5"
      ]
     },
     "execution_count": 474,
     "metadata": {},
     "output_type": "execute_result"
    }
   ],
   "source": [
    "balanced_accuracy_score(y_true_monthly_PRIMUS,\n",
    "y_pred_monthly_PRIMUS)"
   ]
  },
  {
   "cell_type": "code",
   "execution_count": 475,
   "id": "23cec8a8-bcc7-4a56-aad1-57fff1bdf2a8",
   "metadata": {},
   "outputs": [
    {
     "name": "stdout",
     "output_type": "stream",
     "text": [
      "              precision    recall  f1-score   support\n",
      "\n",
      "           1       1.00      0.50      0.67         2\n",
      "           2       0.00      0.00      0.00         0\n",
      "           3       0.00      0.00      0.00         0\n",
      "           4       0.00      0.00      0.00         0\n",
      "\n",
      "   micro avg       0.50      0.50      0.50         2\n",
      "   macro avg       0.25      0.12      0.17         2\n",
      "weighted avg       1.00      0.50      0.67         2\n",
      "\n"
     ]
    }
   ],
   "source": [
    "print(classification_report(y_pred_monthly_PRIMUS, y_true_monthly_PRIMUS, labels = [1,2,3,4]))"
   ]
  },
  {
   "cell_type": "code",
   "execution_count": 476,
   "id": "b5fec09f-ec24-4dc6-9812-9e5246c541ac",
   "metadata": {},
   "outputs": [
    {
     "data": {
      "text/plain": [
       "0.0"
      ]
     },
     "execution_count": 476,
     "metadata": {},
     "output_type": "execute_result"
    }
   ],
   "source": [
    "balanced_accuracy_score(y_true_weekly_PRIMUS, y_pred_weekly_PRIMUS)"
   ]
  },
  {
   "cell_type": "code",
   "execution_count": 477,
   "id": "2c2d14d5-2f09-4cfd-9781-765271421ee3",
   "metadata": {},
   "outputs": [
    {
     "name": "stdout",
     "output_type": "stream",
     "text": [
      "              precision    recall  f1-score   support\n",
      "\n",
      "           1       0.00      0.00      0.00       1.0\n",
      "           2       0.00      0.00      0.00       1.0\n",
      "           3       0.00      0.00      0.00       0.0\n",
      "           4       0.00      0.00      0.00       0.0\n",
      "           5       0.00      0.00      0.00       0.0\n",
      "           6       0.00      0.00      0.00       0.0\n",
      "           7       0.00      0.00      0.00       0.0\n",
      "           8       0.00      0.00      0.00       0.0\n",
      "           9       0.00      0.00      0.00       0.0\n",
      "          10       0.00      0.00      0.00       0.0\n",
      "          11       0.00      0.00      0.00       0.0\n",
      "          12       0.00      0.00      0.00       0.0\n",
      "          14       0.00      0.00      0.00       0.0\n",
      "\n",
      "   micro avg       0.00      0.00      0.00       2.0\n",
      "   macro avg       0.00      0.00      0.00       2.0\n",
      "weighted avg       0.00      0.00      0.00       2.0\n",
      "\n"
     ]
    }
   ],
   "source": [
    "print(classification_report(y_pred_weekly_PRIMUS, y_true_weekly_PRIMUS, labels = [1,2,3,4,5,6,7,8,9,10,11,12,14]))"
   ]
  },
  {
   "cell_type": "markdown",
   "id": "a02670d6-7dcf-4dfc-9d72-be5289b0fb69",
   "metadata": {},
   "source": [
    "EXI"
   ]
  },
  {
   "cell_type": "code",
   "execution_count": 478,
   "id": "7456a232-770b-442c-8c01-1355f3e6050b",
   "metadata": {},
   "outputs": [
    {
     "data": {
      "text/plain": [
       "0.75"
      ]
     },
     "execution_count": 478,
     "metadata": {},
     "output_type": "execute_result"
    }
   ],
   "source": [
    "balanced_accuracy_score(y_true_monthly_EXI,\n",
    "y_pred_monthly_EXI)"
   ]
  },
  {
   "cell_type": "code",
   "execution_count": 479,
   "id": "beffe96e-10f4-4f2f-b858-de715e8ad832",
   "metadata": {},
   "outputs": [
    {
     "name": "stdout",
     "output_type": "stream",
     "text": [
      "              precision    recall  f1-score   support\n",
      "\n",
      "           1       1.00      0.83      0.91         6\n",
      "           2       0.50      1.00      0.67         1\n",
      "           3       0.00      0.00      0.00         0\n",
      "           4       0.00      0.00      0.00         0\n",
      "\n",
      "   micro avg       0.86      0.86      0.86         7\n",
      "   macro avg       0.38      0.46      0.39         7\n",
      "weighted avg       0.93      0.86      0.87         7\n",
      "\n"
     ]
    }
   ],
   "source": [
    "print(classification_report(y_pred_monthly_EXI, y_true_monthly_EXI, labels = [1,2,3,4]))"
   ]
  },
  {
   "cell_type": "code",
   "execution_count": 480,
   "id": "183cf0f1-0b5b-4784-b932-e4905c31a23d",
   "metadata": {},
   "outputs": [
    {
     "data": {
      "text/plain": [
       "0.0"
      ]
     },
     "execution_count": 480,
     "metadata": {},
     "output_type": "execute_result"
    }
   ],
   "source": [
    "balanced_accuracy_score(y_true_weekly_PRIMUS, y_pred_weekly_PRIMUS)"
   ]
  },
  {
   "cell_type": "code",
   "execution_count": 481,
   "id": "0259ef53-6efd-4afd-9b76-7199b211f266",
   "metadata": {},
   "outputs": [
    {
     "name": "stdout",
     "output_type": "stream",
     "text": [
      "              precision    recall  f1-score   support\n",
      "\n",
      "           1       0.00      0.00      0.00         0\n",
      "           2       0.00      0.00      0.00         1\n",
      "           3       1.00      0.67      0.80         3\n",
      "           4       0.50      0.50      0.50         2\n",
      "           5       0.00      0.00      0.00         1\n",
      "           6       0.00      0.00      0.00         0\n",
      "           7       0.00      0.00      0.00         0\n",
      "           8       0.00      0.00      0.00         0\n",
      "           9       0.00      0.00      0.00         0\n",
      "          10       0.00      0.00      0.00         0\n",
      "          11       0.00      0.00      0.00         0\n",
      "          12       0.00      0.00      0.00         0\n",
      "          14       0.00      0.00      0.00         0\n",
      "\n",
      "   micro avg       0.43      0.43      0.43         7\n",
      "   macro avg       0.12      0.09      0.10         7\n",
      "weighted avg       0.57      0.43      0.49         7\n",
      "\n"
     ]
    }
   ],
   "source": [
    "print(classification_report(y_pred_weekly_EXI, y_true_weekly_EXI, labels = [1,2,3,4,5,6,7,8,9,10,11,12,14]))"
   ]
  },
  {
   "cell_type": "markdown",
   "id": "bf410ce9-826e-4040-8c73-f67129b15243",
   "metadata": {},
   "source": [
    "VAL"
   ]
  },
  {
   "cell_type": "code",
   "execution_count": 482,
   "id": "a25248f0-ffad-4919-92a4-5fcf618157e4",
   "metadata": {},
   "outputs": [
    {
     "data": {
      "text/plain": [
       "0.6011904761904762"
      ]
     },
     "execution_count": 482,
     "metadata": {},
     "output_type": "execute_result"
    }
   ],
   "source": [
    "balanced_accuracy_score(y_true_monthly_VAL,\n",
    "y_pred_monthly_VAL)"
   ]
  },
  {
   "cell_type": "code",
   "execution_count": 483,
   "id": "f7c14e03-c602-4b06-8afe-655891b6823a",
   "metadata": {},
   "outputs": [
    {
     "name": "stdout",
     "output_type": "stream",
     "text": [
      "              precision    recall  f1-score   support\n",
      "\n",
      "           1       0.96      0.64      0.77        42\n",
      "           2       0.24      0.83      0.37         6\n",
      "           3       0.00      0.00      0.00         1\n",
      "           4       0.00      0.00      0.00         0\n",
      "\n",
      "   micro avg       0.65      0.65      0.65        49\n",
      "   macro avg       0.30      0.37      0.29        49\n",
      "weighted avg       0.86      0.65      0.71        49\n",
      "\n"
     ]
    }
   ],
   "source": [
    "print(classification_report(y_pred_monthly_VAL, y_true_monthly_VAL, labels = [1,2,3,4]))"
   ]
  },
  {
   "cell_type": "code",
   "execution_count": 484,
   "id": "1aeb357b-2bd3-449a-b1eb-b0bee86a5a86",
   "metadata": {},
   "outputs": [
    {
     "data": {
      "text/plain": [
       "0.4333444333444333"
      ]
     },
     "execution_count": 484,
     "metadata": {},
     "output_type": "execute_result"
    }
   ],
   "source": [
    "balanced_accuracy_score(y_true_weekly_VAL, y_pred_weekly_VAL)"
   ]
  },
  {
   "cell_type": "code",
   "execution_count": 485,
   "id": "21cf7768-e2ef-4b27-b745-d40df577e6f1",
   "metadata": {},
   "outputs": [
    {
     "name": "stdout",
     "output_type": "stream",
     "text": [
      "              precision    recall  f1-score   support\n",
      "\n",
      "           1       1.00      0.10      0.18        10\n",
      "           2       1.00      0.08      0.15        12\n",
      "           3       0.54      0.44      0.48        16\n",
      "           4       0.00      0.00      0.00         4\n",
      "           5       0.22      1.00      0.36         2\n",
      "           6       0.27      1.00      0.43         3\n",
      "           7       0.00      0.00      0.00         0\n",
      "           8       0.00      0.00      0.00         1\n",
      "           9       0.00      0.00      0.00         0\n",
      "          10       0.00      0.00      0.00         1\n",
      "          11       0.00      0.00      0.00         0\n",
      "          12       0.00      0.00      0.00         0\n",
      "          14       0.00      0.00      0.00         0\n",
      "\n",
      "   micro avg       0.29      0.29      0.29        49\n",
      "   macro avg       0.23      0.20      0.12        49\n",
      "weighted avg       0.65      0.29      0.27        49\n",
      "\n"
     ]
    }
   ],
   "source": [
    "print(classification_report(y_pred_weekly_VAL, y_true_weekly_VAL, labels = [1,2,3,4,5,6,7,8,9,10,11,12,14]))"
   ]
  },
  {
   "cell_type": "markdown",
   "id": "ade74d41-7fc0-4426-a5eb-6ef5796aaec0",
   "metadata": {},
   "source": [
    "NONE_RESELL"
   ]
  },
  {
   "cell_type": "code",
   "execution_count": 486,
   "id": "a70972ea-6064-4b4b-bf10-1387566045bf",
   "metadata": {},
   "outputs": [
    {
     "data": {
      "text/plain": [
       "0.4545454545454546"
      ]
     },
     "execution_count": 486,
     "metadata": {},
     "output_type": "execute_result"
    }
   ],
   "source": [
    "balanced_accuracy_score(y_true_monthly_NONE_RESELL,\n",
    "y_pred_monthly_NONE_RESELL)"
   ]
  },
  {
   "cell_type": "code",
   "execution_count": 487,
   "id": "8ef9c316-e29a-4b69-ad5c-9a4b1eb638e7",
   "metadata": {},
   "outputs": [
    {
     "name": "stdout",
     "output_type": "stream",
     "text": [
      "              precision    recall  f1-score   support\n",
      "\n",
      "           1       1.00      0.53      0.69        19\n",
      "           2       0.36      1.00      0.53         4\n",
      "           3       0.00      0.00      0.00         0\n",
      "           4       0.00      0.00      0.00         0\n",
      "\n",
      "   micro avg       0.61      0.61      0.61        23\n",
      "   macro avg       0.34      0.38      0.31        23\n",
      "weighted avg       0.89      0.61      0.66        23\n",
      "\n"
     ]
    }
   ],
   "source": [
    "print(classification_report(y_pred_monthly_NONE_RESELL, y_true_monthly_NONE_RESELL, labels = [1,2,3,4]))"
   ]
  },
  {
   "cell_type": "code",
   "execution_count": 488,
   "id": "5dd2812f-b60d-411f-9436-d72887d03e60",
   "metadata": {},
   "outputs": [
    {
     "data": {
      "text/plain": [
       "0.21428571428571427"
      ]
     },
     "execution_count": 488,
     "metadata": {},
     "output_type": "execute_result"
    }
   ],
   "source": [
    "balanced_accuracy_score(y_true_weekly_NONE_RESELL, y_pred_weekly_NONE_RESELL)"
   ]
  },
  {
   "cell_type": "code",
   "execution_count": 489,
   "id": "c7a78375-5016-4b4c-9092-38dc54d95ffd",
   "metadata": {},
   "outputs": [
    {
     "name": "stdout",
     "output_type": "stream",
     "text": [
      "              precision    recall  f1-score   support\n",
      "\n",
      "           1       0.25      0.33      0.29         3\n",
      "           2       0.00      0.00      0.00         0\n",
      "           3       0.00      0.00      0.00         2\n",
      "           4       1.00      0.14      0.25        14\n",
      "           5       0.25      0.50      0.33         4\n",
      "           6       0.00      0.00      0.00         0\n",
      "           7       0.00      0.00      0.00         0\n",
      "           8       0.00      0.00      0.00         0\n",
      "           9       0.00      0.00      0.00         0\n",
      "          10       0.00      0.00      0.00         0\n",
      "          11       0.00      0.00      0.00         0\n",
      "          12       0.00      0.00      0.00         0\n",
      "          14       0.00      0.00      0.00         0\n",
      "\n",
      "   micro avg       0.22      0.22      0.22        23\n",
      "   macro avg       0.12      0.08      0.07        23\n",
      "weighted avg       0.68      0.22      0.25        23\n",
      "\n"
     ]
    }
   ],
   "source": [
    "print(classification_report(y_pred_weekly_NONE_RESELL, y_true_weekly_NONE_RESELL, labels = [1,2,3,4,5,6,7,8,9,10,11,12,14]))"
   ]
  },
  {
   "cell_type": "markdown",
   "id": "0ec0277e-50db-4ec8-bf8b-4ec47bf88508",
   "metadata": {},
   "source": [
    "INSIGHT"
   ]
  },
  {
   "cell_type": "code",
   "execution_count": 490,
   "id": "f799558e-a9b8-4ba4-87eb-8eb3795e2140",
   "metadata": {},
   "outputs": [
    {
     "data": {
      "text/plain": [
       "1.0"
      ]
     },
     "execution_count": 490,
     "metadata": {},
     "output_type": "execute_result"
    }
   ],
   "source": [
    "balanced_accuracy_score(y_true_monthly_INSIGHT,\n",
    "y_pred_monthly_INSIGHT)"
   ]
  },
  {
   "cell_type": "code",
   "execution_count": 491,
   "id": "599d7bcd-4a17-4314-aa3d-2ccf2541363e",
   "metadata": {},
   "outputs": [
    {
     "name": "stdout",
     "output_type": "stream",
     "text": [
      "              precision    recall  f1-score   support\n",
      "\n",
      "           1       1.00      1.00      1.00         4\n",
      "           2       0.00      0.00      0.00         0\n",
      "           3       0.00      0.00      0.00         0\n",
      "           4       0.00      0.00      0.00         0\n",
      "\n",
      "   micro avg       1.00      1.00      1.00         4\n",
      "   macro avg       0.25      0.25      0.25         4\n",
      "weighted avg       1.00      1.00      1.00         4\n",
      "\n"
     ]
    }
   ],
   "source": [
    "print(classification_report(y_pred_monthly_INSIGHT, y_true_monthly_INSIGHT, labels = [1,2,3,4]))"
   ]
  },
  {
   "cell_type": "code",
   "execution_count": 492,
   "id": "3615b4e3-6c3a-4f15-a8f9-a50295e9ab75",
   "metadata": {},
   "outputs": [
    {
     "data": {
      "text/plain": [
       "1.0"
      ]
     },
     "execution_count": 492,
     "metadata": {},
     "output_type": "execute_result"
    }
   ],
   "source": [
    "balanced_accuracy_score(y_true_weekly_INSIGHT, y_pred_weekly_INSIGHT)"
   ]
  },
  {
   "cell_type": "code",
   "execution_count": 493,
   "id": "9e080077-574b-4adc-96da-89a9e830498a",
   "metadata": {},
   "outputs": [
    {
     "name": "stdout",
     "output_type": "stream",
     "text": [
      "              precision    recall  f1-score   support\n",
      "\n",
      "           1       1.00      1.00      1.00         4\n",
      "           2       0.00      0.00      0.00         0\n",
      "           3       0.00      0.00      0.00         0\n",
      "           4       0.00      0.00      0.00         0\n",
      "           5       0.00      0.00      0.00         0\n",
      "           6       0.00      0.00      0.00         0\n",
      "           7       0.00      0.00      0.00         0\n",
      "           8       0.00      0.00      0.00         0\n",
      "           9       0.00      0.00      0.00         0\n",
      "          10       0.00      0.00      0.00         0\n",
      "          11       0.00      0.00      0.00         0\n",
      "          12       0.00      0.00      0.00         0\n",
      "          14       0.00      0.00      0.00         0\n",
      "\n",
      "   micro avg       1.00      1.00      1.00         4\n",
      "   macro avg       0.08      0.08      0.08         4\n",
      "weighted avg       1.00      1.00      1.00         4\n",
      "\n"
     ]
    }
   ],
   "source": [
    "print(classification_report(y_pred_weekly_INSIGHT, y_true_weekly_INSIGHT, labels = [1,2,3,4,5,6,7,8,9,10,11,12,14]))"
   ]
  },
  {
   "cell_type": "markdown",
   "id": "52ce9fe7-5e04-46b3-aaca-9d17b569da86",
   "metadata": {},
   "source": [
    "OXYGEN"
   ]
  },
  {
   "cell_type": "code",
   "execution_count": 494,
   "id": "c4c3bbe1-b19d-47cc-8d97-7840eb0b34de",
   "metadata": {},
   "outputs": [
    {
     "data": {
      "text/plain": [
       "0.75"
      ]
     },
     "execution_count": 494,
     "metadata": {},
     "output_type": "execute_result"
    }
   ],
   "source": [
    "balanced_accuracy_score(y_true_monthly_OXYGEN,\n",
    "y_pred_monthly_OXYGEN)"
   ]
  },
  {
   "cell_type": "code",
   "execution_count": 495,
   "id": "b1318942-8a5a-4070-a7e7-3f03b19d8547",
   "metadata": {},
   "outputs": [
    {
     "name": "stdout",
     "output_type": "stream",
     "text": [
      "              precision    recall  f1-score   support\n",
      "\n",
      "           1       1.00      0.80      0.89         5\n",
      "           2       0.50      1.00      0.67         1\n",
      "           3       0.00      0.00      0.00         0\n",
      "           4       0.00      0.00      0.00         0\n",
      "\n",
      "   micro avg       0.83      0.83      0.83         6\n",
      "   macro avg       0.38      0.45      0.39         6\n",
      "weighted avg       0.92      0.83      0.85         6\n",
      "\n"
     ]
    }
   ],
   "source": [
    "print(classification_report(y_pred_monthly_OXYGEN, y_true_monthly_OXYGEN, labels = [1,2,3,4]))"
   ]
  },
  {
   "cell_type": "code",
   "execution_count": 496,
   "id": "9cf78a91-6205-4bc0-bbae-4b85c4b48260",
   "metadata": {},
   "outputs": [
    {
     "data": {
      "text/plain": [
       "0.0"
      ]
     },
     "execution_count": 496,
     "metadata": {},
     "output_type": "execute_result"
    }
   ],
   "source": [
    "balanced_accuracy_score(y_true_weekly_OXYGEN, y_pred_weekly_OXYGEN)"
   ]
  },
  {
   "cell_type": "code",
   "execution_count": 497,
   "id": "ebb67ac9-9197-4f96-be55-8d1800365b6e",
   "metadata": {},
   "outputs": [
    {
     "name": "stdout",
     "output_type": "stream",
     "text": [
      "              precision    recall  f1-score   support\n",
      "\n",
      "           1       0.00      0.00      0.00       1.0\n",
      "           2       0.00      0.00      0.00       0.0\n",
      "           3       0.00      0.00      0.00       4.0\n",
      "           4       0.00      0.00      0.00       0.0\n",
      "           5       0.00      0.00      0.00       1.0\n",
      "           6       0.00      0.00      0.00       0.0\n",
      "           7       0.00      0.00      0.00       0.0\n",
      "           8       0.00      0.00      0.00       0.0\n",
      "           9       0.00      0.00      0.00       0.0\n",
      "          10       0.00      0.00      0.00       0.0\n",
      "          11       0.00      0.00      0.00       0.0\n",
      "          12       0.00      0.00      0.00       0.0\n",
      "          14       0.00      0.00      0.00       0.0\n",
      "\n",
      "   micro avg       0.00      0.00      0.00       6.0\n",
      "   macro avg       0.00      0.00      0.00       6.0\n",
      "weighted avg       0.00      0.00      0.00       6.0\n",
      "\n"
     ]
    }
   ],
   "source": [
    "print(classification_report(y_pred_weekly_OXYGEN, y_true_weekly_OXYGEN, labels = [1,2,3,4,5,6,7,8,9,10,11,12,14]))"
   ]
  },
  {
   "cell_type": "markdown",
   "id": "4d5d4646-30b4-43bc-9a20-7627d7b008dd",
   "metadata": {},
   "source": [
    "WATT"
   ]
  },
  {
   "cell_type": "code",
   "execution_count": 498,
   "id": "fbce21b6-89d0-4188-8d6d-40b8144a2299",
   "metadata": {},
   "outputs": [
    {
     "data": {
      "text/plain": [
       "1.0"
      ]
     },
     "execution_count": 498,
     "metadata": {},
     "output_type": "execute_result"
    }
   ],
   "source": [
    "balanced_accuracy_score(y_true_monthly_WATT,\n",
    "y_pred_monthly_WATT)"
   ]
  },
  {
   "cell_type": "code",
   "execution_count": 499,
   "id": "d594f3f1-0736-43ee-acf2-88b556bd57dc",
   "metadata": {},
   "outputs": [
    {
     "name": "stdout",
     "output_type": "stream",
     "text": [
      "              precision    recall  f1-score   support\n",
      "\n",
      "           1       1.00      1.00      1.00         4\n",
      "           2       0.00      0.00      0.00         0\n",
      "           3       0.00      0.00      0.00         0\n",
      "           4       0.00      0.00      0.00         0\n",
      "\n",
      "   micro avg       1.00      1.00      1.00         4\n",
      "   macro avg       0.25      0.25      0.25         4\n",
      "weighted avg       1.00      1.00      1.00         4\n",
      "\n"
     ]
    }
   ],
   "source": [
    "print(classification_report(y_pred_monthly_WATT, y_true_monthly_WATT, labels = [1,2,3,4]))"
   ]
  },
  {
   "cell_type": "code",
   "execution_count": 500,
   "id": "8032c181-ef6e-4886-8a0d-b4807a9dc1cf",
   "metadata": {},
   "outputs": [
    {
     "data": {
      "text/plain": [
       "0.0"
      ]
     },
     "execution_count": 500,
     "metadata": {},
     "output_type": "execute_result"
    }
   ],
   "source": [
    "balanced_accuracy_score(y_true_weekly_WATT, y_pred_weekly_WATT)"
   ]
  },
  {
   "cell_type": "code",
   "execution_count": 501,
   "id": "95d7e38d-5e91-4dd8-a744-de8a62aa0a9c",
   "metadata": {},
   "outputs": [
    {
     "name": "stdout",
     "output_type": "stream",
     "text": [
      "              precision    recall  f1-score   support\n",
      "\n",
      "           1       0.00      0.00      0.00       4.0\n",
      "           2       0.00      0.00      0.00       0.0\n",
      "           3       0.00      0.00      0.00       0.0\n",
      "           4       0.00      0.00      0.00       0.0\n",
      "           5       0.00      0.00      0.00       0.0\n",
      "           6       0.00      0.00      0.00       0.0\n",
      "           7       0.00      0.00      0.00       0.0\n",
      "           8       0.00      0.00      0.00       0.0\n",
      "           9       0.00      0.00      0.00       0.0\n",
      "          10       0.00      0.00      0.00       0.0\n",
      "          11       0.00      0.00      0.00       0.0\n",
      "          12       0.00      0.00      0.00       0.0\n",
      "          14       0.00      0.00      0.00       0.0\n",
      "\n",
      "   micro avg       0.00      0.00      0.00       4.0\n",
      "   macro avg       0.00      0.00      0.00       4.0\n",
      "weighted avg       0.00      0.00      0.00       4.0\n",
      "\n"
     ]
    }
   ],
   "source": [
    "print(classification_report(y_pred_weekly_WATT, y_true_weekly_WATT, labels = [1,2,3,4,5,6,7,8,9,10,11,12,14]))"
   ]
  },
  {
   "cell_type": "markdown",
   "id": "6cf04bdc-cd3a-40e0-95c5-eebd52e59869",
   "metadata": {},
   "source": [
    "PINNACLE"
   ]
  },
  {
   "cell_type": "code",
   "execution_count": 502,
   "id": "add345f7-6248-45ba-b1d2-1e2a3b1cecc1",
   "metadata": {},
   "outputs": [
    {
     "data": {
      "text/plain": [
       "0.43333333333333335"
      ]
     },
     "execution_count": 502,
     "metadata": {},
     "output_type": "execute_result"
    }
   ],
   "source": [
    "balanced_accuracy_score(y_true_monthly_PINNACLE,\n",
    "y_pred_monthly_PINNACLE)"
   ]
  },
  {
   "cell_type": "code",
   "execution_count": 503,
   "id": "9eabf021-5750-4945-80a3-8355f11b3ff2",
   "metadata": {},
   "outputs": [
    {
     "name": "stdout",
     "output_type": "stream",
     "text": [
      "              precision    recall  f1-score   support\n",
      "\n",
      "           1       0.20      0.50      0.29         2\n",
      "           2       0.67      0.40      0.50         5\n",
      "           3       0.00      0.00      0.00         0\n",
      "           4       0.00      0.00      0.00         1\n",
      "\n",
      "   micro avg       0.38      0.38      0.38         8\n",
      "   macro avg       0.22      0.23      0.20         8\n",
      "weighted avg       0.47      0.38      0.38         8\n",
      "\n"
     ]
    }
   ],
   "source": [
    "print(classification_report(y_pred_monthly_PINNACLE, y_true_monthly_PINNACLE, labels = [1,2,3,4]))"
   ]
  },
  {
   "cell_type": "code",
   "execution_count": 504,
   "id": "a077ecae-59be-45a7-8b12-3885cd4215d9",
   "metadata": {},
   "outputs": [
    {
     "data": {
      "text/plain": [
       "0.25"
      ]
     },
     "execution_count": 504,
     "metadata": {},
     "output_type": "execute_result"
    }
   ],
   "source": [
    "balanced_accuracy_score(y_true_weekly_PINNACLE, y_pred_weekly_PINNACLE)"
   ]
  },
  {
   "cell_type": "code",
   "execution_count": 505,
   "id": "196b0732-8c4d-4c3d-a3a1-61f913d4b7a0",
   "metadata": {},
   "outputs": [
    {
     "name": "stdout",
     "output_type": "stream",
     "text": [
      "              precision    recall  f1-score   support\n",
      "\n",
      "           1       0.25      1.00      0.40         1\n",
      "           2       0.00      0.00      0.00         1\n",
      "           3       0.00      0.00      0.00         0\n",
      "           4       0.00      0.00      0.00         0\n",
      "           5       0.00      0.00      0.00         0\n",
      "           6       0.00      0.00      0.00         1\n",
      "           7       0.00      0.00      0.00         1\n",
      "           8       1.00      0.33      0.50         3\n",
      "           9       0.00      0.00      0.00         0\n",
      "          10       0.00      0.00      0.00         0\n",
      "          11       0.00      0.00      0.00         0\n",
      "          12       0.00      0.00      0.00         0\n",
      "          14       0.00      0.00      0.00         1\n",
      "\n",
      "   micro avg       0.25      0.25      0.25         8\n",
      "   macro avg       0.10      0.10      0.07         8\n",
      "weighted avg       0.41      0.25      0.24         8\n",
      "\n"
     ]
    }
   ],
   "source": [
    "print(classification_report(y_pred_weekly_PINNACLE, y_true_weekly_PINNACLE, labels = [1,2,3,4,5,6,7,8,9,10,11,12,14]))"
   ]
  },
  {
   "cell_type": "markdown",
   "id": "594a5a37-9bda-4e89-8974-5852850e6e33",
   "metadata": {},
   "source": [
    "DELTA"
   ]
  },
  {
   "cell_type": "code",
   "execution_count": 506,
   "id": "78b8fc26-ce8c-45aa-8569-84742baf229b",
   "metadata": {},
   "outputs": [
    {
     "data": {
      "text/plain": [
       "0.0"
      ]
     },
     "execution_count": 506,
     "metadata": {},
     "output_type": "execute_result"
    }
   ],
   "source": [
    "balanced_accuracy_score(y_true_monthly_DELTA,\n",
    "y_pred_monthly_DELTA)"
   ]
  },
  {
   "cell_type": "code",
   "execution_count": 507,
   "id": "0f86535b-1e3d-4257-baf2-5cce1d9c82c2",
   "metadata": {},
   "outputs": [
    {
     "name": "stdout",
     "output_type": "stream",
     "text": [
      "              precision    recall  f1-score   support\n",
      "\n",
      "           1       0.00      0.00      0.00       0.0\n",
      "           2       0.00      0.00      0.00       1.0\n",
      "           3       0.00      0.00      0.00       0.0\n",
      "           4       0.00      0.00      0.00       0.0\n",
      "\n",
      "   micro avg       0.00      0.00      0.00       1.0\n",
      "   macro avg       0.00      0.00      0.00       1.0\n",
      "weighted avg       0.00      0.00      0.00       1.0\n",
      "\n"
     ]
    }
   ],
   "source": [
    "print(classification_report(y_pred_monthly_DELTA, y_true_monthly_DELTA, labels = [1,2,3,4]))"
   ]
  },
  {
   "cell_type": "code",
   "execution_count": 508,
   "id": "cf096ddb-52c4-42f3-9a74-1ede0e20a29b",
   "metadata": {},
   "outputs": [
    {
     "data": {
      "text/plain": [
       "0.0"
      ]
     },
     "execution_count": 508,
     "metadata": {},
     "output_type": "execute_result"
    }
   ],
   "source": [
    "balanced_accuracy_score(y_true_weekly_DELTA, y_pred_weekly_DELTA)"
   ]
  },
  {
   "cell_type": "code",
   "execution_count": 509,
   "id": "d6ea8225-6059-4290-91be-8baa8581c992",
   "metadata": {},
   "outputs": [
    {
     "name": "stdout",
     "output_type": "stream",
     "text": [
      "              precision    recall  f1-score   support\n",
      "\n",
      "           1       0.00      0.00      0.00       0.0\n",
      "           2       0.00      0.00      0.00       0.0\n",
      "           3       0.00      0.00      0.00       0.0\n",
      "           4       0.00      0.00      0.00       0.0\n",
      "           5       0.00      0.00      0.00       1.0\n",
      "           6       0.00      0.00      0.00       0.0\n",
      "           7       0.00      0.00      0.00       0.0\n",
      "           8       0.00      0.00      0.00       0.0\n",
      "           9       0.00      0.00      0.00       0.0\n",
      "          10       0.00      0.00      0.00       0.0\n",
      "          11       0.00      0.00      0.00       0.0\n",
      "          12       0.00      0.00      0.00       0.0\n",
      "          14       0.00      0.00      0.00       0.0\n",
      "\n",
      "   micro avg       0.00      0.00      0.00       1.0\n",
      "   macro avg       0.00      0.00      0.00       1.0\n",
      "weighted avg       0.00      0.00      0.00       1.0\n",
      "\n"
     ]
    }
   ],
   "source": [
    "print(classification_report(y_pred_weekly_DELTA, y_true_weekly_DELTA, labels = [1,2,3,4,5,6,7,8,9,10,11,12,14]))"
   ]
  },
  {
   "cell_type": "markdown",
   "id": "aa8ea31a-105d-4251-9219-ace600694dad",
   "metadata": {},
   "source": [
    "LUMETTA"
   ]
  },
  {
   "cell_type": "code",
   "execution_count": 510,
   "id": "7285f947-54f2-4d81-9da7-ae0e59c9758e",
   "metadata": {},
   "outputs": [
    {
     "data": {
      "text/plain": [
       "0.5"
      ]
     },
     "execution_count": 510,
     "metadata": {},
     "output_type": "execute_result"
    }
   ],
   "source": [
    "balanced_accuracy_score(y_true_monthly_LUMETTA,\n",
    "y_pred_monthly_LUMETTA)"
   ]
  },
  {
   "cell_type": "code",
   "execution_count": 511,
   "id": "66d90c6f-33fd-4557-a59e-d27888d52a48",
   "metadata": {},
   "outputs": [
    {
     "name": "stdout",
     "output_type": "stream",
     "text": [
      "              precision    recall  f1-score   support\n",
      "\n",
      "           1       1.00      0.50      0.67         2\n",
      "           2       0.00      0.00      0.00         0\n",
      "           3       0.00      0.00      0.00         0\n",
      "           4       0.00      0.00      0.00         0\n",
      "\n",
      "   micro avg       0.50      0.50      0.50         2\n",
      "   macro avg       0.25      0.12      0.17         2\n",
      "weighted avg       1.00      0.50      0.67         2\n",
      "\n"
     ]
    }
   ],
   "source": [
    "print(classification_report(y_pred_monthly_LUMETTA, y_true_monthly_LUMETTA, labels = [1,2,3,4]))"
   ]
  },
  {
   "cell_type": "code",
   "execution_count": 512,
   "id": "b565d5c3-000a-4b9f-8c2a-41a82568fab8",
   "metadata": {},
   "outputs": [
    {
     "data": {
      "text/plain": [
       "0.5"
      ]
     },
     "execution_count": 512,
     "metadata": {},
     "output_type": "execute_result"
    }
   ],
   "source": [
    "balanced_accuracy_score(y_true_weekly_LUMETTA, y_pred_weekly_LUMETTA)"
   ]
  },
  {
   "cell_type": "code",
   "execution_count": 513,
   "id": "55e7e151-f9b1-4ed8-b04f-2a3f67229d0d",
   "metadata": {},
   "outputs": [
    {
     "name": "stdout",
     "output_type": "stream",
     "text": [
      "              precision    recall  f1-score   support\n",
      "\n",
      "           1       1.00      1.00      1.00         1\n",
      "           2       0.00      0.00      0.00         1\n",
      "           3       0.00      0.00      0.00         0\n",
      "           4       0.00      0.00      0.00         0\n",
      "           5       0.00      0.00      0.00         0\n",
      "           6       0.00      0.00      0.00         0\n",
      "           7       0.00      0.00      0.00         0\n",
      "           8       0.00      0.00      0.00         0\n",
      "           9       0.00      0.00      0.00         0\n",
      "          10       0.00      0.00      0.00         0\n",
      "          11       0.00      0.00      0.00         0\n",
      "          12       0.00      0.00      0.00         0\n",
      "          14       0.00      0.00      0.00         0\n",
      "\n",
      "   micro avg       0.50      0.50      0.50         2\n",
      "   macro avg       0.08      0.08      0.08         2\n",
      "weighted avg       0.50      0.50      0.50         2\n",
      "\n"
     ]
    }
   ],
   "source": [
    "print(classification_report(y_pred_weekly_LUMETTA, y_true_weekly_LUMETTA, labels = [1,2,3,4,5,6,7,8,9,10,11,12,14]))"
   ]
  },
  {
   "cell_type": "markdown",
   "id": "9a4235f6-30e2-4eeb-bfa8-3ed0b2ec34e2",
   "metadata": {},
   "source": [
    "FLUX"
   ]
  },
  {
   "cell_type": "code",
   "execution_count": 514,
   "id": "38980ba5-723d-4a70-8e21-638654cf38ae",
   "metadata": {},
   "outputs": [
    {
     "data": {
      "text/plain": [
       "0.5"
      ]
     },
     "execution_count": 514,
     "metadata": {},
     "output_type": "execute_result"
    }
   ],
   "source": [
    "balanced_accuracy_score(y_true_monthly_FLUX,\n",
    "y_pred_monthly_FLUX)"
   ]
  },
  {
   "cell_type": "code",
   "execution_count": 515,
   "id": "fb31a4e3-de5b-4b2f-b02f-18daac9f6a3e",
   "metadata": {},
   "outputs": [
    {
     "name": "stdout",
     "output_type": "stream",
     "text": [
      "              precision    recall  f1-score   support\n",
      "\n",
      "           1       1.00      0.50      0.67         2\n",
      "           2       0.00      0.00      0.00         0\n",
      "           3       0.00      0.00      0.00         0\n",
      "           4       0.00      0.00      0.00         0\n",
      "\n",
      "   micro avg       0.50      0.50      0.50         2\n",
      "   macro avg       0.25      0.12      0.17         2\n",
      "weighted avg       1.00      0.50      0.67         2\n",
      "\n"
     ]
    }
   ],
   "source": [
    "print(classification_report(y_pred_monthly_FLUX, y_true_monthly_FLUX, labels = [1,2,3,4]))"
   ]
  },
  {
   "cell_type": "code",
   "execution_count": 516,
   "id": "458f23c9-7c82-4936-bf45-bdee8886ca42",
   "metadata": {},
   "outputs": [
    {
     "data": {
      "text/plain": [
       "0.5"
      ]
     },
     "execution_count": 516,
     "metadata": {},
     "output_type": "execute_result"
    }
   ],
   "source": [
    "balanced_accuracy_score(y_true_weekly_FLUX, y_pred_weekly_FLUX)"
   ]
  },
  {
   "cell_type": "code",
   "execution_count": 517,
   "id": "e516c04c-135b-41b9-93ca-797d94889ccc",
   "metadata": {},
   "outputs": [
    {
     "name": "stdout",
     "output_type": "stream",
     "text": [
      "              precision    recall  f1-score   support\n",
      "\n",
      "           1       1.00      0.50      0.67         2\n",
      "           2       0.00      0.00      0.00         0\n",
      "           3       0.00      0.00      0.00         0\n",
      "           4       0.00      0.00      0.00         0\n",
      "           5       0.00      0.00      0.00         0\n",
      "           6       0.00      0.00      0.00         0\n",
      "           7       0.00      0.00      0.00         0\n",
      "           8       0.00      0.00      0.00         0\n",
      "           9       0.00      0.00      0.00         0\n",
      "          10       0.00      0.00      0.00         0\n",
      "          11       0.00      0.00      0.00         0\n",
      "          12       0.00      0.00      0.00         0\n",
      "          14       0.00      0.00      0.00         0\n",
      "\n",
      "   micro avg       0.50      0.50      0.50         2\n",
      "   macro avg       0.08      0.04      0.05         2\n",
      "weighted avg       1.00      0.50      0.67         2\n",
      "\n"
     ]
    }
   ],
   "source": [
    "print(classification_report(y_pred_weekly_FLUX, y_true_weekly_FLUX, labels = [1,2,3,4,5,6,7,8,9,10,11,12,14]))"
   ]
  },
  {
   "cell_type": "markdown",
   "id": "85f85627-f369-4632-83f8-7d69f186a7f3",
   "metadata": {},
   "source": [
    "LEOTEK"
   ]
  },
  {
   "cell_type": "code",
   "execution_count": 518,
   "id": "fef9c440-dc22-4610-9039-ec982761701b",
   "metadata": {},
   "outputs": [
    {
     "data": {
      "text/plain": [
       "0.75"
      ]
     },
     "execution_count": 518,
     "metadata": {},
     "output_type": "execute_result"
    }
   ],
   "source": [
    "balanced_accuracy_score(y_true_monthly_LEOTEK,\n",
    "y_pred_monthly_LEOTEK)"
   ]
  },
  {
   "cell_type": "code",
   "execution_count": 519,
   "id": "e14484ee-955e-493f-851f-af44f1d4867b",
   "metadata": {},
   "outputs": [
    {
     "name": "stdout",
     "output_type": "stream",
     "text": [
      "              precision    recall  f1-score   support\n",
      "\n",
      "           1       1.00      0.57      0.73         7\n",
      "           2       0.50      1.00      0.67         3\n",
      "           3       0.00      0.00      0.00         0\n",
      "           4       0.00      0.00      0.00         0\n",
      "\n",
      "   micro avg       0.70      0.70      0.70        10\n",
      "   macro avg       0.38      0.39      0.35        10\n",
      "weighted avg       0.85      0.70      0.71        10\n",
      "\n"
     ]
    }
   ],
   "source": [
    "print(classification_report(y_pred_monthly_LEOTEK, y_true_monthly_LEOTEK, labels = [1,2,3,4]))"
   ]
  },
  {
   "cell_type": "code",
   "execution_count": 520,
   "id": "32a50eef-731b-4609-a17e-e080a7816b31",
   "metadata": {},
   "outputs": [
    {
     "data": {
      "text/plain": [
       "0.0"
      ]
     },
     "execution_count": 520,
     "metadata": {},
     "output_type": "execute_result"
    }
   ],
   "source": [
    "balanced_accuracy_score(y_true_weekly_LEOTEK, y_pred_weekly_LEOTEK)"
   ]
  },
  {
   "cell_type": "code",
   "execution_count": 521,
   "id": "88fede68-abf5-4da8-9128-3f495916a1c7",
   "metadata": {},
   "outputs": [
    {
     "name": "stdout",
     "output_type": "stream",
     "text": [
      "              precision    recall  f1-score   support\n",
      "\n",
      "           1       0.00      0.00      0.00       1.0\n",
      "           2       0.00      0.00      0.00       1.0\n",
      "           3       0.00      0.00      0.00       2.0\n",
      "           4       0.00      0.00      0.00       3.0\n",
      "           5       0.00      0.00      0.00       3.0\n",
      "           6       0.00      0.00      0.00       0.0\n",
      "           7       0.00      0.00      0.00       0.0\n",
      "           8       0.00      0.00      0.00       0.0\n",
      "           9       0.00      0.00      0.00       0.0\n",
      "          10       0.00      0.00      0.00       0.0\n",
      "          11       0.00      0.00      0.00       0.0\n",
      "          12       0.00      0.00      0.00       0.0\n",
      "          14       0.00      0.00      0.00       0.0\n",
      "\n",
      "   micro avg       0.00      0.00      0.00      10.0\n",
      "   macro avg       0.00      0.00      0.00      10.0\n",
      "weighted avg       0.00      0.00      0.00      10.0\n",
      "\n"
     ]
    }
   ],
   "source": [
    "print(classification_report(y_pred_weekly_LEOTEK, y_true_weekly_LEOTEK, labels = [1,2,3,4,5,6,7,8,9,10,11,12,14]))"
   ]
  },
  {
   "cell_type": "markdown",
   "id": "302a794e-2ab4-4dfc-9787-894d5dc49f2f",
   "metadata": {},
   "source": [
    "LUX"
   ]
  },
  {
   "cell_type": "code",
   "execution_count": 522,
   "id": "98fb8ced-cb82-4e5f-bb92-71e12b8461ed",
   "metadata": {},
   "outputs": [
    {
     "data": {
      "text/plain": [
       "0.5"
      ]
     },
     "execution_count": 522,
     "metadata": {},
     "output_type": "execute_result"
    }
   ],
   "source": [
    "balanced_accuracy_score(y_true_monthly_LUX,\n",
    "y_pred_monthly_LUX)"
   ]
  },
  {
   "cell_type": "code",
   "execution_count": 523,
   "id": "a606a4a8-b5f5-4918-8e69-c00c690f8ea4",
   "metadata": {},
   "outputs": [
    {
     "name": "stdout",
     "output_type": "stream",
     "text": [
      "              precision    recall  f1-score   support\n",
      "\n",
      "           1       1.00      0.75      0.86         4\n",
      "           2       0.00      0.00      0.00         0\n",
      "           3       0.00      0.00      0.00         0\n",
      "           4       0.00      0.00      0.00         0\n",
      "\n",
      "   micro avg       0.75      0.75      0.75         4\n",
      "   macro avg       0.25      0.19      0.21         4\n",
      "weighted avg       1.00      0.75      0.86         4\n",
      "\n"
     ]
    }
   ],
   "source": [
    "print(classification_report(y_pred_monthly_LUX, y_true_monthly_LUX, labels = [1,2,3,4]))"
   ]
  },
  {
   "cell_type": "code",
   "execution_count": 524,
   "id": "51e6280c-822f-4077-9f44-e79ebd57f982",
   "metadata": {},
   "outputs": [
    {
     "data": {
      "text/plain": [
       "0.3333333333333333"
      ]
     },
     "execution_count": 524,
     "metadata": {},
     "output_type": "execute_result"
    }
   ],
   "source": [
    "balanced_accuracy_score(y_true_weekly_LUX, y_pred_weekly_LUX)"
   ]
  },
  {
   "cell_type": "code",
   "execution_count": 525,
   "id": "7b261cae-87ae-40ac-b176-599ab91b94bc",
   "metadata": {},
   "outputs": [
    {
     "name": "stdout",
     "output_type": "stream",
     "text": [
      "              precision    recall  f1-score   support\n",
      "\n",
      "           1       0.00      0.00      0.00         1\n",
      "           2       0.00      0.00      0.00         0\n",
      "           3       0.00      0.00      0.00         2\n",
      "           4       1.00      1.00      1.00         1\n",
      "           5       0.00      0.00      0.00         0\n",
      "           6       0.00      0.00      0.00         0\n",
      "           7       0.00      0.00      0.00         0\n",
      "           8       0.00      0.00      0.00         0\n",
      "           9       0.00      0.00      0.00         0\n",
      "          10       0.00      0.00      0.00         0\n",
      "          11       0.00      0.00      0.00         0\n",
      "          12       0.00      0.00      0.00         0\n",
      "          14       0.00      0.00      0.00         0\n",
      "\n",
      "   micro avg       0.25      0.25      0.25         4\n",
      "   macro avg       0.08      0.08      0.08         4\n",
      "weighted avg       0.25      0.25      0.25         4\n",
      "\n"
     ]
    }
   ],
   "source": [
    "print(classification_report(y_pred_weekly_LUX, y_true_weekly_LUX, labels = [1,2,3,4,5,6,7,8,9,10,11,12,14]))"
   ]
  },
  {
   "cell_type": "markdown",
   "id": "4916e8af-030a-4e6a-b37d-1d8ab86954e0",
   "metadata": {},
   "source": [
    "WATTSTOPPER"
   ]
  },
  {
   "cell_type": "code",
   "execution_count": 526,
   "id": "1ef7e872-9e06-489f-8b46-ae49f4ab8fa5",
   "metadata": {},
   "outputs": [
    {
     "data": {
      "text/plain": [
       "1.0"
      ]
     },
     "execution_count": 526,
     "metadata": {},
     "output_type": "execute_result"
    }
   ],
   "source": [
    "balanced_accuracy_score(y_true_monthly_WATTSTOPPER,\n",
    "y_pred_monthly_WATTSTOPPER)"
   ]
  },
  {
   "cell_type": "code",
   "execution_count": 527,
   "id": "4e9679f0-a794-4fbc-aaf4-99c13ff1061b",
   "metadata": {},
   "outputs": [
    {
     "name": "stdout",
     "output_type": "stream",
     "text": [
      "              precision    recall  f1-score   support\n",
      "\n",
      "           1       1.00      1.00      1.00         3\n",
      "           2       0.00      0.00      0.00         0\n",
      "           3       0.00      0.00      0.00         0\n",
      "           4       0.00      0.00      0.00         0\n",
      "\n",
      "   micro avg       1.00      1.00      1.00         3\n",
      "   macro avg       0.25      0.25      0.25         3\n",
      "weighted avg       1.00      1.00      1.00         3\n",
      "\n"
     ]
    }
   ],
   "source": [
    "print(classification_report(y_pred_monthly_WATTSTOPPER, y_true_monthly_WATTSTOPPER, labels = [1,2,3,4]))"
   ]
  },
  {
   "cell_type": "code",
   "execution_count": 528,
   "id": "abe959cd-391e-41ab-bd8f-3d43076765ec",
   "metadata": {},
   "outputs": [
    {
     "data": {
      "text/plain": [
       "0.0"
      ]
     },
     "execution_count": 528,
     "metadata": {},
     "output_type": "execute_result"
    }
   ],
   "source": [
    "balanced_accuracy_score(y_true_weekly_WATTSTOPPER, y_pred_weekly_WATTSTOPPER)"
   ]
  },
  {
   "cell_type": "code",
   "execution_count": 529,
   "id": "a2d113bb-b12d-4a58-af20-56a8d93ac570",
   "metadata": {},
   "outputs": [
    {
     "name": "stdout",
     "output_type": "stream",
     "text": [
      "              precision    recall  f1-score   support\n",
      "\n",
      "           1       0.00      0.00      0.00       3.0\n",
      "           2       0.00      0.00      0.00       0.0\n",
      "           3       0.00      0.00      0.00       0.0\n",
      "           4       0.00      0.00      0.00       0.0\n",
      "           5       0.00      0.00      0.00       0.0\n",
      "           6       0.00      0.00      0.00       0.0\n",
      "           7       0.00      0.00      0.00       0.0\n",
      "           8       0.00      0.00      0.00       0.0\n",
      "           9       0.00      0.00      0.00       0.0\n",
      "          10       0.00      0.00      0.00       0.0\n",
      "          11       0.00      0.00      0.00       0.0\n",
      "          12       0.00      0.00      0.00       0.0\n",
      "          14       0.00      0.00      0.00       0.0\n",
      "\n",
      "   micro avg       0.00      0.00      0.00       3.0\n",
      "   macro avg       0.00      0.00      0.00       3.0\n",
      "weighted avg       0.00      0.00      0.00       3.0\n",
      "\n"
     ]
    }
   ],
   "source": [
    "print(classification_report(y_pred_weekly_WATTSTOPPER, y_true_weekly_WATTSTOPPER, labels = [1,2,3,4,5,6,7,8,9,10,11,12,14]))"
   ]
  },
  {
   "cell_type": "markdown",
   "id": "48d2385e-b871-4ae8-89b3-eebfe14b1f4d",
   "metadata": {},
   "source": [
    "BEUL"
   ]
  },
  {
   "cell_type": "code",
   "execution_count": 530,
   "id": "afb9a22d-531f-49a7-bc6c-63b61dd450dc",
   "metadata": {},
   "outputs": [
    {
     "data": {
      "text/plain": [
       "0.5"
      ]
     },
     "execution_count": 530,
     "metadata": {},
     "output_type": "execute_result"
    }
   ],
   "source": [
    "balanced_accuracy_score(y_true_monthly_BEUL,\n",
    "y_pred_monthly_BEUL)"
   ]
  },
  {
   "cell_type": "code",
   "execution_count": 531,
   "id": "bd307da7-25d1-4a34-a37b-d11fe7b6e12d",
   "metadata": {},
   "outputs": [
    {
     "name": "stdout",
     "output_type": "stream",
     "text": [
      "              precision    recall  f1-score   support\n",
      "\n",
      "           1       1.00      0.75      0.86         4\n",
      "           2       0.00      0.00      0.00         0\n",
      "           3       0.00      0.00      0.00         0\n",
      "           4       0.00      0.00      0.00         0\n",
      "\n",
      "   micro avg       0.75      0.75      0.75         4\n",
      "   macro avg       0.25      0.19      0.21         4\n",
      "weighted avg       1.00      0.75      0.86         4\n",
      "\n"
     ]
    }
   ],
   "source": [
    "print(classification_report(y_pred_monthly_BEUL, y_true_monthly_BEUL, labels = [1,2,3,4]))"
   ]
  },
  {
   "cell_type": "code",
   "execution_count": 532,
   "id": "d272584a-94b8-45f2-b67d-39771ab312e2",
   "metadata": {},
   "outputs": [
    {
     "data": {
      "text/plain": [
       "0.3333333333333333"
      ]
     },
     "execution_count": 532,
     "metadata": {},
     "output_type": "execute_result"
    }
   ],
   "source": [
    "balanced_accuracy_score(y_true_weekly_BEUL, y_pred_weekly_BEUL)"
   ]
  },
  {
   "cell_type": "code",
   "execution_count": 533,
   "id": "3080ab20-8573-4e1a-8334-0a3b5b1235e7",
   "metadata": {},
   "outputs": [
    {
     "name": "stdout",
     "output_type": "stream",
     "text": [
      "              precision    recall  f1-score   support\n",
      "\n",
      "           1       0.00      0.00      0.00         1\n",
      "           2       1.00      0.67      0.80         3\n",
      "           3       0.00      0.00      0.00         0\n",
      "           4       0.00      0.00      0.00         0\n",
      "           5       0.00      0.00      0.00         0\n",
      "           6       0.00      0.00      0.00         0\n",
      "           7       0.00      0.00      0.00         0\n",
      "           8       0.00      0.00      0.00         0\n",
      "           9       0.00      0.00      0.00         0\n",
      "          10       0.00      0.00      0.00         0\n",
      "          11       0.00      0.00      0.00         0\n",
      "          12       0.00      0.00      0.00         0\n",
      "          14       0.00      0.00      0.00         0\n",
      "\n",
      "   micro avg       0.50      0.50      0.50         4\n",
      "   macro avg       0.08      0.05      0.06         4\n",
      "weighted avg       0.75      0.50      0.60         4\n",
      "\n"
     ]
    }
   ],
   "source": [
    "print(classification_report(y_pred_weekly_BEUL, y_true_weekly_BEUL, labels = [1,2,3,4,5,6,7,8,9,10,11,12,14]))"
   ]
  },
  {
   "cell_type": "markdown",
   "id": "01493602-7a1c-4b42-b699-1d63b764777b",
   "metadata": {},
   "source": [
    "HUBBELL INDUSTRIAL LIGHTING"
   ]
  },
  {
   "cell_type": "code",
   "execution_count": 534,
   "id": "716fdaa4-43dd-4689-9b00-1ebfdaade045",
   "metadata": {},
   "outputs": [
    {
     "data": {
      "text/plain": [
       "0.5"
      ]
     },
     "execution_count": 534,
     "metadata": {},
     "output_type": "execute_result"
    }
   ],
   "source": [
    "balanced_accuracy_score(y_true_monthly_HUBBELLINDUSTRIALLIGHTING,\n",
    "y_pred_monthly_HUBBELLINDUSTRIALLIGHTING)"
   ]
  },
  {
   "cell_type": "code",
   "execution_count": 535,
   "id": "04585fb1-5b47-454d-9284-3729b0c8251f",
   "metadata": {},
   "outputs": [
    {
     "name": "stdout",
     "output_type": "stream",
     "text": [
      "              precision    recall  f1-score   support\n",
      "\n",
      "           1       1.00      0.85      0.92        13\n",
      "           2       0.00      0.00      0.00         0\n",
      "           3       0.00      0.00      0.00         0\n",
      "           4       0.00      0.00      0.00         0\n",
      "\n",
      "   micro avg       0.85      0.85      0.85        13\n",
      "   macro avg       0.25      0.21      0.23        13\n",
      "weighted avg       1.00      0.85      0.92        13\n",
      "\n"
     ]
    }
   ],
   "source": [
    "print(classification_report(y_pred_monthly_HUBBELLINDUSTRIALLIGHTING, y_true_monthly_HUBBELLINDUSTRIALLIGHTING, labels = [1,2,3,4]))"
   ]
  },
  {
   "cell_type": "code",
   "execution_count": 536,
   "id": "b59f2aa2-bc16-4be7-81dc-0379b8869dac",
   "metadata": {},
   "outputs": [
    {
     "data": {
      "text/plain": [
       "0.13333333333333333"
      ]
     },
     "execution_count": 536,
     "metadata": {},
     "output_type": "execute_result"
    }
   ],
   "source": [
    "balanced_accuracy_score(y_true_weekly_HUBBELLINDUSTRIALLIGHTING, y_pred_weekly_HUBBELLINDUSTRIALLIGHTING)"
   ]
  },
  {
   "cell_type": "code",
   "execution_count": 537,
   "id": "765a327f-306a-4de9-b4d0-00e15aff25bf",
   "metadata": {},
   "outputs": [
    {
     "name": "stdout",
     "output_type": "stream",
     "text": [
      "              precision    recall  f1-score   support\n",
      "\n",
      "           1       0.00      0.00      0.00         3\n",
      "           2       0.67      0.50      0.57         4\n",
      "           3       0.00      0.00      0.00         4\n",
      "           4       0.00      0.00      0.00         2\n",
      "           5       0.00      0.00      0.00         0\n",
      "           6       0.00      0.00      0.00         0\n",
      "           7       0.00      0.00      0.00         0\n",
      "           8       0.00      0.00      0.00         0\n",
      "           9       0.00      0.00      0.00         0\n",
      "          10       0.00      0.00      0.00         0\n",
      "          11       0.00      0.00      0.00         0\n",
      "          12       0.00      0.00      0.00         0\n",
      "          14       0.00      0.00      0.00         0\n",
      "\n",
      "   micro avg       0.15      0.15      0.15        13\n",
      "   macro avg       0.05      0.04      0.04        13\n",
      "weighted avg       0.21      0.15      0.18        13\n",
      "\n"
     ]
    }
   ],
   "source": [
    "print(classification_report(y_pred_weekly_HUBBELLINDUSTRIALLIGHTING, y_true_weekly_HUBBELLINDUSTRIALLIGHTING, labels = [1,2,3,4,5,6,7,8,9,10,11,12,14]))"
   ]
  },
  {
   "cell_type": "markdown",
   "id": "5a49af88-bbfc-4f85-8892-a66cfb836d22",
   "metadata": {},
   "source": [
    "HUBBELL OUTDOOR LIGHTING"
   ]
  },
  {
   "cell_type": "code",
   "execution_count": 538,
   "id": "e2c4df73-bf14-484a-99ea-804692e33d09",
   "metadata": {},
   "outputs": [
    {
     "data": {
      "text/plain": [
       "0.5"
      ]
     },
     "execution_count": 538,
     "metadata": {},
     "output_type": "execute_result"
    }
   ],
   "source": [
    "balanced_accuracy_score(y_true_monthly_HUBBELLOUTDOORLIGHTING,\n",
    "y_pred_monthly_HUBBELLOUTDOORLIGHTING)"
   ]
  },
  {
   "cell_type": "code",
   "execution_count": 539,
   "id": "ecb665b5-8083-4306-9c78-5a9804dde8f7",
   "metadata": {},
   "outputs": [
    {
     "name": "stdout",
     "output_type": "stream",
     "text": [
      "              precision    recall  f1-score   support\n",
      "\n",
      "           1       1.00      0.92      0.96       106\n",
      "           2       0.00      0.00      0.00         0\n",
      "           3       0.00      0.00      0.00         0\n",
      "           4       0.00      0.00      0.00         0\n",
      "\n",
      "   micro avg       0.92      0.92      0.92       106\n",
      "   macro avg       0.25      0.23      0.24       106\n",
      "weighted avg       1.00      0.92      0.96       106\n",
      "\n"
     ]
    }
   ],
   "source": [
    "print(classification_report(y_pred_monthly_HUBBELLOUTDOORLIGHTING, y_true_monthly_HUBBELLOUTDOORLIGHTING, labels = [1,2,3,4]))"
   ]
  },
  {
   "cell_type": "code",
   "execution_count": 540,
   "id": "7b6eeffd-ecab-4a66-a64d-a46602829beb",
   "metadata": {},
   "outputs": [
    {
     "data": {
      "text/plain": [
       "0.2744860749348828"
      ]
     },
     "execution_count": 540,
     "metadata": {},
     "output_type": "execute_result"
    }
   ],
   "source": [
    "balanced_accuracy_score(y_true_weekly_HUBBELLOUTDOORLIGHTING, y_pred_weekly_HUBBELLOUTDOORLIGHTING)"
   ]
  },
  {
   "cell_type": "code",
   "execution_count": 541,
   "id": "78f696c6-ecae-439b-8fd0-7279dc5a02d9",
   "metadata": {},
   "outputs": [
    {
     "name": "stdout",
     "output_type": "stream",
     "text": [
      "              precision    recall  f1-score   support\n",
      "\n",
      "           1       0.52      0.26      0.34        47\n",
      "           2       0.36      0.22      0.27        23\n",
      "           3       0.30      0.27      0.29        22\n",
      "           4       0.19      0.43      0.27        14\n",
      "           5       0.00      0.00      0.00         0\n",
      "           6       0.00      0.00      0.00         0\n",
      "           7       0.00      0.00      0.00         0\n",
      "           8       0.00      0.00      0.00         0\n",
      "           9       0.00      0.00      0.00         0\n",
      "          10       0.00      0.00      0.00         0\n",
      "          11       0.00      0.00      0.00         0\n",
      "          12       0.00      0.00      0.00         0\n",
      "          14       0.00      0.00      0.00         0\n",
      "\n",
      "   micro avg       0.27      0.27      0.27       106\n",
      "   macro avg       0.11      0.09      0.09       106\n",
      "weighted avg       0.40      0.27      0.31       106\n",
      "\n"
     ]
    }
   ],
   "source": [
    "print(classification_report(y_pred_weekly_HUBBELLOUTDOORLIGHTING, y_true_weekly_HUBBELLOUTDOORLIGHTING, labels = [1,2,3,4,5,6,7,8,9,10,11,12,14]))"
   ]
  },
  {
   "cell_type": "markdown",
   "id": "6d3e52f8-b220-4fd5-9e8e-03c3e40c67fd",
   "metadata": {},
   "source": [
    "HUBBELL CONTROL SOLUTIONS"
   ]
  },
  {
   "cell_type": "code",
   "execution_count": 542,
   "id": "584c236c-9176-4227-875e-926c98ab8e88",
   "metadata": {},
   "outputs": [
    {
     "data": {
      "text/plain": [
       "0.8233333333333333"
      ]
     },
     "execution_count": 542,
     "metadata": {},
     "output_type": "execute_result"
    }
   ],
   "source": [
    "balanced_accuracy_score(y_true_monthly_HUBBELLCONTROLSOLUTIONS,\n",
    "y_pred_monthly_HUBBELLCONTROLSOLUTIONS)"
   ]
  },
  {
   "cell_type": "code",
   "execution_count": 543,
   "id": "f43b615a-64f6-4b4d-bfec-e0bd8b03932d",
   "metadata": {},
   "outputs": [
    {
     "name": "stdout",
     "output_type": "stream",
     "text": [
      "              precision    recall  f1-score   support\n",
      "\n",
      "           1       0.98      0.98      0.98        50\n",
      "           2       0.67      0.67      0.67         3\n",
      "           3       0.00      0.00      0.00         0\n",
      "           4       0.00      0.00      0.00         0\n",
      "\n",
      "   micro avg       0.96      0.96      0.96        53\n",
      "   macro avg       0.41      0.41      0.41        53\n",
      "weighted avg       0.96      0.96      0.96        53\n",
      "\n"
     ]
    }
   ],
   "source": [
    "print(classification_report(y_pred_monthly_HUBBELLCONTROLSOLUTIONS, y_true_monthly_HUBBELLCONTROLSOLUTIONS, labels = [1,2,3,4]))"
   ]
  },
  {
   "cell_type": "code",
   "execution_count": 544,
   "id": "1ee4cb62-3723-40dd-bacc-0db3f26cc58d",
   "metadata": {},
   "outputs": [
    {
     "data": {
      "text/plain": [
       "0.24145021645021644"
      ]
     },
     "execution_count": 544,
     "metadata": {},
     "output_type": "execute_result"
    }
   ],
   "source": [
    "balanced_accuracy_score(y_true_weekly_HUBBELLCONTROLSOLUTIONS, y_pred_weekly_HUBBELLCONTROLSOLUTIONS)"
   ]
  },
  {
   "cell_type": "code",
   "execution_count": 545,
   "id": "47064e59-4dbf-4025-8e03-d03ee7f6d3ff",
   "metadata": {},
   "outputs": [
    {
     "name": "stdout",
     "output_type": "stream",
     "text": [
      "              precision    recall  f1-score   support\n",
      "\n",
      "           1       0.33      0.06      0.10        17\n",
      "           2       0.14      0.14      0.14         7\n",
      "           3       0.27      0.15      0.19        20\n",
      "           4       0.08      0.33      0.13         6\n",
      "           5       0.38      1.00      0.55         3\n",
      "           6       0.00      0.00      0.00         0\n",
      "           7       0.00      0.00      0.00         0\n",
      "           8       0.00      0.00      0.00         0\n",
      "           9       0.00      0.00      0.00         0\n",
      "          10       0.00      0.00      0.00         0\n",
      "          11       0.00      0.00      0.00         0\n",
      "          12       0.00      0.00      0.00         0\n",
      "          14       0.00      0.00      0.00         0\n",
      "\n",
      "   micro avg       0.19      0.19      0.19        53\n",
      "   macro avg       0.09      0.13      0.09        53\n",
      "weighted avg       0.26      0.19      0.17        53\n",
      "\n"
     ]
    }
   ],
   "source": [
    "print(classification_report(y_pred_weekly_HUBBELLCONTROLSOLUTIONS, y_true_weekly_HUBBELLCONTROLSOLUTIONS, labels = [1,2,3,4,5,6,7,8,9,10,11,12,14]))"
   ]
  },
  {
   "cell_type": "markdown",
   "id": "db7df5cf-dc17-463f-929f-0adaa358e751",
   "metadata": {},
   "source": [
    "LITECONTROL"
   ]
  },
  {
   "cell_type": "code",
   "execution_count": 546,
   "id": "e8ff67b2-357c-4c32-add8-5e4ccaf3199f",
   "metadata": {},
   "outputs": [
    {
     "data": {
      "text/plain": [
       "0.5"
      ]
     },
     "execution_count": 546,
     "metadata": {},
     "output_type": "execute_result"
    }
   ],
   "source": [
    "balanced_accuracy_score(y_true_monthly_LITECONTROL,\n",
    "y_pred_monthly_LITECONTROL)"
   ]
  },
  {
   "cell_type": "code",
   "execution_count": 547,
   "id": "dbe21bd9-24da-4d71-bc7d-959f549ccc20",
   "metadata": {},
   "outputs": [
    {
     "name": "stdout",
     "output_type": "stream",
     "text": [
      "              precision    recall  f1-score   support\n",
      "\n",
      "           1       1.00      0.76      0.86        25\n",
      "           2       0.00      0.00      0.00         0\n",
      "           3       0.00      0.00      0.00         0\n",
      "           4       0.00      0.00      0.00         0\n",
      "\n",
      "   micro avg       0.76      0.76      0.76        25\n",
      "   macro avg       0.25      0.19      0.22        25\n",
      "weighted avg       1.00      0.76      0.86        25\n",
      "\n"
     ]
    }
   ],
   "source": [
    "print(classification_report(y_pred_monthly_LITECONTROL, y_true_monthly_LITECONTROL, labels = [1,2,3,4]))"
   ]
  },
  {
   "cell_type": "code",
   "execution_count": 548,
   "id": "45937b84-ada5-4e01-9fc1-8ca603001b97",
   "metadata": {},
   "outputs": [
    {
     "data": {
      "text/plain": [
       "0.13333333333333333"
      ]
     },
     "execution_count": 548,
     "metadata": {},
     "output_type": "execute_result"
    }
   ],
   "source": [
    "balanced_accuracy_score(y_true_weekly_LITECONTROL, y_pred_weekly_LITECONTROL)"
   ]
  },
  {
   "cell_type": "code",
   "execution_count": 549,
   "id": "13588521-b91d-45fe-94fd-c5059316a9a4",
   "metadata": {},
   "outputs": [
    {
     "name": "stdout",
     "output_type": "stream",
     "text": [
      "              precision    recall  f1-score   support\n",
      "\n",
      "           1       0.00      0.00      0.00         8\n",
      "           2       0.67      0.25      0.36         8\n",
      "           3       0.00      0.00      0.00         3\n",
      "           4       0.00      0.00      0.00         6\n",
      "           5       0.00      0.00      0.00         0\n",
      "           6       0.00      0.00      0.00         0\n",
      "           7       0.00      0.00      0.00         0\n",
      "           8       0.00      0.00      0.00         0\n",
      "           9       0.00      0.00      0.00         0\n",
      "          10       0.00      0.00      0.00         0\n",
      "          11       0.00      0.00      0.00         0\n",
      "          12       0.00      0.00      0.00         0\n",
      "          14       0.00      0.00      0.00         0\n",
      "\n",
      "   micro avg       0.08      0.08      0.08        25\n",
      "   macro avg       0.05      0.02      0.03        25\n",
      "weighted avg       0.21      0.08      0.12        25\n",
      "\n"
     ]
    }
   ],
   "source": [
    "print(classification_report(y_pred_weekly_LITECONTROL, y_true_weekly_LITECONTROL, labels = [1,2,3,4,5,6,7,8,9,10,11,12,14]))"
   ]
  },
  {
   "cell_type": "code",
   "execution_count": null,
   "id": "95e8c11d-249d-414f-91bb-67d32df41212",
   "metadata": {},
   "outputs": [],
   "source": []
  },
  {
   "cell_type": "code",
   "execution_count": null,
   "id": "cf2b5e28-503d-4dea-8f45-33047bc78ba5",
   "metadata": {},
   "outputs": [],
   "source": []
  }
 ],
 "metadata": {
  "kernelspec": {
   "display_name": "Python 3",
   "language": "python",
   "name": "python3"
  },
  "language_info": {
   "codemirror_mode": {
    "name": "ipython",
    "version": 3
   },
   "file_extension": ".py",
   "mimetype": "text/x-python",
   "name": "python",
   "nbconvert_exporter": "python",
   "pygments_lexer": "ipython3",
   "version": "3.8.8"
  }
 },
 "nbformat": 4,
 "nbformat_minor": 5
}
